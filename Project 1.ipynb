{
 "cells": [
  {
   "cell_type": "code",
   "execution_count": 86,
   "metadata": {},
   "outputs": [],
   "source": [
    "import pandas as pd\n",
    "import numpy as np\n",
    "\n",
    "import plotly.express as px\n",
    "\n",
    "import matplotlib.pyplot as plt\n",
    "\n",
    "import matplotlib\n",
    "import seaborn as sns\n",
    "from collections import defaultdict\n",
    "\n",
    "%matplotlib inline\n",
    "\n",
    "matplotlib.style.use('ggplot')\n",
    "\n",
    "pd.set_option(\"display.max_columns\", None)"
   ]
  },
  {
   "cell_type": "markdown",
   "metadata": {},
   "source": [
    "**SUMMARY OF PACs**\n"
   ]
  },
  {
   "cell_type": "code",
   "execution_count": 3,
   "metadata": {},
   "outputs": [],
   "source": [
    "headersSum = ['CMTE_ID','CMTE_NM','CMTE_TP','CMTE_DSGN', 'CMTE_FILING_FREQ','TTL_RECEIPTS','TRANS_FROM_AFF','INDV_CONTRIB','OTHER_POL_CMTE_CONTRIB','CAND_CONTRIB','CAND_LOANS','TTL_LOANS_RECEIVED','TTL_DISB','TRANF_TO_AFF','INDV_REFUNDS','OTHER_POL_CMTE_REFUNDS','CAND_LOAN_REPAY','LOAN_REPAY','COH_BOP','COH_COP','DEBTS_OWED_BY','NONFED_TRANS_RECEIVED','CONTRIB_TO_OTHER_CMTE','IND_EXP','PTY_COORD_EXP','NONFED_SHARE_EXP','CVG_END_DT']"
   ]
  },
  {
   "cell_type": "code",
   "execution_count": 4,
   "metadata": {},
   "outputs": [
    {
     "data": {
      "text/html": [
       "<div>\n",
       "<style scoped>\n",
       "    .dataframe tbody tr th:only-of-type {\n",
       "        vertical-align: middle;\n",
       "    }\n",
       "\n",
       "    .dataframe tbody tr th {\n",
       "        vertical-align: top;\n",
       "    }\n",
       "\n",
       "    .dataframe thead th {\n",
       "        text-align: right;\n",
       "    }\n",
       "</style>\n",
       "<table border=\"1\" class=\"dataframe\">\n",
       "  <thead>\n",
       "    <tr style=\"text-align: right;\">\n",
       "      <th></th>\n",
       "      <th>CMTE_ID</th>\n",
       "      <th>CMTE_NM</th>\n",
       "      <th>CMTE_TP</th>\n",
       "      <th>CMTE_DSGN</th>\n",
       "      <th>CMTE_FILING_FREQ</th>\n",
       "      <th>TTL_RECEIPTS</th>\n",
       "      <th>TRANS_FROM_AFF</th>\n",
       "      <th>INDV_CONTRIB</th>\n",
       "      <th>OTHER_POL_CMTE_CONTRIB</th>\n",
       "      <th>CAND_CONTRIB</th>\n",
       "      <th>CAND_LOANS</th>\n",
       "      <th>TTL_LOANS_RECEIVED</th>\n",
       "      <th>TTL_DISB</th>\n",
       "      <th>TRANF_TO_AFF</th>\n",
       "      <th>INDV_REFUNDS</th>\n",
       "      <th>OTHER_POL_CMTE_REFUNDS</th>\n",
       "      <th>CAND_LOAN_REPAY</th>\n",
       "      <th>LOAN_REPAY</th>\n",
       "      <th>COH_BOP</th>\n",
       "      <th>COH_COP</th>\n",
       "      <th>DEBTS_OWED_BY</th>\n",
       "      <th>NONFED_TRANS_RECEIVED</th>\n",
       "      <th>CONTRIB_TO_OTHER_CMTE</th>\n",
       "      <th>IND_EXP</th>\n",
       "      <th>PTY_COORD_EXP</th>\n",
       "      <th>NONFED_SHARE_EXP</th>\n",
       "      <th>CVG_END_DT</th>\n",
       "    </tr>\n",
       "  </thead>\n",
       "  <tbody>\n",
       "    <tr>\n",
       "      <td>0</td>\n",
       "      <td>C00000059</td>\n",
       "      <td>HALLMARK CARDS PAC</td>\n",
       "      <td>Q</td>\n",
       "      <td>U</td>\n",
       "      <td>M</td>\n",
       "      <td>123198.92</td>\n",
       "      <td>0.0</td>\n",
       "      <td>123198.92</td>\n",
       "      <td>0.0</td>\n",
       "      <td>0.0</td>\n",
       "      <td>0.0</td>\n",
       "      <td>0.0</td>\n",
       "      <td>88500.00</td>\n",
       "      <td>0.0</td>\n",
       "      <td>0.00</td>\n",
       "      <td>0.0</td>\n",
       "      <td>0.0</td>\n",
       "      <td>0.0</td>\n",
       "      <td>104794.36</td>\n",
       "      <td>139493.28</td>\n",
       "      <td>0.0</td>\n",
       "      <td>0.0</td>\n",
       "      <td>88500.0</td>\n",
       "      <td>0.00</td>\n",
       "      <td>0.0</td>\n",
       "      <td>0.0</td>\n",
       "      <td>12/31/2016</td>\n",
       "    </tr>\n",
       "    <tr>\n",
       "      <td>1</td>\n",
       "      <td>C00000422</td>\n",
       "      <td>AMERICAN MEDICAL ASSOCIATION POLITICAL ACTION ...</td>\n",
       "      <td>Q</td>\n",
       "      <td>B</td>\n",
       "      <td>M</td>\n",
       "      <td>2114478.16</td>\n",
       "      <td>0.0</td>\n",
       "      <td>2099958.16</td>\n",
       "      <td>0.0</td>\n",
       "      <td>0.0</td>\n",
       "      <td>0.0</td>\n",
       "      <td>0.0</td>\n",
       "      <td>2047839.79</td>\n",
       "      <td>1790.0</td>\n",
       "      <td>12621.71</td>\n",
       "      <td>0.0</td>\n",
       "      <td>0.0</td>\n",
       "      <td>0.0</td>\n",
       "      <td>552464.38</td>\n",
       "      <td>619102.75</td>\n",
       "      <td>0.0</td>\n",
       "      <td>0.0</td>\n",
       "      <td>1853000.0</td>\n",
       "      <td>141616.35</td>\n",
       "      <td>0.0</td>\n",
       "      <td>0.0</td>\n",
       "      <td>12/31/2016</td>\n",
       "    </tr>\n",
       "    <tr>\n",
       "      <td>2</td>\n",
       "      <td>C00000489</td>\n",
       "      <td>D R I V E POLITICAL FUND CHAPTER 886</td>\n",
       "      <td>N</td>\n",
       "      <td>U</td>\n",
       "      <td>Q</td>\n",
       "      <td>41455.17</td>\n",
       "      <td>41453.0</td>\n",
       "      <td>0.00</td>\n",
       "      <td>0.0</td>\n",
       "      <td>0.0</td>\n",
       "      <td>0.0</td>\n",
       "      <td>0.0</td>\n",
       "      <td>39672.85</td>\n",
       "      <td>0.0</td>\n",
       "      <td>0.00</td>\n",
       "      <td>0.0</td>\n",
       "      <td>0.0</td>\n",
       "      <td>0.0</td>\n",
       "      <td>192.00</td>\n",
       "      <td>1974.00</td>\n",
       "      <td>0.0</td>\n",
       "      <td>0.0</td>\n",
       "      <td>0.0</td>\n",
       "      <td>0.00</td>\n",
       "      <td>0.0</td>\n",
       "      <td>0.0</td>\n",
       "      <td>12/31/2016</td>\n",
       "    </tr>\n",
       "    <tr>\n",
       "      <td>3</td>\n",
       "      <td>C00000547</td>\n",
       "      <td>KANSAS MEDICAL SOCIETY POLITICAL ACTION COMMITTEE</td>\n",
       "      <td>Q</td>\n",
       "      <td>U</td>\n",
       "      <td>Q</td>\n",
       "      <td>19065.00</td>\n",
       "      <td>0.0</td>\n",
       "      <td>19065.00</td>\n",
       "      <td>0.0</td>\n",
       "      <td>0.0</td>\n",
       "      <td>0.0</td>\n",
       "      <td>0.0</td>\n",
       "      <td>17592.50</td>\n",
       "      <td>2592.5</td>\n",
       "      <td>0.00</td>\n",
       "      <td>0.0</td>\n",
       "      <td>0.0</td>\n",
       "      <td>0.0</td>\n",
       "      <td>4681.26</td>\n",
       "      <td>6153.76</td>\n",
       "      <td>0.0</td>\n",
       "      <td>0.0</td>\n",
       "      <td>15000.0</td>\n",
       "      <td>0.00</td>\n",
       "      <td>0.0</td>\n",
       "      <td>0.0</td>\n",
       "      <td>12/31/2016</td>\n",
       "    </tr>\n",
       "    <tr>\n",
       "      <td>4</td>\n",
       "      <td>C00000638</td>\n",
       "      <td>INDIANA STATE MEDICAL ASSOCIATION POLITICAL AC...</td>\n",
       "      <td>Q</td>\n",
       "      <td>U</td>\n",
       "      <td>Q</td>\n",
       "      <td>143170.00</td>\n",
       "      <td>0.0</td>\n",
       "      <td>142570.00</td>\n",
       "      <td>0.0</td>\n",
       "      <td>0.0</td>\n",
       "      <td>0.0</td>\n",
       "      <td>0.0</td>\n",
       "      <td>85918.48</td>\n",
       "      <td>13222.5</td>\n",
       "      <td>0.00</td>\n",
       "      <td>0.0</td>\n",
       "      <td>0.0</td>\n",
       "      <td>0.0</td>\n",
       "      <td>35530.91</td>\n",
       "      <td>92782.43</td>\n",
       "      <td>0.0</td>\n",
       "      <td>0.0</td>\n",
       "      <td>3000.0</td>\n",
       "      <td>0.00</td>\n",
       "      <td>0.0</td>\n",
       "      <td>0.0</td>\n",
       "      <td>12/31/2016</td>\n",
       "    </tr>\n",
       "  </tbody>\n",
       "</table>\n",
       "</div>"
      ],
      "text/plain": [
       "     CMTE_ID                                            CMTE_NM CMTE_TP  \\\n",
       "0  C00000059                                 HALLMARK CARDS PAC       Q   \n",
       "1  C00000422  AMERICAN MEDICAL ASSOCIATION POLITICAL ACTION ...       Q   \n",
       "2  C00000489               D R I V E POLITICAL FUND CHAPTER 886       N   \n",
       "3  C00000547  KANSAS MEDICAL SOCIETY POLITICAL ACTION COMMITTEE       Q   \n",
       "4  C00000638  INDIANA STATE MEDICAL ASSOCIATION POLITICAL AC...       Q   \n",
       "\n",
       "  CMTE_DSGN CMTE_FILING_FREQ  TTL_RECEIPTS  TRANS_FROM_AFF  INDV_CONTRIB  \\\n",
       "0         U                M     123198.92             0.0     123198.92   \n",
       "1         B                M    2114478.16             0.0    2099958.16   \n",
       "2         U                Q      41455.17         41453.0          0.00   \n",
       "3         U                Q      19065.00             0.0      19065.00   \n",
       "4         U                Q     143170.00             0.0     142570.00   \n",
       "\n",
       "   OTHER_POL_CMTE_CONTRIB  CAND_CONTRIB  CAND_LOANS  TTL_LOANS_RECEIVED  \\\n",
       "0                     0.0           0.0         0.0                 0.0   \n",
       "1                     0.0           0.0         0.0                 0.0   \n",
       "2                     0.0           0.0         0.0                 0.0   \n",
       "3                     0.0           0.0         0.0                 0.0   \n",
       "4                     0.0           0.0         0.0                 0.0   \n",
       "\n",
       "     TTL_DISB  TRANF_TO_AFF  INDV_REFUNDS  OTHER_POL_CMTE_REFUNDS  \\\n",
       "0    88500.00           0.0          0.00                     0.0   \n",
       "1  2047839.79        1790.0      12621.71                     0.0   \n",
       "2    39672.85           0.0          0.00                     0.0   \n",
       "3    17592.50        2592.5          0.00                     0.0   \n",
       "4    85918.48       13222.5          0.00                     0.0   \n",
       "\n",
       "   CAND_LOAN_REPAY  LOAN_REPAY    COH_BOP    COH_COP  DEBTS_OWED_BY  \\\n",
       "0              0.0         0.0  104794.36  139493.28            0.0   \n",
       "1              0.0         0.0  552464.38  619102.75            0.0   \n",
       "2              0.0         0.0     192.00    1974.00            0.0   \n",
       "3              0.0         0.0    4681.26    6153.76            0.0   \n",
       "4              0.0         0.0   35530.91   92782.43            0.0   \n",
       "\n",
       "   NONFED_TRANS_RECEIVED  CONTRIB_TO_OTHER_CMTE    IND_EXP  PTY_COORD_EXP  \\\n",
       "0                    0.0                88500.0       0.00            0.0   \n",
       "1                    0.0              1853000.0  141616.35            0.0   \n",
       "2                    0.0                    0.0       0.00            0.0   \n",
       "3                    0.0                15000.0       0.00            0.0   \n",
       "4                    0.0                 3000.0       0.00            0.0   \n",
       "\n",
       "   NONFED_SHARE_EXP  CVG_END_DT  \n",
       "0               0.0  12/31/2016  \n",
       "1               0.0  12/31/2016  \n",
       "2               0.0  12/31/2016  \n",
       "3               0.0  12/31/2016  \n",
       "4               0.0  12/31/2016  "
      ]
     },
     "execution_count": 4,
     "metadata": {},
     "output_type": "execute_result"
    }
   ],
   "source": [
    "pacSUM = pd.read_csv('pac_sum.txt', sep=\"|\", index_col=False, names=headersSum)\n",
    "pacSUM.head(5)"
   ]
  },
  {
   "cell_type": "markdown",
   "metadata": {},
   "source": [
    "**FIND CANDITATES WE WANT TO ANALYSE**"
   ]
  },
  {
   "cell_type": "code",
   "execution_count": 5,
   "metadata": {},
   "outputs": [],
   "source": [
    "headersCand = ['CAND_ID','CAND_NAME','CAND_ICI','PTY_CD', 'CAND_PTY_AFFILIATION','TTL_RECEIPTS','TRANS_FROM_AUTH','TTL_DISB','TRANS_TO_AUTH','COH_BOP','COH_COP','CAND_CONTRIB','CAND_LOANS','OTHER_LOANS','CAND_LOAN_REPAY','OTHER_LOAN_REPAY','DEBTS_OWED_BY','TTL_INDIV_CONTRIB','CAND_OFFICE_ST','CAND_OFFICE_DISTRICT','SPEC_ELECTION','PRIM_ELECTION','RUN_ELECTION','GEN_ELECTION','GEN_ELECTION_PRECENT','OTHER_POL_CMTE_CONTRIB','POL_PTY_CONTRIB','CVG_END_DT','INDIV_REFUNDS','CMTE_REFUNDS']"
   ]
  },
  {
   "cell_type": "code",
   "execution_count": 6,
   "metadata": {},
   "outputs": [
    {
     "data": {
      "text/plain": [
       "['CAND_ID',\n",
       " 'CAND_NAME',\n",
       " 'CAND_PTY_AFFILIATION',\n",
       " 'CAND_ELECTION_YR',\n",
       " 'CAND_OFFICE_ST',\n",
       " 'CAND_OFFICE',\n",
       " 'CAND_OFFICE_DISTRICT',\n",
       " 'CAND_ICI',\n",
       " 'CAND_STATUS',\n",
       " 'CAND_PCC',\n",
       " 'CAND_ST1',\n",
       " 'CAND_ST2',\n",
       " 'CAND_CITY',\n",
       " 'CAND_ST',\n",
       " 'CAND_ZIP']"
      ]
     },
     "execution_count": 6,
     "metadata": {},
     "output_type": "execute_result"
    }
   ],
   "source": [
    "headersCand = pd.read_csv('cand_master_header_file.csv')\n",
    "headersCand = headersCand.columns.tolist()\n",
    "headersCand"
   ]
  },
  {
   "cell_type": "code",
   "execution_count": 7,
   "metadata": {},
   "outputs": [],
   "source": [
    "canditates = pd.read_csv('cand_master.txt', sep=\"|\", index_col=False, names=headersCand)\n",
    "canditates['CAND_ELECTION_YR'] = pd.to_numeric(canditates['CAND_ELECTION_YR'])\n"
   ]
  },
  {
   "cell_type": "code",
   "execution_count": 8,
   "metadata": {},
   "outputs": [
    {
     "data": {
      "text/plain": [
       "110940"
      ]
     },
     "execution_count": 8,
     "metadata": {},
     "output_type": "execute_result"
    }
   ],
   "source": [
    "canditates.size"
   ]
  },
  {
   "cell_type": "code",
   "execution_count": 9,
   "metadata": {},
   "outputs": [
    {
     "data": {
      "text/html": [
       "<div>\n",
       "<style scoped>\n",
       "    .dataframe tbody tr th:only-of-type {\n",
       "        vertical-align: middle;\n",
       "    }\n",
       "\n",
       "    .dataframe tbody tr th {\n",
       "        vertical-align: top;\n",
       "    }\n",
       "\n",
       "    .dataframe thead th {\n",
       "        text-align: right;\n",
       "    }\n",
       "</style>\n",
       "<table border=\"1\" class=\"dataframe\">\n",
       "  <thead>\n",
       "    <tr style=\"text-align: right;\">\n",
       "      <th></th>\n",
       "      <th>CAND_ID</th>\n",
       "      <th>CAND_NAME</th>\n",
       "      <th>CAND_PTY_AFFILIATION</th>\n",
       "      <th>CAND_ELECTION_YR</th>\n",
       "      <th>CAND_OFFICE_ST</th>\n",
       "      <th>CAND_OFFICE</th>\n",
       "      <th>CAND_OFFICE_DISTRICT</th>\n",
       "      <th>CAND_ICI</th>\n",
       "      <th>CAND_STATUS</th>\n",
       "      <th>CAND_PCC</th>\n",
       "      <th>CAND_ST1</th>\n",
       "      <th>CAND_ST2</th>\n",
       "      <th>CAND_CITY</th>\n",
       "      <th>CAND_ST</th>\n",
       "      <th>CAND_ZIP</th>\n",
       "    </tr>\n",
       "  </thead>\n",
       "  <tbody>\n",
       "    <tr>\n",
       "      <td>4367</td>\n",
       "      <td>P00003392</td>\n",
       "      <td>CLINTON, HILLARY RODHAM / TIMOTHY MICHAEL KAINE</td>\n",
       "      <td>DEM</td>\n",
       "      <td>2016</td>\n",
       "      <td>US</td>\n",
       "      <td>P</td>\n",
       "      <td>0.0</td>\n",
       "      <td>O</td>\n",
       "      <td>C</td>\n",
       "      <td>C00575795</td>\n",
       "      <td>NaN</td>\n",
       "      <td>NaN</td>\n",
       "      <td>NEW YORK</td>\n",
       "      <td>NY</td>\n",
       "      <td>NaN</td>\n",
       "    </tr>\n",
       "    <tr>\n",
       "      <td>6298</td>\n",
       "      <td>P80001571</td>\n",
       "      <td>TRUMP, DONALD J. / MICHAEL R. PENCE</td>\n",
       "      <td>REP</td>\n",
       "      <td>2016</td>\n",
       "      <td>US</td>\n",
       "      <td>P</td>\n",
       "      <td>0.0</td>\n",
       "      <td>O</td>\n",
       "      <td>C</td>\n",
       "      <td>C00580100</td>\n",
       "      <td>725 FIFTH AVENUE</td>\n",
       "      <td>NaN</td>\n",
       "      <td>NEW YORK</td>\n",
       "      <td>NY</td>\n",
       "      <td>10022.0</td>\n",
       "    </tr>\n",
       "  </tbody>\n",
       "</table>\n",
       "</div>"
      ],
      "text/plain": [
       "        CAND_ID                                        CAND_NAME  \\\n",
       "4367  P00003392  CLINTON, HILLARY RODHAM / TIMOTHY MICHAEL KAINE   \n",
       "6298  P80001571             TRUMP, DONALD J. / MICHAEL R. PENCE    \n",
       "\n",
       "     CAND_PTY_AFFILIATION  CAND_ELECTION_YR CAND_OFFICE_ST CAND_OFFICE  \\\n",
       "4367                  DEM              2016             US           P   \n",
       "6298                  REP              2016             US           P   \n",
       "\n",
       "      CAND_OFFICE_DISTRICT CAND_ICI CAND_STATUS   CAND_PCC          CAND_ST1  \\\n",
       "4367                   0.0        O           C  C00575795               NaN   \n",
       "6298                   0.0        O           C  C00580100  725 FIFTH AVENUE   \n",
       "\n",
       "     CAND_ST2 CAND_CITY CAND_ST  CAND_ZIP  \n",
       "4367      NaN  NEW YORK      NY       NaN  \n",
       "6298      NaN  NEW YORK      NY   10022.0  "
      ]
     },
     "execution_count": 9,
     "metadata": {},
     "output_type": "execute_result"
    }
   ],
   "source": [
    "presidentialCanditates = canditates[canditates['CAND_ELECTION_YR']==2016]\n",
    "presidentialCanditates = presidentialCanditates[presidentialCanditates['CAND_OFFICE'] =='P']\n",
    "\n",
    "presidentialCanditates[presidentialCanditates['CAND_NAME'].str.contains('TRUMP, DONALD') | presidentialCanditates['CAND_NAME'].str.contains('CLINTON, HILLARY')].head(5)"
   ]
  },
  {
   "cell_type": "code",
   "execution_count": 10,
   "metadata": {},
   "outputs": [
    {
     "data": {
      "text/html": [
       "<div>\n",
       "<style scoped>\n",
       "    .dataframe tbody tr th:only-of-type {\n",
       "        vertical-align: middle;\n",
       "    }\n",
       "\n",
       "    .dataframe tbody tr th {\n",
       "        vertical-align: top;\n",
       "    }\n",
       "\n",
       "    .dataframe thead th {\n",
       "        text-align: right;\n",
       "    }\n",
       "</style>\n",
       "<table border=\"1\" class=\"dataframe\">\n",
       "  <thead>\n",
       "    <tr style=\"text-align: right;\">\n",
       "      <th></th>\n",
       "      <th>CAND_ID</th>\n",
       "      <th>CAND_NAME</th>\n",
       "      <th>CAND_PTY_AFFILIATION</th>\n",
       "      <th>CAND_ELECTION_YR</th>\n",
       "      <th>CAND_OFFICE_ST</th>\n",
       "      <th>CAND_OFFICE</th>\n",
       "      <th>CAND_OFFICE_DISTRICT</th>\n",
       "      <th>CAND_ICI</th>\n",
       "      <th>CAND_STATUS</th>\n",
       "      <th>CAND_PCC</th>\n",
       "      <th>CAND_ST1</th>\n",
       "      <th>CAND_ST2</th>\n",
       "      <th>CAND_CITY</th>\n",
       "      <th>CAND_ST</th>\n",
       "      <th>CAND_ZIP</th>\n",
       "    </tr>\n",
       "  </thead>\n",
       "  <tbody>\n",
       "    <tr>\n",
       "      <td>4367</td>\n",
       "      <td>P00003392</td>\n",
       "      <td>CLINTON, HILLARY RODHAM / TIMOTHY MICHAEL KAINE</td>\n",
       "      <td>DEM</td>\n",
       "      <td>2016</td>\n",
       "      <td>US</td>\n",
       "      <td>P</td>\n",
       "      <td>0.0</td>\n",
       "      <td>O</td>\n",
       "      <td>C</td>\n",
       "      <td>C00575795</td>\n",
       "      <td>NaN</td>\n",
       "      <td>NaN</td>\n",
       "      <td>NEW YORK</td>\n",
       "      <td>NY</td>\n",
       "      <td>NaN</td>\n",
       "    </tr>\n",
       "    <tr>\n",
       "      <td>6298</td>\n",
       "      <td>P80001571</td>\n",
       "      <td>TRUMP, DONALD J. / MICHAEL R. PENCE</td>\n",
       "      <td>REP</td>\n",
       "      <td>2016</td>\n",
       "      <td>US</td>\n",
       "      <td>P</td>\n",
       "      <td>0.0</td>\n",
       "      <td>O</td>\n",
       "      <td>C</td>\n",
       "      <td>C00580100</td>\n",
       "      <td>725 FIFTH AVENUE</td>\n",
       "      <td>NaN</td>\n",
       "      <td>NEW YORK</td>\n",
       "      <td>NY</td>\n",
       "      <td>10022.0</td>\n",
       "    </tr>\n",
       "  </tbody>\n",
       "</table>\n",
       "</div>"
      ],
      "text/plain": [
       "        CAND_ID                                        CAND_NAME  \\\n",
       "4367  P00003392  CLINTON, HILLARY RODHAM / TIMOTHY MICHAEL KAINE   \n",
       "6298  P80001571             TRUMP, DONALD J. / MICHAEL R. PENCE    \n",
       "\n",
       "     CAND_PTY_AFFILIATION  CAND_ELECTION_YR CAND_OFFICE_ST CAND_OFFICE  \\\n",
       "4367                  DEM              2016             US           P   \n",
       "6298                  REP              2016             US           P   \n",
       "\n",
       "      CAND_OFFICE_DISTRICT CAND_ICI CAND_STATUS   CAND_PCC          CAND_ST1  \\\n",
       "4367                   0.0        O           C  C00575795               NaN   \n",
       "6298                   0.0        O           C  C00580100  725 FIFTH AVENUE   \n",
       "\n",
       "     CAND_ST2 CAND_CITY CAND_ST  CAND_ZIP  \n",
       "4367      NaN  NEW YORK      NY       NaN  \n",
       "6298      NaN  NEW YORK      NY   10022.0  "
      ]
     },
     "execution_count": 10,
     "metadata": {},
     "output_type": "execute_result"
    }
   ],
   "source": [
    "presidentialCanditates = presidentialCanditates[presidentialCanditates['CAND_NAME'].str.contains('TRUMP, DONALD') | presidentialCanditates['CAND_NAME'].str.contains('CLINTON, HILLARY')]\n",
    "presidentialCanditates.head()"
   ]
  },
  {
   "cell_type": "markdown",
   "metadata": {},
   "source": [
    "**FIND THE COMMITEES TARGETING THE TWO CANDITATES**"
   ]
  },
  {
   "cell_type": "code",
   "execution_count": 11,
   "metadata": {},
   "outputs": [],
   "source": [
    "headersCandComLink = pd.read_csv('contr_com_to_cand_header_file.csv')\n",
    "headersCandComLink = headersCandComLink.columns.tolist()"
   ]
  },
  {
   "cell_type": "code",
   "execution_count": 12,
   "metadata": {},
   "outputs": [],
   "source": [
    "data_types = {header: np.str for header in headersCandComLink}\n",
    "data_types['TRANSACTION_AMT'] = np.float"
   ]
  },
  {
   "cell_type": "code",
   "execution_count": 13,
   "metadata": {},
   "outputs": [
    {
     "name": "stdout",
     "output_type": "stream",
     "text": [
      "(516394, 22)\n"
     ]
    },
    {
     "data": {
      "text/html": [
       "<div>\n",
       "<style scoped>\n",
       "    .dataframe tbody tr th:only-of-type {\n",
       "        vertical-align: middle;\n",
       "    }\n",
       "\n",
       "    .dataframe tbody tr th {\n",
       "        vertical-align: top;\n",
       "    }\n",
       "\n",
       "    .dataframe thead th {\n",
       "        text-align: right;\n",
       "    }\n",
       "</style>\n",
       "<table border=\"1\" class=\"dataframe\">\n",
       "  <thead>\n",
       "    <tr style=\"text-align: right;\">\n",
       "      <th></th>\n",
       "      <th>CMTE_ID</th>\n",
       "      <th>AMNDT_IND</th>\n",
       "      <th>RPT_TP</th>\n",
       "      <th>TRANSACTION_PGI</th>\n",
       "      <th>IMAGE_NUM</th>\n",
       "      <th>TRANSACTION_TP</th>\n",
       "      <th>ENTITY_TP</th>\n",
       "      <th>NAME</th>\n",
       "      <th>CITY</th>\n",
       "      <th>STATE</th>\n",
       "      <th>ZIP_CODE</th>\n",
       "      <th>EMPLOYER</th>\n",
       "      <th>OCCUPATION</th>\n",
       "      <th>TRANSACTION_DT</th>\n",
       "      <th>TRANSACTION_AMT</th>\n",
       "      <th>OTHER_ID</th>\n",
       "      <th>CAND_ID</th>\n",
       "      <th>TRAN_ID</th>\n",
       "      <th>FILE_NUM</th>\n",
       "      <th>MEMO_CD</th>\n",
       "      <th>MEMO_TEXT</th>\n",
       "      <th>SUB_ID</th>\n",
       "    </tr>\n",
       "  </thead>\n",
       "  <tbody>\n",
       "    <tr>\n",
       "      <td>56432</td>\n",
       "      <td>C00411389</td>\n",
       "      <td>N</td>\n",
       "      <td>YE</td>\n",
       "      <td>P</td>\n",
       "      <td>201601259004586460</td>\n",
       "      <td>24K</td>\n",
       "      <td>CCM</td>\n",
       "      <td>DEB FISCHER FOR US SENATE INC</td>\n",
       "      <td>LINCOLN</td>\n",
       "      <td>NE</td>\n",
       "      <td>68506</td>\n",
       "      <td>NaN</td>\n",
       "      <td>NaN</td>\n",
       "      <td>2015-11-02</td>\n",
       "      <td>1000.0</td>\n",
       "      <td>C00498907</td>\n",
       "      <td>S2NE00094</td>\n",
       "      <td>SB23.5032</td>\n",
       "      <td>1041973</td>\n",
       "      <td>NaN</td>\n",
       "      <td>NaN</td>\n",
       "      <td>4012520161260872628</td>\n",
       "    </tr>\n",
       "    <tr>\n",
       "      <td>132307</td>\n",
       "      <td>C00007880</td>\n",
       "      <td>N</td>\n",
       "      <td>M3</td>\n",
       "      <td>P2018</td>\n",
       "      <td>201603179009774583</td>\n",
       "      <td>24K</td>\n",
       "      <td>CCM</td>\n",
       "      <td>DONNELLY FOR INDIANA</td>\n",
       "      <td>WASHINGTON</td>\n",
       "      <td>DC</td>\n",
       "      <td>20036</td>\n",
       "      <td>NaN</td>\n",
       "      <td>NaN</td>\n",
       "      <td>2016-02-12</td>\n",
       "      <td>3000.0</td>\n",
       "      <td>C00393652</td>\n",
       "      <td>S2IN00091</td>\n",
       "      <td>2150849</td>\n",
       "      <td>1055873</td>\n",
       "      <td>NaN</td>\n",
       "      <td>NaN</td>\n",
       "      <td>4031720161276505418</td>\n",
       "    </tr>\n",
       "    <tr>\n",
       "      <td>335364</td>\n",
       "      <td>C00373696</td>\n",
       "      <td>N</td>\n",
       "      <td>M5</td>\n",
       "      <td>P2016</td>\n",
       "      <td>201605199015540572</td>\n",
       "      <td>24K</td>\n",
       "      <td>CCM</td>\n",
       "      <td>FRIENDS OF ROY BLUNT</td>\n",
       "      <td>COLUMBIA</td>\n",
       "      <td>MO</td>\n",
       "      <td>65205</td>\n",
       "      <td>NaN</td>\n",
       "      <td>NaN</td>\n",
       "      <td>2016-04-29</td>\n",
       "      <td>-1500.0</td>\n",
       "      <td>C00304758</td>\n",
       "      <td>S0MO00183</td>\n",
       "      <td>D173447</td>\n",
       "      <td>1072891</td>\n",
       "      <td>NaN</td>\n",
       "      <td>NaN</td>\n",
       "      <td>4051920161292935019</td>\n",
       "    </tr>\n",
       "    <tr>\n",
       "      <td>332296</td>\n",
       "      <td>C00012914</td>\n",
       "      <td>A</td>\n",
       "      <td>M6</td>\n",
       "      <td>G2016</td>\n",
       "      <td>201606169018412256</td>\n",
       "      <td>24K</td>\n",
       "      <td>CCM</td>\n",
       "      <td>GEORGE HOLDING FOR CONGRESS INC.</td>\n",
       "      <td>RALEIGH</td>\n",
       "      <td>NC</td>\n",
       "      <td>27624</td>\n",
       "      <td>NaN</td>\n",
       "      <td>NaN</td>\n",
       "      <td>2016-05-04</td>\n",
       "      <td>-4500.0</td>\n",
       "      <td>C00499236</td>\n",
       "      <td>H2NC13110</td>\n",
       "      <td>D804BAFF32B8551B000</td>\n",
       "      <td>1077947</td>\n",
       "      <td>X</td>\n",
       "      <td>NaN</td>\n",
       "      <td>4061720161299146636</td>\n",
       "    </tr>\n",
       "    <tr>\n",
       "      <td>296131</td>\n",
       "      <td>C00177469</td>\n",
       "      <td>N</td>\n",
       "      <td>M7</td>\n",
       "      <td>G2016</td>\n",
       "      <td>201607199020706452</td>\n",
       "      <td>24K</td>\n",
       "      <td>COM</td>\n",
       "      <td>RODNEY FOR CONGRESS</td>\n",
       "      <td>TAYLORVILLE</td>\n",
       "      <td>IL</td>\n",
       "      <td>62568</td>\n",
       "      <td>NaN</td>\n",
       "      <td>NaN</td>\n",
       "      <td>2016-06-03</td>\n",
       "      <td>500.0</td>\n",
       "      <td>C00521948</td>\n",
       "      <td>H2IL13120</td>\n",
       "      <td>EXPB242452</td>\n",
       "      <td>1088430</td>\n",
       "      <td>NaN</td>\n",
       "      <td>NaN</td>\n",
       "      <td>4072720161307203203</td>\n",
       "    </tr>\n",
       "  </tbody>\n",
       "</table>\n",
       "</div>"
      ],
      "text/plain": [
       "          CMTE_ID AMNDT_IND RPT_TP TRANSACTION_PGI           IMAGE_NUM  \\\n",
       "56432   C00411389         N     YE               P  201601259004586460   \n",
       "132307  C00007880         N     M3           P2018  201603179009774583   \n",
       "335364  C00373696         N     M5           P2016  201605199015540572   \n",
       "332296  C00012914         A     M6           G2016  201606169018412256   \n",
       "296131  C00177469         N     M7           G2016  201607199020706452   \n",
       "\n",
       "       TRANSACTION_TP ENTITY_TP                              NAME  \\\n",
       "56432             24K       CCM     DEB FISCHER FOR US SENATE INC   \n",
       "132307            24K       CCM              DONNELLY FOR INDIANA   \n",
       "335364            24K       CCM              FRIENDS OF ROY BLUNT   \n",
       "332296            24K       CCM  GEORGE HOLDING FOR CONGRESS INC.   \n",
       "296131            24K       COM               RODNEY FOR CONGRESS   \n",
       "\n",
       "               CITY STATE ZIP_CODE EMPLOYER OCCUPATION TRANSACTION_DT  \\\n",
       "56432       LINCOLN    NE    68506      NaN        NaN     2015-11-02   \n",
       "132307   WASHINGTON    DC    20036      NaN        NaN     2016-02-12   \n",
       "335364     COLUMBIA    MO    65205      NaN        NaN     2016-04-29   \n",
       "332296      RALEIGH    NC    27624      NaN        NaN     2016-05-04   \n",
       "296131  TAYLORVILLE    IL    62568      NaN        NaN     2016-06-03   \n",
       "\n",
       "        TRANSACTION_AMT   OTHER_ID    CAND_ID              TRAN_ID FILE_NUM  \\\n",
       "56432            1000.0  C00498907  S2NE00094            SB23.5032  1041973   \n",
       "132307           3000.0  C00393652  S2IN00091              2150849  1055873   \n",
       "335364          -1500.0  C00304758  S0MO00183              D173447  1072891   \n",
       "332296          -4500.0  C00499236  H2NC13110  D804BAFF32B8551B000  1077947   \n",
       "296131            500.0  C00521948  H2IL13120           EXPB242452  1088430   \n",
       "\n",
       "       MEMO_CD MEMO_TEXT               SUB_ID  \n",
       "56432      NaN       NaN  4012520161260872628  \n",
       "132307     NaN       NaN  4031720161276505418  \n",
       "335364     NaN       NaN  4051920161292935019  \n",
       "332296       X       NaN  4061720161299146636  \n",
       "296131     NaN       NaN  4072720161307203203  "
      ]
     },
     "execution_count": 13,
     "metadata": {},
     "output_type": "execute_result"
    }
   ],
   "source": [
    "candComLinkage = pd.read_csv('contr_com_to_cand.txt', sep=\"|\", index_col=False, names=headersCandComLink, dtype=data_types)\n",
    "candComLinkage['TRANSACTION_DT']= pd.to_datetime(candComLinkage['TRANSACTION_DT'], format='%m%d%Y')\n",
    "print(candComLinkage.shape)\n",
    "candComLinkage.sample(5)\n"
   ]
  },
  {
   "cell_type": "code",
   "execution_count": 14,
   "metadata": {},
   "outputs": [
    {
     "data": {
      "text/plain": [
       "11360668"
      ]
     },
     "execution_count": 14,
     "metadata": {},
     "output_type": "execute_result"
    }
   ],
   "source": [
    "candComLinkage.size"
   ]
  },
  {
   "cell_type": "code",
   "execution_count": 15,
   "metadata": {},
   "outputs": [
    {
     "name": "stdout",
     "output_type": "stream",
     "text": [
      "(509031, 48)\n"
     ]
    },
    {
     "data": {
      "text/html": [
       "<div>\n",
       "<style scoped>\n",
       "    .dataframe tbody tr th:only-of-type {\n",
       "        vertical-align: middle;\n",
       "    }\n",
       "\n",
       "    .dataframe tbody tr th {\n",
       "        vertical-align: top;\n",
       "    }\n",
       "\n",
       "    .dataframe thead th {\n",
       "        text-align: right;\n",
       "    }\n",
       "</style>\n",
       "<table border=\"1\" class=\"dataframe\">\n",
       "  <thead>\n",
       "    <tr style=\"text-align: right;\">\n",
       "      <th></th>\n",
       "      <th>CMTE_ID</th>\n",
       "      <th>CMTE_NM</th>\n",
       "      <th>CMTE_TP</th>\n",
       "      <th>CMTE_DSGN</th>\n",
       "      <th>CMTE_FILING_FREQ</th>\n",
       "      <th>TTL_RECEIPTS</th>\n",
       "      <th>TRANS_FROM_AFF</th>\n",
       "      <th>INDV_CONTRIB</th>\n",
       "      <th>OTHER_POL_CMTE_CONTRIB</th>\n",
       "      <th>CAND_CONTRIB</th>\n",
       "      <th>CAND_LOANS</th>\n",
       "      <th>TTL_LOANS_RECEIVED</th>\n",
       "      <th>TTL_DISB</th>\n",
       "      <th>TRANF_TO_AFF</th>\n",
       "      <th>INDV_REFUNDS</th>\n",
       "      <th>OTHER_POL_CMTE_REFUNDS</th>\n",
       "      <th>CAND_LOAN_REPAY</th>\n",
       "      <th>LOAN_REPAY</th>\n",
       "      <th>COH_BOP</th>\n",
       "      <th>COH_COP</th>\n",
       "      <th>DEBTS_OWED_BY</th>\n",
       "      <th>NONFED_TRANS_RECEIVED</th>\n",
       "      <th>CONTRIB_TO_OTHER_CMTE</th>\n",
       "      <th>IND_EXP</th>\n",
       "      <th>PTY_COORD_EXP</th>\n",
       "      <th>NONFED_SHARE_EXP</th>\n",
       "      <th>CVG_END_DT</th>\n",
       "      <th>AMNDT_IND</th>\n",
       "      <th>RPT_TP</th>\n",
       "      <th>TRANSACTION_PGI</th>\n",
       "      <th>IMAGE_NUM</th>\n",
       "      <th>TRANSACTION_TP</th>\n",
       "      <th>ENTITY_TP</th>\n",
       "      <th>NAME</th>\n",
       "      <th>CITY</th>\n",
       "      <th>STATE</th>\n",
       "      <th>ZIP_CODE</th>\n",
       "      <th>EMPLOYER</th>\n",
       "      <th>OCCUPATION</th>\n",
       "      <th>TRANSACTION_DT</th>\n",
       "      <th>TRANSACTION_AMT</th>\n",
       "      <th>OTHER_ID</th>\n",
       "      <th>CAND_ID</th>\n",
       "      <th>TRAN_ID</th>\n",
       "      <th>FILE_NUM</th>\n",
       "      <th>MEMO_CD</th>\n",
       "      <th>MEMO_TEXT</th>\n",
       "      <th>SUB_ID</th>\n",
       "    </tr>\n",
       "  </thead>\n",
       "  <tbody>\n",
       "    <tr>\n",
       "      <td>387982</td>\n",
       "      <td>C90011156</td>\n",
       "      <td>WORKING AMERICA</td>\n",
       "      <td>I</td>\n",
       "      <td>U</td>\n",
       "      <td>Q</td>\n",
       "      <td>11373645.00</td>\n",
       "      <td>0.0</td>\n",
       "      <td>0.00</td>\n",
       "      <td>0.0</td>\n",
       "      <td>0.0</td>\n",
       "      <td>0.0</td>\n",
       "      <td>0.0</td>\n",
       "      <td>6547135.87</td>\n",
       "      <td>0.0</td>\n",
       "      <td>0.0</td>\n",
       "      <td>0.0</td>\n",
       "      <td>0.0</td>\n",
       "      <td>0.0</td>\n",
       "      <td>0.00</td>\n",
       "      <td>0.00</td>\n",
       "      <td>0.0</td>\n",
       "      <td>0.0</td>\n",
       "      <td>0.0</td>\n",
       "      <td>0.0</td>\n",
       "      <td>0.0</td>\n",
       "      <td>0.0</td>\n",
       "      <td>12/31/2016</td>\n",
       "      <td>N</td>\n",
       "      <td>YE</td>\n",
       "      <td>G2016</td>\n",
       "      <td>201701319042141944</td>\n",
       "      <td>24E</td>\n",
       "      <td>IND</td>\n",
       "      <td>DUNCAN, KEVIN</td>\n",
       "      <td>CHILLICOTHE</td>\n",
       "      <td>OH</td>\n",
       "      <td>456013570</td>\n",
       "      <td>NaN</td>\n",
       "      <td>NaN</td>\n",
       "      <td>2016-07-12</td>\n",
       "      <td>27.0</td>\n",
       "      <td>S6OH00254</td>\n",
       "      <td>S6OH00254</td>\n",
       "      <td>VN7CZA1PCE2</td>\n",
       "      <td>1144686</td>\n",
       "      <td>NaN</td>\n",
       "      <td>NaN</td>\n",
       "      <td>4020920171370054572</td>\n",
       "    </tr>\n",
       "    <tr>\n",
       "      <td>393981</td>\n",
       "      <td>C90011156</td>\n",
       "      <td>WORKING AMERICA</td>\n",
       "      <td>I</td>\n",
       "      <td>U</td>\n",
       "      <td>Q</td>\n",
       "      <td>11373645.00</td>\n",
       "      <td>0.0</td>\n",
       "      <td>0.00</td>\n",
       "      <td>0.0</td>\n",
       "      <td>0.0</td>\n",
       "      <td>0.0</td>\n",
       "      <td>0.0</td>\n",
       "      <td>6547135.87</td>\n",
       "      <td>0.0</td>\n",
       "      <td>0.0</td>\n",
       "      <td>0.0</td>\n",
       "      <td>0.0</td>\n",
       "      <td>0.0</td>\n",
       "      <td>0.00</td>\n",
       "      <td>0.00</td>\n",
       "      <td>0.0</td>\n",
       "      <td>0.0</td>\n",
       "      <td>0.0</td>\n",
       "      <td>0.0</td>\n",
       "      <td>0.0</td>\n",
       "      <td>0.0</td>\n",
       "      <td>12/31/2016</td>\n",
       "      <td>N</td>\n",
       "      <td>YE</td>\n",
       "      <td>G2016</td>\n",
       "      <td>201701319042174553</td>\n",
       "      <td>24E</td>\n",
       "      <td>IND</td>\n",
       "      <td>SIMONS, CHRISTOPHER</td>\n",
       "      <td>SWARTHMORE</td>\n",
       "      <td>PA</td>\n",
       "      <td>19081</td>\n",
       "      <td>NaN</td>\n",
       "      <td>NaN</td>\n",
       "      <td>2016-10-26</td>\n",
       "      <td>94.0</td>\n",
       "      <td>P00003392</td>\n",
       "      <td>P00003392</td>\n",
       "      <td>VN7CZA6EP91</td>\n",
       "      <td>1144686</td>\n",
       "      <td>NaN</td>\n",
       "      <td>NaN</td>\n",
       "      <td>4020920171370152400</td>\n",
       "    </tr>\n",
       "    <tr>\n",
       "      <td>381419</td>\n",
       "      <td>C90011156</td>\n",
       "      <td>WORKING AMERICA</td>\n",
       "      <td>I</td>\n",
       "      <td>U</td>\n",
       "      <td>Q</td>\n",
       "      <td>11373645.00</td>\n",
       "      <td>0.0</td>\n",
       "      <td>0.00</td>\n",
       "      <td>0.0</td>\n",
       "      <td>0.0</td>\n",
       "      <td>0.0</td>\n",
       "      <td>0.0</td>\n",
       "      <td>6547135.87</td>\n",
       "      <td>0.0</td>\n",
       "      <td>0.0</td>\n",
       "      <td>0.0</td>\n",
       "      <td>0.0</td>\n",
       "      <td>0.0</td>\n",
       "      <td>0.00</td>\n",
       "      <td>0.00</td>\n",
       "      <td>0.0</td>\n",
       "      <td>0.0</td>\n",
       "      <td>0.0</td>\n",
       "      <td>0.0</td>\n",
       "      <td>0.0</td>\n",
       "      <td>0.0</td>\n",
       "      <td>12/31/2016</td>\n",
       "      <td>N</td>\n",
       "      <td>YE</td>\n",
       "      <td>G2016</td>\n",
       "      <td>201701319042182134</td>\n",
       "      <td>24A</td>\n",
       "      <td>IND</td>\n",
       "      <td>LEBEL, DAVID</td>\n",
       "      <td>HILLIARD</td>\n",
       "      <td>OH</td>\n",
       "      <td>430267735</td>\n",
       "      <td>NaN</td>\n",
       "      <td>NaN</td>\n",
       "      <td>2016-11-06</td>\n",
       "      <td>2.0</td>\n",
       "      <td>P80001571</td>\n",
       "      <td>P80001571</td>\n",
       "      <td>VN7CZA7GVW9</td>\n",
       "      <td>1144686</td>\n",
       "      <td>NaN</td>\n",
       "      <td>NaN</td>\n",
       "      <td>4020920171370175141</td>\n",
       "    </tr>\n",
       "    <tr>\n",
       "      <td>450031</td>\n",
       "      <td>C90011156</td>\n",
       "      <td>WORKING AMERICA</td>\n",
       "      <td>I</td>\n",
       "      <td>U</td>\n",
       "      <td>Q</td>\n",
       "      <td>11373645.00</td>\n",
       "      <td>0.0</td>\n",
       "      <td>0.00</td>\n",
       "      <td>0.0</td>\n",
       "      <td>0.0</td>\n",
       "      <td>0.0</td>\n",
       "      <td>0.0</td>\n",
       "      <td>6547135.87</td>\n",
       "      <td>0.0</td>\n",
       "      <td>0.0</td>\n",
       "      <td>0.0</td>\n",
       "      <td>0.0</td>\n",
       "      <td>0.0</td>\n",
       "      <td>0.00</td>\n",
       "      <td>0.00</td>\n",
       "      <td>0.0</td>\n",
       "      <td>0.0</td>\n",
       "      <td>0.0</td>\n",
       "      <td>0.0</td>\n",
       "      <td>0.0</td>\n",
       "      <td>0.0</td>\n",
       "      <td>12/31/2016</td>\n",
       "      <td>N</td>\n",
       "      <td>YE</td>\n",
       "      <td>G2016</td>\n",
       "      <td>201701319042164716</td>\n",
       "      <td>24E</td>\n",
       "      <td>IND</td>\n",
       "      <td>SIMONS, CHRISTOPHER</td>\n",
       "      <td>SWARTHMORE</td>\n",
       "      <td>PA</td>\n",
       "      <td>19081</td>\n",
       "      <td>NaN</td>\n",
       "      <td>NaN</td>\n",
       "      <td>2016-10-07</td>\n",
       "      <td>68.0</td>\n",
       "      <td>S6PA00266</td>\n",
       "      <td>S6PA00266</td>\n",
       "      <td>VN7CZA4XWQ9</td>\n",
       "      <td>1144686</td>\n",
       "      <td>NaN</td>\n",
       "      <td>NaN</td>\n",
       "      <td>4020920171370122889</td>\n",
       "    </tr>\n",
       "    <tr>\n",
       "      <td>166400</td>\n",
       "      <td>C00287003</td>\n",
       "      <td>PARSONS BRINCKERHOFF, INC. PAC</td>\n",
       "      <td>Q</td>\n",
       "      <td>B</td>\n",
       "      <td>M</td>\n",
       "      <td>258668.88</td>\n",
       "      <td>0.0</td>\n",
       "      <td>258668.88</td>\n",
       "      <td>0.0</td>\n",
       "      <td>0.0</td>\n",
       "      <td>0.0</td>\n",
       "      <td>0.0</td>\n",
       "      <td>260225.00</td>\n",
       "      <td>0.0</td>\n",
       "      <td>0.0</td>\n",
       "      <td>0.0</td>\n",
       "      <td>0.0</td>\n",
       "      <td>0.0</td>\n",
       "      <td>230424.84</td>\n",
       "      <td>228868.72</td>\n",
       "      <td>0.0</td>\n",
       "      <td>0.0</td>\n",
       "      <td>145450.0</td>\n",
       "      <td>0.0</td>\n",
       "      <td>0.0</td>\n",
       "      <td>0.0</td>\n",
       "      <td>12/31/2016</td>\n",
       "      <td>N</td>\n",
       "      <td>M4</td>\n",
       "      <td>P2016</td>\n",
       "      <td>201604139012308919</td>\n",
       "      <td>24K</td>\n",
       "      <td>CCM</td>\n",
       "      <td>LAHOOD FOR CONGRESS</td>\n",
       "      <td>PEORIA</td>\n",
       "      <td>IL</td>\n",
       "      <td>61612</td>\n",
       "      <td>NaN</td>\n",
       "      <td>NaN</td>\n",
       "      <td>2016-03-08</td>\n",
       "      <td>1000.0</td>\n",
       "      <td>C00575050</td>\n",
       "      <td>H6IL18088</td>\n",
       "      <td>70190499</td>\n",
       "      <td>1060477</td>\n",
       "      <td>NaN</td>\n",
       "      <td>CONTRIBUTION</td>\n",
       "      <td>4041320161283111612</td>\n",
       "    </tr>\n",
       "  </tbody>\n",
       "</table>\n",
       "</div>"
      ],
      "text/plain": [
       "          CMTE_ID                         CMTE_NM CMTE_TP CMTE_DSGN  \\\n",
       "387982  C90011156                 WORKING AMERICA       I         U   \n",
       "393981  C90011156                 WORKING AMERICA       I         U   \n",
       "381419  C90011156                 WORKING AMERICA       I         U   \n",
       "450031  C90011156                 WORKING AMERICA       I         U   \n",
       "166400  C00287003  PARSONS BRINCKERHOFF, INC. PAC       Q         B   \n",
       "\n",
       "       CMTE_FILING_FREQ  TTL_RECEIPTS  TRANS_FROM_AFF  INDV_CONTRIB  \\\n",
       "387982                Q   11373645.00             0.0          0.00   \n",
       "393981                Q   11373645.00             0.0          0.00   \n",
       "381419                Q   11373645.00             0.0          0.00   \n",
       "450031                Q   11373645.00             0.0          0.00   \n",
       "166400                M     258668.88             0.0     258668.88   \n",
       "\n",
       "        OTHER_POL_CMTE_CONTRIB  CAND_CONTRIB  CAND_LOANS  TTL_LOANS_RECEIVED  \\\n",
       "387982                     0.0           0.0         0.0                 0.0   \n",
       "393981                     0.0           0.0         0.0                 0.0   \n",
       "381419                     0.0           0.0         0.0                 0.0   \n",
       "450031                     0.0           0.0         0.0                 0.0   \n",
       "166400                     0.0           0.0         0.0                 0.0   \n",
       "\n",
       "          TTL_DISB  TRANF_TO_AFF  INDV_REFUNDS  OTHER_POL_CMTE_REFUNDS  \\\n",
       "387982  6547135.87           0.0           0.0                     0.0   \n",
       "393981  6547135.87           0.0           0.0                     0.0   \n",
       "381419  6547135.87           0.0           0.0                     0.0   \n",
       "450031  6547135.87           0.0           0.0                     0.0   \n",
       "166400   260225.00           0.0           0.0                     0.0   \n",
       "\n",
       "        CAND_LOAN_REPAY  LOAN_REPAY    COH_BOP    COH_COP  DEBTS_OWED_BY  \\\n",
       "387982              0.0         0.0       0.00       0.00            0.0   \n",
       "393981              0.0         0.0       0.00       0.00            0.0   \n",
       "381419              0.0         0.0       0.00       0.00            0.0   \n",
       "450031              0.0         0.0       0.00       0.00            0.0   \n",
       "166400              0.0         0.0  230424.84  228868.72            0.0   \n",
       "\n",
       "        NONFED_TRANS_RECEIVED  CONTRIB_TO_OTHER_CMTE  IND_EXP  PTY_COORD_EXP  \\\n",
       "387982                    0.0                    0.0      0.0            0.0   \n",
       "393981                    0.0                    0.0      0.0            0.0   \n",
       "381419                    0.0                    0.0      0.0            0.0   \n",
       "450031                    0.0                    0.0      0.0            0.0   \n",
       "166400                    0.0               145450.0      0.0            0.0   \n",
       "\n",
       "        NONFED_SHARE_EXP  CVG_END_DT AMNDT_IND RPT_TP TRANSACTION_PGI  \\\n",
       "387982               0.0  12/31/2016         N     YE           G2016   \n",
       "393981               0.0  12/31/2016         N     YE           G2016   \n",
       "381419               0.0  12/31/2016         N     YE           G2016   \n",
       "450031               0.0  12/31/2016         N     YE           G2016   \n",
       "166400               0.0  12/31/2016         N     M4           P2016   \n",
       "\n",
       "                 IMAGE_NUM TRANSACTION_TP ENTITY_TP                 NAME  \\\n",
       "387982  201701319042141944            24E       IND        DUNCAN, KEVIN   \n",
       "393981  201701319042174553            24E       IND  SIMONS, CHRISTOPHER   \n",
       "381419  201701319042182134            24A       IND         LEBEL, DAVID   \n",
       "450031  201701319042164716            24E       IND  SIMONS, CHRISTOPHER   \n",
       "166400  201604139012308919            24K       CCM  LAHOOD FOR CONGRESS   \n",
       "\n",
       "               CITY STATE   ZIP_CODE EMPLOYER OCCUPATION TRANSACTION_DT  \\\n",
       "387982  CHILLICOTHE    OH  456013570      NaN        NaN     2016-07-12   \n",
       "393981   SWARTHMORE    PA      19081      NaN        NaN     2016-10-26   \n",
       "381419     HILLIARD    OH  430267735      NaN        NaN     2016-11-06   \n",
       "450031   SWARTHMORE    PA      19081      NaN        NaN     2016-10-07   \n",
       "166400       PEORIA    IL      61612      NaN        NaN     2016-03-08   \n",
       "\n",
       "        TRANSACTION_AMT   OTHER_ID    CAND_ID      TRAN_ID FILE_NUM MEMO_CD  \\\n",
       "387982             27.0  S6OH00254  S6OH00254  VN7CZA1PCE2  1144686     NaN   \n",
       "393981             94.0  P00003392  P00003392  VN7CZA6EP91  1144686     NaN   \n",
       "381419              2.0  P80001571  P80001571  VN7CZA7GVW9  1144686     NaN   \n",
       "450031             68.0  S6PA00266  S6PA00266  VN7CZA4XWQ9  1144686     NaN   \n",
       "166400           1000.0  C00575050  H6IL18088     70190499  1060477     NaN   \n",
       "\n",
       "           MEMO_TEXT               SUB_ID  \n",
       "387982           NaN  4020920171370054572  \n",
       "393981           NaN  4020920171370152400  \n",
       "381419           NaN  4020920171370175141  \n",
       "450031           NaN  4020920171370122889  \n",
       "166400  CONTRIBUTION  4041320161283111612  "
      ]
     },
     "execution_count": 15,
     "metadata": {},
     "output_type": "execute_result"
    }
   ],
   "source": [
    "pacs = pd.merge(pacSUM, candComLinkage, on='CMTE_ID', how='inner')\n",
    "print(pacs.shape)\n",
    "pacs.sample(5)"
   ]
  },
  {
   "cell_type": "markdown",
   "metadata": {},
   "source": [
    "**Merge the candidates**"
   ]
  },
  {
   "cell_type": "code",
   "execution_count": 16,
   "metadata": {},
   "outputs": [
    {
     "name": "stdout",
     "output_type": "stream",
     "text": [
      "(111250, 49)\n"
     ]
    },
    {
     "data": {
      "text/html": [
       "<div>\n",
       "<style scoped>\n",
       "    .dataframe tbody tr th:only-of-type {\n",
       "        vertical-align: middle;\n",
       "    }\n",
       "\n",
       "    .dataframe tbody tr th {\n",
       "        vertical-align: top;\n",
       "    }\n",
       "\n",
       "    .dataframe thead th {\n",
       "        text-align: right;\n",
       "    }\n",
       "</style>\n",
       "<table border=\"1\" class=\"dataframe\">\n",
       "  <thead>\n",
       "    <tr style=\"text-align: right;\">\n",
       "      <th></th>\n",
       "      <th>CMTE_ID</th>\n",
       "      <th>CMTE_NM</th>\n",
       "      <th>CMTE_TP</th>\n",
       "      <th>CMTE_DSGN</th>\n",
       "      <th>CMTE_FILING_FREQ</th>\n",
       "      <th>TTL_RECEIPTS</th>\n",
       "      <th>TRANS_FROM_AFF</th>\n",
       "      <th>INDV_CONTRIB</th>\n",
       "      <th>OTHER_POL_CMTE_CONTRIB</th>\n",
       "      <th>CAND_CONTRIB</th>\n",
       "      <th>CAND_LOANS</th>\n",
       "      <th>TTL_LOANS_RECEIVED</th>\n",
       "      <th>TTL_DISB</th>\n",
       "      <th>TRANF_TO_AFF</th>\n",
       "      <th>INDV_REFUNDS</th>\n",
       "      <th>OTHER_POL_CMTE_REFUNDS</th>\n",
       "      <th>CAND_LOAN_REPAY</th>\n",
       "      <th>LOAN_REPAY</th>\n",
       "      <th>COH_BOP</th>\n",
       "      <th>COH_COP</th>\n",
       "      <th>DEBTS_OWED_BY</th>\n",
       "      <th>NONFED_TRANS_RECEIVED</th>\n",
       "      <th>CONTRIB_TO_OTHER_CMTE</th>\n",
       "      <th>IND_EXP</th>\n",
       "      <th>PTY_COORD_EXP</th>\n",
       "      <th>NONFED_SHARE_EXP</th>\n",
       "      <th>CVG_END_DT</th>\n",
       "      <th>AMNDT_IND</th>\n",
       "      <th>RPT_TP</th>\n",
       "      <th>TRANSACTION_PGI</th>\n",
       "      <th>IMAGE_NUM</th>\n",
       "      <th>TRANSACTION_TP</th>\n",
       "      <th>ENTITY_TP</th>\n",
       "      <th>NAME</th>\n",
       "      <th>CITY</th>\n",
       "      <th>STATE</th>\n",
       "      <th>ZIP_CODE</th>\n",
       "      <th>EMPLOYER</th>\n",
       "      <th>OCCUPATION</th>\n",
       "      <th>TRANSACTION_DT</th>\n",
       "      <th>TRANSACTION_AMT</th>\n",
       "      <th>OTHER_ID</th>\n",
       "      <th>CAND_ID</th>\n",
       "      <th>TRAN_ID</th>\n",
       "      <th>FILE_NUM</th>\n",
       "      <th>MEMO_CD</th>\n",
       "      <th>MEMO_TEXT</th>\n",
       "      <th>SUB_ID</th>\n",
       "      <th>CAND_NAME</th>\n",
       "    </tr>\n",
       "  </thead>\n",
       "  <tbody>\n",
       "    <tr>\n",
       "      <td>5276</td>\n",
       "      <td>C90011156</td>\n",
       "      <td>WORKING AMERICA</td>\n",
       "      <td>I</td>\n",
       "      <td>U</td>\n",
       "      <td>Q</td>\n",
       "      <td>11373645.0</td>\n",
       "      <td>0.0</td>\n",
       "      <td>0.0</td>\n",
       "      <td>0.0</td>\n",
       "      <td>0.0</td>\n",
       "      <td>0.0</td>\n",
       "      <td>0.0</td>\n",
       "      <td>6547135.87</td>\n",
       "      <td>0.0</td>\n",
       "      <td>0.0</td>\n",
       "      <td>0.0</td>\n",
       "      <td>0.0</td>\n",
       "      <td>0.0</td>\n",
       "      <td>0.0</td>\n",
       "      <td>0.0</td>\n",
       "      <td>0.0</td>\n",
       "      <td>0.0</td>\n",
       "      <td>0.0</td>\n",
       "      <td>0.0</td>\n",
       "      <td>0.0</td>\n",
       "      <td>0.0</td>\n",
       "      <td>12/31/2016</td>\n",
       "      <td>N</td>\n",
       "      <td>Q3</td>\n",
       "      <td>G2016</td>\n",
       "      <td>201610129032252611</td>\n",
       "      <td>24A</td>\n",
       "      <td>IND</td>\n",
       "      <td>DARCOURT, ANGEL</td>\n",
       "      <td>HOUSTON</td>\n",
       "      <td>TX</td>\n",
       "      <td>770083110</td>\n",
       "      <td>NaN</td>\n",
       "      <td>NaN</td>\n",
       "      <td>2016-08-23</td>\n",
       "      <td>6.0</td>\n",
       "      <td>P80001571</td>\n",
       "      <td>P80001571</td>\n",
       "      <td>VN7CZA2H8W7</td>\n",
       "      <td>1104329</td>\n",
       "      <td>NaN</td>\n",
       "      <td>NaN</td>\n",
       "      <td>4101320161340917970</td>\n",
       "      <td>TRUMP, DONALD J. / MICHAEL R. PENCE</td>\n",
       "    </tr>\n",
       "    <tr>\n",
       "      <td>61642</td>\n",
       "      <td>C90011156</td>\n",
       "      <td>WORKING AMERICA</td>\n",
       "      <td>I</td>\n",
       "      <td>U</td>\n",
       "      <td>Q</td>\n",
       "      <td>11373645.0</td>\n",
       "      <td>0.0</td>\n",
       "      <td>0.0</td>\n",
       "      <td>0.0</td>\n",
       "      <td>0.0</td>\n",
       "      <td>0.0</td>\n",
       "      <td>0.0</td>\n",
       "      <td>6547135.87</td>\n",
       "      <td>0.0</td>\n",
       "      <td>0.0</td>\n",
       "      <td>0.0</td>\n",
       "      <td>0.0</td>\n",
       "      <td>0.0</td>\n",
       "      <td>0.0</td>\n",
       "      <td>0.0</td>\n",
       "      <td>0.0</td>\n",
       "      <td>0.0</td>\n",
       "      <td>0.0</td>\n",
       "      <td>0.0</td>\n",
       "      <td>0.0</td>\n",
       "      <td>0.0</td>\n",
       "      <td>12/31/2016</td>\n",
       "      <td>N</td>\n",
       "      <td>Q3</td>\n",
       "      <td>G2016</td>\n",
       "      <td>201610129032263041</td>\n",
       "      <td>24E</td>\n",
       "      <td>ORG</td>\n",
       "      <td>HAWTHORN SUITES</td>\n",
       "      <td>GREENSBORO</td>\n",
       "      <td>NC</td>\n",
       "      <td>274099421</td>\n",
       "      <td>NaN</td>\n",
       "      <td>NaN</td>\n",
       "      <td>2016-09-22</td>\n",
       "      <td>11.0</td>\n",
       "      <td>P00003392</td>\n",
       "      <td>P00003392</td>\n",
       "      <td>VN7CZA3VDS4</td>\n",
       "      <td>1104329</td>\n",
       "      <td>NaN</td>\n",
       "      <td>NaN</td>\n",
       "      <td>4101320161340949259</td>\n",
       "      <td>CLINTON, HILLARY RODHAM / TIMOTHY MICHAEL KAINE</td>\n",
       "    </tr>\n",
       "    <tr>\n",
       "      <td>101398</td>\n",
       "      <td>C90011156</td>\n",
       "      <td>WORKING AMERICA</td>\n",
       "      <td>I</td>\n",
       "      <td>U</td>\n",
       "      <td>Q</td>\n",
       "      <td>11373645.0</td>\n",
       "      <td>0.0</td>\n",
       "      <td>0.0</td>\n",
       "      <td>0.0</td>\n",
       "      <td>0.0</td>\n",
       "      <td>0.0</td>\n",
       "      <td>0.0</td>\n",
       "      <td>6547135.87</td>\n",
       "      <td>0.0</td>\n",
       "      <td>0.0</td>\n",
       "      <td>0.0</td>\n",
       "      <td>0.0</td>\n",
       "      <td>0.0</td>\n",
       "      <td>0.0</td>\n",
       "      <td>0.0</td>\n",
       "      <td>0.0</td>\n",
       "      <td>0.0</td>\n",
       "      <td>0.0</td>\n",
       "      <td>0.0</td>\n",
       "      <td>0.0</td>\n",
       "      <td>0.0</td>\n",
       "      <td>12/31/2016</td>\n",
       "      <td>N</td>\n",
       "      <td>YE</td>\n",
       "      <td>G2016</td>\n",
       "      <td>201701319042143890</td>\n",
       "      <td>24E</td>\n",
       "      <td>IND</td>\n",
       "      <td>MURRAY, JAMES</td>\n",
       "      <td>PITTSBURGH</td>\n",
       "      <td>PA</td>\n",
       "      <td>152381420</td>\n",
       "      <td>NaN</td>\n",
       "      <td>NaN</td>\n",
       "      <td>2016-08-02</td>\n",
       "      <td>27.0</td>\n",
       "      <td>P00003392</td>\n",
       "      <td>P00003392</td>\n",
       "      <td>VN7CZA21RT7</td>\n",
       "      <td>1144686</td>\n",
       "      <td>NaN</td>\n",
       "      <td>NaN</td>\n",
       "      <td>4020920171370060410</td>\n",
       "      <td>CLINTON, HILLARY RODHAM / TIMOTHY MICHAEL KAINE</td>\n",
       "    </tr>\n",
       "    <tr>\n",
       "      <td>71448</td>\n",
       "      <td>C90011156</td>\n",
       "      <td>WORKING AMERICA</td>\n",
       "      <td>I</td>\n",
       "      <td>U</td>\n",
       "      <td>Q</td>\n",
       "      <td>11373645.0</td>\n",
       "      <td>0.0</td>\n",
       "      <td>0.0</td>\n",
       "      <td>0.0</td>\n",
       "      <td>0.0</td>\n",
       "      <td>0.0</td>\n",
       "      <td>0.0</td>\n",
       "      <td>6547135.87</td>\n",
       "      <td>0.0</td>\n",
       "      <td>0.0</td>\n",
       "      <td>0.0</td>\n",
       "      <td>0.0</td>\n",
       "      <td>0.0</td>\n",
       "      <td>0.0</td>\n",
       "      <td>0.0</td>\n",
       "      <td>0.0</td>\n",
       "      <td>0.0</td>\n",
       "      <td>0.0</td>\n",
       "      <td>0.0</td>\n",
       "      <td>0.0</td>\n",
       "      <td>0.0</td>\n",
       "      <td>12/31/2016</td>\n",
       "      <td>N</td>\n",
       "      <td>Q3</td>\n",
       "      <td>G2016</td>\n",
       "      <td>201610129032252234</td>\n",
       "      <td>24E</td>\n",
       "      <td>ORG</td>\n",
       "      <td>BALTIC RD. GULF</td>\n",
       "      <td>CLEVELAND</td>\n",
       "      <td>OH</td>\n",
       "      <td>441021715</td>\n",
       "      <td>NaN</td>\n",
       "      <td>NaN</td>\n",
       "      <td>2016-08-22</td>\n",
       "      <td>5.0</td>\n",
       "      <td>P00003392</td>\n",
       "      <td>P00003392</td>\n",
       "      <td>VN7CZA2FEQ3</td>\n",
       "      <td>1104329</td>\n",
       "      <td>NaN</td>\n",
       "      <td>NaN</td>\n",
       "      <td>4101320161340916839</td>\n",
       "      <td>CLINTON, HILLARY RODHAM / TIMOTHY MICHAEL KAINE</td>\n",
       "    </tr>\n",
       "    <tr>\n",
       "      <td>33919</td>\n",
       "      <td>C90011156</td>\n",
       "      <td>WORKING AMERICA</td>\n",
       "      <td>I</td>\n",
       "      <td>U</td>\n",
       "      <td>Q</td>\n",
       "      <td>11373645.0</td>\n",
       "      <td>0.0</td>\n",
       "      <td>0.0</td>\n",
       "      <td>0.0</td>\n",
       "      <td>0.0</td>\n",
       "      <td>0.0</td>\n",
       "      <td>0.0</td>\n",
       "      <td>6547135.87</td>\n",
       "      <td>0.0</td>\n",
       "      <td>0.0</td>\n",
       "      <td>0.0</td>\n",
       "      <td>0.0</td>\n",
       "      <td>0.0</td>\n",
       "      <td>0.0</td>\n",
       "      <td>0.0</td>\n",
       "      <td>0.0</td>\n",
       "      <td>0.0</td>\n",
       "      <td>0.0</td>\n",
       "      <td>0.0</td>\n",
       "      <td>0.0</td>\n",
       "      <td>0.0</td>\n",
       "      <td>12/31/2016</td>\n",
       "      <td>N</td>\n",
       "      <td>YE</td>\n",
       "      <td>G2016</td>\n",
       "      <td>201701319042149833</td>\n",
       "      <td>24A</td>\n",
       "      <td>IND</td>\n",
       "      <td>DINES, MADISON</td>\n",
       "      <td>MILWAUKIE</td>\n",
       "      <td>OR</td>\n",
       "      <td>972226184</td>\n",
       "      <td>NaN</td>\n",
       "      <td>NaN</td>\n",
       "      <td>2016-08-31</td>\n",
       "      <td>22.0</td>\n",
       "      <td>P80001571</td>\n",
       "      <td>P80001571</td>\n",
       "      <td>VN7CZA2TKF8</td>\n",
       "      <td>1144686</td>\n",
       "      <td>NaN</td>\n",
       "      <td>NaN</td>\n",
       "      <td>4020920171370078239</td>\n",
       "      <td>TRUMP, DONALD J. / MICHAEL R. PENCE</td>\n",
       "    </tr>\n",
       "  </tbody>\n",
       "</table>\n",
       "</div>"
      ],
      "text/plain": [
       "          CMTE_ID          CMTE_NM CMTE_TP CMTE_DSGN CMTE_FILING_FREQ  \\\n",
       "5276    C90011156  WORKING AMERICA       I         U                Q   \n",
       "61642   C90011156  WORKING AMERICA       I         U                Q   \n",
       "101398  C90011156  WORKING AMERICA       I         U                Q   \n",
       "71448   C90011156  WORKING AMERICA       I         U                Q   \n",
       "33919   C90011156  WORKING AMERICA       I         U                Q   \n",
       "\n",
       "        TTL_RECEIPTS  TRANS_FROM_AFF  INDV_CONTRIB  OTHER_POL_CMTE_CONTRIB  \\\n",
       "5276      11373645.0             0.0           0.0                     0.0   \n",
       "61642     11373645.0             0.0           0.0                     0.0   \n",
       "101398    11373645.0             0.0           0.0                     0.0   \n",
       "71448     11373645.0             0.0           0.0                     0.0   \n",
       "33919     11373645.0             0.0           0.0                     0.0   \n",
       "\n",
       "        CAND_CONTRIB  CAND_LOANS  TTL_LOANS_RECEIVED    TTL_DISB  \\\n",
       "5276             0.0         0.0                 0.0  6547135.87   \n",
       "61642            0.0         0.0                 0.0  6547135.87   \n",
       "101398           0.0         0.0                 0.0  6547135.87   \n",
       "71448            0.0         0.0                 0.0  6547135.87   \n",
       "33919            0.0         0.0                 0.0  6547135.87   \n",
       "\n",
       "        TRANF_TO_AFF  INDV_REFUNDS  OTHER_POL_CMTE_REFUNDS  CAND_LOAN_REPAY  \\\n",
       "5276             0.0           0.0                     0.0              0.0   \n",
       "61642            0.0           0.0                     0.0              0.0   \n",
       "101398           0.0           0.0                     0.0              0.0   \n",
       "71448            0.0           0.0                     0.0              0.0   \n",
       "33919            0.0           0.0                     0.0              0.0   \n",
       "\n",
       "        LOAN_REPAY  COH_BOP  COH_COP  DEBTS_OWED_BY  NONFED_TRANS_RECEIVED  \\\n",
       "5276           0.0      0.0      0.0            0.0                    0.0   \n",
       "61642          0.0      0.0      0.0            0.0                    0.0   \n",
       "101398         0.0      0.0      0.0            0.0                    0.0   \n",
       "71448          0.0      0.0      0.0            0.0                    0.0   \n",
       "33919          0.0      0.0      0.0            0.0                    0.0   \n",
       "\n",
       "        CONTRIB_TO_OTHER_CMTE  IND_EXP  PTY_COORD_EXP  NONFED_SHARE_EXP  \\\n",
       "5276                      0.0      0.0            0.0               0.0   \n",
       "61642                     0.0      0.0            0.0               0.0   \n",
       "101398                    0.0      0.0            0.0               0.0   \n",
       "71448                     0.0      0.0            0.0               0.0   \n",
       "33919                     0.0      0.0            0.0               0.0   \n",
       "\n",
       "        CVG_END_DT AMNDT_IND RPT_TP TRANSACTION_PGI           IMAGE_NUM  \\\n",
       "5276    12/31/2016         N     Q3           G2016  201610129032252611   \n",
       "61642   12/31/2016         N     Q3           G2016  201610129032263041   \n",
       "101398  12/31/2016         N     YE           G2016  201701319042143890   \n",
       "71448   12/31/2016         N     Q3           G2016  201610129032252234   \n",
       "33919   12/31/2016         N     YE           G2016  201701319042149833   \n",
       "\n",
       "       TRANSACTION_TP ENTITY_TP             NAME        CITY STATE   ZIP_CODE  \\\n",
       "5276              24A       IND  DARCOURT, ANGEL     HOUSTON    TX  770083110   \n",
       "61642             24E       ORG  HAWTHORN SUITES  GREENSBORO    NC  274099421   \n",
       "101398            24E       IND    MURRAY, JAMES  PITTSBURGH    PA  152381420   \n",
       "71448             24E       ORG  BALTIC RD. GULF   CLEVELAND    OH  441021715   \n",
       "33919             24A       IND   DINES, MADISON   MILWAUKIE    OR  972226184   \n",
       "\n",
       "       EMPLOYER OCCUPATION TRANSACTION_DT  TRANSACTION_AMT   OTHER_ID  \\\n",
       "5276        NaN        NaN     2016-08-23              6.0  P80001571   \n",
       "61642       NaN        NaN     2016-09-22             11.0  P00003392   \n",
       "101398      NaN        NaN     2016-08-02             27.0  P00003392   \n",
       "71448       NaN        NaN     2016-08-22              5.0  P00003392   \n",
       "33919       NaN        NaN     2016-08-31             22.0  P80001571   \n",
       "\n",
       "          CAND_ID      TRAN_ID FILE_NUM MEMO_CD MEMO_TEXT  \\\n",
       "5276    P80001571  VN7CZA2H8W7  1104329     NaN       NaN   \n",
       "61642   P00003392  VN7CZA3VDS4  1104329     NaN       NaN   \n",
       "101398  P00003392  VN7CZA21RT7  1144686     NaN       NaN   \n",
       "71448   P00003392  VN7CZA2FEQ3  1104329     NaN       NaN   \n",
       "33919   P80001571  VN7CZA2TKF8  1144686     NaN       NaN   \n",
       "\n",
       "                     SUB_ID                                        CAND_NAME  \n",
       "5276    4101320161340917970             TRUMP, DONALD J. / MICHAEL R. PENCE   \n",
       "61642   4101320161340949259  CLINTON, HILLARY RODHAM / TIMOTHY MICHAEL KAINE  \n",
       "101398  4020920171370060410  CLINTON, HILLARY RODHAM / TIMOTHY MICHAEL KAINE  \n",
       "71448   4101320161340916839  CLINTON, HILLARY RODHAM / TIMOTHY MICHAEL KAINE  \n",
       "33919   4020920171370078239             TRUMP, DONALD J. / MICHAEL R. PENCE   "
      ]
     },
     "execution_count": 16,
     "metadata": {},
     "output_type": "execute_result"
    }
   ],
   "source": [
    "pacsAndCands = pd.merge(pacs, presidentialCanditates[['CAND_ID', 'CAND_NAME']], on='CAND_ID', how='inner')\n",
    "print(pacsAndCands.shape)\n",
    "pacsAndCands.sample(5)"
   ]
  },
  {
   "cell_type": "code",
   "execution_count": 17,
   "metadata": {},
   "outputs": [
    {
     "data": {
      "text/html": [
       "<div>\n",
       "<style scoped>\n",
       "    .dataframe tbody tr th:only-of-type {\n",
       "        vertical-align: middle;\n",
       "    }\n",
       "\n",
       "    .dataframe tbody tr th {\n",
       "        vertical-align: top;\n",
       "    }\n",
       "\n",
       "    .dataframe thead th {\n",
       "        text-align: right;\n",
       "    }\n",
       "</style>\n",
       "<table border=\"1\" class=\"dataframe\">\n",
       "  <thead>\n",
       "    <tr style=\"text-align: right;\">\n",
       "      <th></th>\n",
       "      <th>CMTE_ID</th>\n",
       "      <th>CAND_NAME</th>\n",
       "      <th>CMTE_NM</th>\n",
       "      <th>CMTE_TP</th>\n",
       "      <th>ENTITY_TP</th>\n",
       "      <th>TRANSACTION_TP</th>\n",
       "      <th>TRANSACTION_AMT</th>\n",
       "      <th>TTL_RECEIPTS</th>\n",
       "      <th>IND_EXP</th>\n",
       "      <th>NAME</th>\n",
       "    </tr>\n",
       "  </thead>\n",
       "  <tbody>\n",
       "    <tr>\n",
       "      <td>0</td>\n",
       "      <td>C00000935</td>\n",
       "      <td>TRUMP, DONALD J. / MICHAEL R. PENCE</td>\n",
       "      <td>DCCC</td>\n",
       "      <td>Y</td>\n",
       "      <td>ORG</td>\n",
       "      <td>24A</td>\n",
       "      <td>2168.0</td>\n",
       "      <td>2.208914e+08</td>\n",
       "      <td>80378630.35</td>\n",
       "      <td>MOORE CAMPAIGNS, LLC</td>\n",
       "    </tr>\n",
       "    <tr>\n",
       "      <td>1</td>\n",
       "      <td>C00000935</td>\n",
       "      <td>TRUMP, DONALD J. / MICHAEL R. PENCE</td>\n",
       "      <td>DCCC</td>\n",
       "      <td>Y</td>\n",
       "      <td>ORG</td>\n",
       "      <td>24A</td>\n",
       "      <td>836.0</td>\n",
       "      <td>2.208914e+08</td>\n",
       "      <td>80378630.35</td>\n",
       "      <td>MOORE CAMPAIGNS, LLC</td>\n",
       "    </tr>\n",
       "    <tr>\n",
       "      <td>2</td>\n",
       "      <td>C00000935</td>\n",
       "      <td>TRUMP, DONALD J. / MICHAEL R. PENCE</td>\n",
       "      <td>DCCC</td>\n",
       "      <td>Y</td>\n",
       "      <td>ORG</td>\n",
       "      <td>24A</td>\n",
       "      <td>77062.0</td>\n",
       "      <td>2.208914e+08</td>\n",
       "      <td>80378630.35</td>\n",
       "      <td>GREAT AMERICAN MEDIA</td>\n",
       "    </tr>\n",
       "    <tr>\n",
       "      <td>3</td>\n",
       "      <td>C00000935</td>\n",
       "      <td>TRUMP, DONALD J. / MICHAEL R. PENCE</td>\n",
       "      <td>DCCC</td>\n",
       "      <td>Y</td>\n",
       "      <td>ORG</td>\n",
       "      <td>24A</td>\n",
       "      <td>108354.0</td>\n",
       "      <td>2.208914e+08</td>\n",
       "      <td>80378630.35</td>\n",
       "      <td>GREAT AMERICAN MEDIA</td>\n",
       "    </tr>\n",
       "    <tr>\n",
       "      <td>4</td>\n",
       "      <td>C00000935</td>\n",
       "      <td>TRUMP, DONALD J. / MICHAEL R. PENCE</td>\n",
       "      <td>DCCC</td>\n",
       "      <td>Y</td>\n",
       "      <td>ORG</td>\n",
       "      <td>24A</td>\n",
       "      <td>6220.0</td>\n",
       "      <td>2.208914e+08</td>\n",
       "      <td>80378630.35</td>\n",
       "      <td>RALSTON LAPP MEDIA, LLC</td>\n",
       "    </tr>\n",
       "  </tbody>\n",
       "</table>\n",
       "</div>"
      ],
      "text/plain": [
       "     CMTE_ID                             CAND_NAME CMTE_NM CMTE_TP ENTITY_TP  \\\n",
       "0  C00000935  TRUMP, DONALD J. / MICHAEL R. PENCE     DCCC       Y       ORG   \n",
       "1  C00000935  TRUMP, DONALD J. / MICHAEL R. PENCE     DCCC       Y       ORG   \n",
       "2  C00000935  TRUMP, DONALD J. / MICHAEL R. PENCE     DCCC       Y       ORG   \n",
       "3  C00000935  TRUMP, DONALD J. / MICHAEL R. PENCE     DCCC       Y       ORG   \n",
       "4  C00000935  TRUMP, DONALD J. / MICHAEL R. PENCE     DCCC       Y       ORG   \n",
       "\n",
       "  TRANSACTION_TP  TRANSACTION_AMT  TTL_RECEIPTS      IND_EXP  \\\n",
       "0            24A           2168.0  2.208914e+08  80378630.35   \n",
       "1            24A            836.0  2.208914e+08  80378630.35   \n",
       "2            24A          77062.0  2.208914e+08  80378630.35   \n",
       "3            24A         108354.0  2.208914e+08  80378630.35   \n",
       "4            24A           6220.0  2.208914e+08  80378630.35   \n",
       "\n",
       "                      NAME  \n",
       "0     MOORE CAMPAIGNS, LLC  \n",
       "1     MOORE CAMPAIGNS, LLC  \n",
       "2     GREAT AMERICAN MEDIA  \n",
       "3     GREAT AMERICAN MEDIA  \n",
       "4  RALSTON LAPP MEDIA, LLC  "
      ]
     },
     "execution_count": 17,
     "metadata": {},
     "output_type": "execute_result"
    }
   ],
   "source": [
    "pacsAndCandsFiltered = pacsAndCands[[ 'CMTE_ID', 'CAND_NAME', 'CMTE_NM', 'CMTE_TP', 'ENTITY_TP', 'TRANSACTION_TP', \n",
    "                                   'TRANSACTION_AMT', 'TTL_RECEIPTS', 'IND_EXP', 'NAME']]\n",
    "pacsAndCandsFiltered.head(5)"
   ]
  },
  {
   "cell_type": "code",
   "execution_count": 18,
   "metadata": {},
   "outputs": [],
   "source": [
    "pacsAndCandsFiltered = pacsAndCandsFiltered[pacsAndCandsFiltered['TRANSACTION_AMT']>0]"
   ]
  },
  {
   "cell_type": "markdown",
   "metadata": {},
   "source": [
    "**GET SUPERPACS**<br>\n",
    "Superpacs are defined by their comittee type('O')<br>\n",
    "https://www.fec.gov/campaign-finance-data/committee-type-code-descriptions/\n"
   ]
  },
  {
   "cell_type": "code",
   "execution_count": 98,
   "metadata": {},
   "outputs": [
    {
     "data": {
      "text/html": [
       "<div>\n",
       "<style scoped>\n",
       "    .dataframe tbody tr th:only-of-type {\n",
       "        vertical-align: middle;\n",
       "    }\n",
       "\n",
       "    .dataframe tbody tr th {\n",
       "        vertical-align: top;\n",
       "    }\n",
       "\n",
       "    .dataframe thead th {\n",
       "        text-align: right;\n",
       "    }\n",
       "</style>\n",
       "<table border=\"1\" class=\"dataframe\">\n",
       "  <thead>\n",
       "    <tr style=\"text-align: right;\">\n",
       "      <th></th>\n",
       "      <th>CMTE_ID</th>\n",
       "      <th>CAND_NAME</th>\n",
       "      <th>CMTE_NM</th>\n",
       "      <th>CMTE_TP</th>\n",
       "      <th>ENTITY_TP</th>\n",
       "      <th>TRANSACTION_TP</th>\n",
       "      <th>TRANSACTION_AMT</th>\n",
       "      <th>TTL_RECEIPTS</th>\n",
       "      <th>IND_EXP</th>\n",
       "      <th>NAME</th>\n",
       "    </tr>\n",
       "  </thead>\n",
       "  <tbody>\n",
       "    <tr>\n",
       "      <td>2133</td>\n",
       "      <td>C00607697</td>\n",
       "      <td>TRUMP, DONALD J. / MICHAEL R. PENCE</td>\n",
       "      <td>OUR VOICE MATTERS SUPER PAC</td>\n",
       "      <td>O</td>\n",
       "      <td>ORG</td>\n",
       "      <td>24E</td>\n",
       "      <td>6000.0</td>\n",
       "      <td>80000.00</td>\n",
       "      <td>76300.00</td>\n",
       "      <td>SMPS CONSULTING, LLC</td>\n",
       "    </tr>\n",
       "    <tr>\n",
       "      <td>111015</td>\n",
       "      <td>C00625533</td>\n",
       "      <td>CLINTON, HILLARY RODHAM / TIMOTHY MICHAEL KAINE</td>\n",
       "      <td>NEW AMERICAN JOBS FUND</td>\n",
       "      <td>O</td>\n",
       "      <td>ORG</td>\n",
       "      <td>24E</td>\n",
       "      <td>172078.0</td>\n",
       "      <td>5805000.00</td>\n",
       "      <td>5745908.69</td>\n",
       "      <td>TERRA STRATEGIES, LLC</td>\n",
       "    </tr>\n",
       "    <tr>\n",
       "      <td>52743</td>\n",
       "      <td>C00609388</td>\n",
       "      <td>CLINTON, HILLARY RODHAM / TIMOTHY MICHAEL KAINE</td>\n",
       "      <td>BLACK PAC</td>\n",
       "      <td>O</td>\n",
       "      <td>ORG</td>\n",
       "      <td>24E</td>\n",
       "      <td>25000.0</td>\n",
       "      <td>3713763.07</td>\n",
       "      <td>2980000.11</td>\n",
       "      <td>SEIU FLORIDA STATE COUNCIL</td>\n",
       "    </tr>\n",
       "    <tr>\n",
       "      <td>3253</td>\n",
       "      <td>C00623256</td>\n",
       "      <td>TRUMP, DONALD J. / MICHAEL R. PENCE</td>\n",
       "      <td>AMERICA COMES FIRST PAC</td>\n",
       "      <td>O</td>\n",
       "      <td>IND</td>\n",
       "      <td>24E</td>\n",
       "      <td>125.0</td>\n",
       "      <td>231865.00</td>\n",
       "      <td>185697.60</td>\n",
       "      <td>EDWARDS, WILLIE</td>\n",
       "    </tr>\n",
       "    <tr>\n",
       "      <td>1575</td>\n",
       "      <td>C00569905</td>\n",
       "      <td>TRUMP, DONALD J. / MICHAEL R. PENCE</td>\n",
       "      <td>THE 2016 COMMITTEE</td>\n",
       "      <td>O</td>\n",
       "      <td>ORG</td>\n",
       "      <td>24E</td>\n",
       "      <td>340.0</td>\n",
       "      <td>15020143.14</td>\n",
       "      <td>6167228.28</td>\n",
       "      <td>WASHINGTON INTELLIGENCE BUREAU</td>\n",
       "    </tr>\n",
       "  </tbody>\n",
       "</table>\n",
       "</div>"
      ],
      "text/plain": [
       "          CMTE_ID                                        CAND_NAME  \\\n",
       "2133    C00607697             TRUMP, DONALD J. / MICHAEL R. PENCE    \n",
       "111015  C00625533  CLINTON, HILLARY RODHAM / TIMOTHY MICHAEL KAINE   \n",
       "52743   C00609388  CLINTON, HILLARY RODHAM / TIMOTHY MICHAEL KAINE   \n",
       "3253    C00623256             TRUMP, DONALD J. / MICHAEL R. PENCE    \n",
       "1575    C00569905             TRUMP, DONALD J. / MICHAEL R. PENCE    \n",
       "\n",
       "                            CMTE_NM CMTE_TP ENTITY_TP TRANSACTION_TP  \\\n",
       "2133    OUR VOICE MATTERS SUPER PAC       O       ORG            24E   \n",
       "111015       NEW AMERICAN JOBS FUND       O       ORG            24E   \n",
       "52743                     BLACK PAC       O       ORG            24E   \n",
       "3253        AMERICA COMES FIRST PAC       O       IND            24E   \n",
       "1575             THE 2016 COMMITTEE       O       ORG            24E   \n",
       "\n",
       "        TRANSACTION_AMT  TTL_RECEIPTS     IND_EXP  \\\n",
       "2133             6000.0      80000.00    76300.00   \n",
       "111015         172078.0    5805000.00  5745908.69   \n",
       "52743           25000.0    3713763.07  2980000.11   \n",
       "3253              125.0     231865.00   185697.60   \n",
       "1575              340.0   15020143.14  6167228.28   \n",
       "\n",
       "                                  NAME  \n",
       "2133              SMPS CONSULTING, LLC  \n",
       "111015           TERRA STRATEGIES, LLC  \n",
       "52743       SEIU FLORIDA STATE COUNCIL  \n",
       "3253                   EDWARDS, WILLIE  \n",
       "1575    WASHINGTON INTELLIGENCE BUREAU  "
      ]
     },
     "execution_count": 98,
     "metadata": {},
     "output_type": "execute_result"
    }
   ],
   "source": [
    "superPacs = pacsAndCandsFiltered[pacsAndCandsFiltered['CMTE_TP']=='O']\n",
    "superPacs.shape\n",
    "superPacs.sample(5)"
   ]
  },
  {
   "cell_type": "markdown",
   "metadata": {},
   "source": [
    "**FIND TOP FOR EACH CANDIDATE**"
   ]
  },
  {
   "cell_type": "code",
   "execution_count": 100,
   "metadata": {},
   "outputs": [
    {
     "data": {
      "text/html": [
       "<div>\n",
       "<style scoped>\n",
       "    .dataframe tbody tr th:only-of-type {\n",
       "        vertical-align: middle;\n",
       "    }\n",
       "\n",
       "    .dataframe tbody tr th {\n",
       "        vertical-align: top;\n",
       "    }\n",
       "\n",
       "    .dataframe thead th {\n",
       "        text-align: right;\n",
       "    }\n",
       "</style>\n",
       "<table border=\"1\" class=\"dataframe\">\n",
       "  <thead>\n",
       "    <tr style=\"text-align: right;\">\n",
       "      <th></th>\n",
       "      <th>CMTE_ID</th>\n",
       "      <th>CMTE_NM</th>\n",
       "      <th>TRANSACTION_AMT</th>\n",
       "      <th>TTL_RECEIPTS</th>\n",
       "    </tr>\n",
       "  </thead>\n",
       "  <tbody>\n",
       "    <tr>\n",
       "      <td>47327</td>\n",
       "      <td>C00405878</td>\n",
       "      <td>AMERICANS FOR LEGAL IMMIGRATION PAC</td>\n",
       "      <td>174.0</td>\n",
       "      <td>210920.58</td>\n",
       "    </tr>\n",
       "    <tr>\n",
       "      <td>47395</td>\n",
       "      <td>C00473918</td>\n",
       "      <td>WOMEN VOTE!</td>\n",
       "      <td>2857.0</td>\n",
       "      <td>36685866.33</td>\n",
       "    </tr>\n",
       "    <tr>\n",
       "      <td>47396</td>\n",
       "      <td>C00473918</td>\n",
       "      <td>WOMEN VOTE!</td>\n",
       "      <td>14200.0</td>\n",
       "      <td>36685866.33</td>\n",
       "    </tr>\n",
       "    <tr>\n",
       "      <td>47397</td>\n",
       "      <td>C00473918</td>\n",
       "      <td>WOMEN VOTE!</td>\n",
       "      <td>5800.0</td>\n",
       "      <td>36685866.33</td>\n",
       "    </tr>\n",
       "    <tr>\n",
       "      <td>47398</td>\n",
       "      <td>C00473918</td>\n",
       "      <td>WOMEN VOTE!</td>\n",
       "      <td>2857.0</td>\n",
       "      <td>36685866.33</td>\n",
       "    </tr>\n",
       "  </tbody>\n",
       "</table>\n",
       "</div>"
      ],
      "text/plain": [
       "         CMTE_ID                              CMTE_NM  TRANSACTION_AMT  \\\n",
       "47327  C00405878  AMERICANS FOR LEGAL IMMIGRATION PAC            174.0   \n",
       "47395  C00473918                          WOMEN VOTE!           2857.0   \n",
       "47396  C00473918                          WOMEN VOTE!          14200.0   \n",
       "47397  C00473918                          WOMEN VOTE!           5800.0   \n",
       "47398  C00473918                          WOMEN VOTE!           2857.0   \n",
       "\n",
       "       TTL_RECEIPTS  \n",
       "47327     210920.58  \n",
       "47395   36685866.33  \n",
       "47396   36685866.33  \n",
       "47397   36685866.33  \n",
       "47398   36685866.33  "
      ]
     },
     "execution_count": 100,
     "metadata": {},
     "output_type": "execute_result"
    }
   ],
   "source": [
    "hillaryPacs = superPacs[superPacs['CAND_NAME'].str.contains('CLINTON, HILLARY')]\n",
    "hillaryPacs = hillaryPacs[['CMTE_ID', 'CMTE_NM', 'TRANSACTION_AMT','TTL_RECEIPTS']]\n",
    "hillaryPacs.head(5)"
   ]
  },
  {
   "cell_type": "code",
   "execution_count": 102,
   "metadata": {},
   "outputs": [
    {
     "data": {
      "text/html": [
       "<div>\n",
       "<style scoped>\n",
       "    .dataframe tbody tr th:only-of-type {\n",
       "        vertical-align: middle;\n",
       "    }\n",
       "\n",
       "    .dataframe tbody tr th {\n",
       "        vertical-align: top;\n",
       "    }\n",
       "\n",
       "    .dataframe thead th {\n",
       "        text-align: right;\n",
       "    }\n",
       "</style>\n",
       "<table border=\"1\" class=\"dataframe\">\n",
       "  <thead>\n",
       "    <tr style=\"text-align: right;\">\n",
       "      <th></th>\n",
       "      <th>CMTE_ID</th>\n",
       "      <th>CMTE_NM</th>\n",
       "      <th>TRANSACTION_AMT</th>\n",
       "      <th>TTL_RECEIPTS</th>\n",
       "    </tr>\n",
       "  </thead>\n",
       "  <tbody>\n",
       "    <tr>\n",
       "      <td>833</td>\n",
       "      <td>C00473918</td>\n",
       "      <td>WOMEN VOTE!</td>\n",
       "      <td>12333.0</td>\n",
       "      <td>36685866.33</td>\n",
       "    </tr>\n",
       "    <tr>\n",
       "      <td>834</td>\n",
       "      <td>C00473918</td>\n",
       "      <td>WOMEN VOTE!</td>\n",
       "      <td>93219.0</td>\n",
       "      <td>36685866.33</td>\n",
       "    </tr>\n",
       "    <tr>\n",
       "      <td>835</td>\n",
       "      <td>C00473918</td>\n",
       "      <td>WOMEN VOTE!</td>\n",
       "      <td>673224.0</td>\n",
       "      <td>36685866.33</td>\n",
       "    </tr>\n",
       "    <tr>\n",
       "      <td>836</td>\n",
       "      <td>C00473918</td>\n",
       "      <td>WOMEN VOTE!</td>\n",
       "      <td>450000.0</td>\n",
       "      <td>36685866.33</td>\n",
       "    </tr>\n",
       "    <tr>\n",
       "      <td>837</td>\n",
       "      <td>C00473918</td>\n",
       "      <td>WOMEN VOTE!</td>\n",
       "      <td>558000.0</td>\n",
       "      <td>36685866.33</td>\n",
       "    </tr>\n",
       "  </tbody>\n",
       "</table>\n",
       "</div>"
      ],
      "text/plain": [
       "       CMTE_ID      CMTE_NM  TRANSACTION_AMT  TTL_RECEIPTS\n",
       "833  C00473918  WOMEN VOTE!          12333.0   36685866.33\n",
       "834  C00473918  WOMEN VOTE!          93219.0   36685866.33\n",
       "835  C00473918  WOMEN VOTE!         673224.0   36685866.33\n",
       "836  C00473918  WOMEN VOTE!         450000.0   36685866.33\n",
       "837  C00473918  WOMEN VOTE!         558000.0   36685866.33"
      ]
     },
     "execution_count": 102,
     "metadata": {},
     "output_type": "execute_result"
    }
   ],
   "source": [
    "trumpPacs = superPacs[superPacs['CAND_NAME'].str.contains('TRUMP, DONALD J.')]\n",
    "trumpPacs = trumpPacs[['CMTE_ID', 'CMTE_NM', 'TRANSACTION_AMT','TTL_RECEIPTS']]\n",
    "trumpPacs.head(5)"
   ]
  },
  {
   "cell_type": "code",
   "execution_count": 107,
   "metadata": {},
   "outputs": [
    {
     "data": {
      "text/html": [
       "<div>\n",
       "<style scoped>\n",
       "    .dataframe tbody tr th:only-of-type {\n",
       "        vertical-align: middle;\n",
       "    }\n",
       "\n",
       "    .dataframe tbody tr th {\n",
       "        vertical-align: top;\n",
       "    }\n",
       "\n",
       "    .dataframe thead th {\n",
       "        text-align: right;\n",
       "    }\n",
       "</style>\n",
       "<table border=\"1\" class=\"dataframe\">\n",
       "  <thead>\n",
       "    <tr style=\"text-align: right;\">\n",
       "      <th></th>\n",
       "      <th></th>\n",
       "      <th>TRANSACTION_AMT</th>\n",
       "      <th>TTL_RECEIPTS</th>\n",
       "    </tr>\n",
       "    <tr>\n",
       "      <th>CMTE_ID</th>\n",
       "      <th>CMTE_NM</th>\n",
       "      <th></th>\n",
       "      <th></th>\n",
       "    </tr>\n",
       "  </thead>\n",
       "  <tbody>\n",
       "    <tr>\n",
       "      <td>C00495861</td>\n",
       "      <td>PRIORITIES USA ACTION</td>\n",
       "      <td>126062193.0</td>\n",
       "      <td>3.226705e+10</td>\n",
       "    </tr>\n",
       "    <tr>\n",
       "      <td>C00603621</td>\n",
       "      <td>OUR PRINCIPLES PAC</td>\n",
       "      <td>16353117.0</td>\n",
       "      <td>3.900105e+09</td>\n",
       "    </tr>\n",
       "    <tr>\n",
       "      <td>C00615815</td>\n",
       "      <td>NEXTGEN CALIFORNIA ACTION COMMITTEE</td>\n",
       "      <td>13240861.0</td>\n",
       "      <td>7.013293e+08</td>\n",
       "    </tr>\n",
       "    <tr>\n",
       "      <td>C00625525</td>\n",
       "      <td>LIFT LEADING ILLINOIS FOR TOMORROW</td>\n",
       "      <td>9922027.0</td>\n",
       "      <td>1.043675e+08</td>\n",
       "    </tr>\n",
       "    <tr>\n",
       "      <td>C00523621</td>\n",
       "      <td>UNITED WE CAN</td>\n",
       "      <td>8674114.0</td>\n",
       "      <td>2.686975e+09</td>\n",
       "    </tr>\n",
       "  </tbody>\n",
       "</table>\n",
       "</div>"
      ],
      "text/plain": [
       "                                               TRANSACTION_AMT  TTL_RECEIPTS\n",
       "CMTE_ID   CMTE_NM                                                           \n",
       "C00495861 PRIORITIES USA ACTION                    126062193.0  3.226705e+10\n",
       "C00603621 OUR PRINCIPLES PAC                        16353117.0  3.900105e+09\n",
       "C00615815 NEXTGEN CALIFORNIA ACTION COMMITTEE       13240861.0  7.013293e+08\n",
       "C00625525 LIFT LEADING ILLINOIS FOR TOMORROW         9922027.0  1.043675e+08\n",
       "C00523621 UNITED WE CAN                              8674114.0  2.686975e+09"
      ]
     },
     "execution_count": 107,
     "metadata": {},
     "output_type": "execute_result"
    }
   ],
   "source": [
    "trumpPacs.groupby(['CMTE_ID', 'CMTE_NM']).sum().sort_values(['TRANSACTION_AMT'],ascending=False).head(5)"
   ]
  },
  {
   "cell_type": "code",
   "execution_count": 108,
   "metadata": {},
   "outputs": [
    {
     "data": {
      "text/html": [
       "<div>\n",
       "<style scoped>\n",
       "    .dataframe tbody tr th:only-of-type {\n",
       "        vertical-align: middle;\n",
       "    }\n",
       "\n",
       "    .dataframe tbody tr th {\n",
       "        vertical-align: top;\n",
       "    }\n",
       "\n",
       "    .dataframe thead th {\n",
       "        text-align: right;\n",
       "    }\n",
       "</style>\n",
       "<table border=\"1\" class=\"dataframe\">\n",
       "  <thead>\n",
       "    <tr style=\"text-align: right;\">\n",
       "      <th></th>\n",
       "      <th></th>\n",
       "      <th>TRANSACTION_AMT</th>\n",
       "      <th>TTL_RECEIPTS</th>\n",
       "    </tr>\n",
       "    <tr>\n",
       "      <th>CMTE_ID</th>\n",
       "      <th>CMTE_NM</th>\n",
       "      <th></th>\n",
       "      <th></th>\n",
       "    </tr>\n",
       "  </thead>\n",
       "  <tbody>\n",
       "    <tr>\n",
       "      <td>C00574533</td>\n",
       "      <td>FUTURE45</td>\n",
       "      <td>24195670.0</td>\n",
       "      <td>5.199276e+09</td>\n",
       "    </tr>\n",
       "    <tr>\n",
       "      <td>C00618876</td>\n",
       "      <td>REBUILDING AMERICA NOW</td>\n",
       "      <td>17184458.0</td>\n",
       "      <td>1.133593e+09</td>\n",
       "    </tr>\n",
       "    <tr>\n",
       "      <td>C00495861</td>\n",
       "      <td>PRIORITIES USA ACTION</td>\n",
       "      <td>6473727.0</td>\n",
       "      <td>1.786212e+10</td>\n",
       "    </tr>\n",
       "    <tr>\n",
       "      <td>C00486845</td>\n",
       "      <td>LCV VICTORY FUND</td>\n",
       "      <td>6283002.0</td>\n",
       "      <td>4.322814e+08</td>\n",
       "    </tr>\n",
       "    <tr>\n",
       "      <td>C00490730</td>\n",
       "      <td>RGA RIGHT DIRECTION PAC</td>\n",
       "      <td>5728857.0</td>\n",
       "      <td>9.112688e+08</td>\n",
       "    </tr>\n",
       "  </tbody>\n",
       "</table>\n",
       "</div>"
      ],
      "text/plain": [
       "                                   TRANSACTION_AMT  TTL_RECEIPTS\n",
       "CMTE_ID   CMTE_NM                                               \n",
       "C00574533 FUTURE45                      24195670.0  5.199276e+09\n",
       "C00618876 REBUILDING AMERICA NOW        17184458.0  1.133593e+09\n",
       "C00495861 PRIORITIES USA ACTION          6473727.0  1.786212e+10\n",
       "C00486845 LCV VICTORY FUND               6283002.0  4.322814e+08\n",
       "C00490730 RGA RIGHT DIRECTION PAC        5728857.0  9.112688e+08"
      ]
     },
     "execution_count": 108,
     "metadata": {},
     "output_type": "execute_result"
    }
   ],
   "source": [
    "hillaryPacs.groupby(['CMTE_ID', 'CMTE_NM']).sum().sort_values(['TRANSACTION_AMT'],ascending=False).head(5)"
   ]
  },
  {
   "cell_type": "markdown",
   "metadata": {},
   "source": [
    "**2. Identify the top 10 individual donors (i.e., persons) for each of the two presidential candidates<brk>\n",
    "and the amount they spent. In order to do that, you should know that donations are not always to a fundraising<brk>\n",
    "committee that can be directly linked to a candidate, but they can be due to other entities such as PACs.**\n"
   ]
  },
  {
   "cell_type": "markdown",
   "metadata": {},
   "source": [
    "**READ THE CONTRIBUTIONS OF INDIVIDUALS**"
   ]
  },
  {
   "cell_type": "code",
   "execution_count": 21,
   "metadata": {},
   "outputs": [],
   "source": [
    "headersContrIndiv = pd.read_csv('contr_indiv_header_file.csv')\n",
    "headersContrIndiv = headersContrIndiv.columns.tolist()"
   ]
  },
  {
   "cell_type": "code",
   "execution_count": 22,
   "metadata": {},
   "outputs": [],
   "source": [
    "data_types = {header:np.str for header in headersContrIndiv}\n",
    "data_types['TRANSACTION_AMT'] = np.float"
   ]
  },
  {
   "cell_type": "code",
   "execution_count": 23,
   "metadata": {},
   "outputs": [
    {
     "name": "stdout",
     "output_type": "stream",
     "text": [
      "(20498303, 21)\n"
     ]
    },
    {
     "data": {
      "text/html": [
       "<div>\n",
       "<style scoped>\n",
       "    .dataframe tbody tr th:only-of-type {\n",
       "        vertical-align: middle;\n",
       "    }\n",
       "\n",
       "    .dataframe tbody tr th {\n",
       "        vertical-align: top;\n",
       "    }\n",
       "\n",
       "    .dataframe thead th {\n",
       "        text-align: right;\n",
       "    }\n",
       "</style>\n",
       "<table border=\"1\" class=\"dataframe\">\n",
       "  <thead>\n",
       "    <tr style=\"text-align: right;\">\n",
       "      <th></th>\n",
       "      <th>CMTE_ID</th>\n",
       "      <th>AMNDT_IND</th>\n",
       "      <th>RPT_TP</th>\n",
       "      <th>TRANSACTION_PGI</th>\n",
       "      <th>IMAGE_NUM</th>\n",
       "      <th>TRANSACTION_TP</th>\n",
       "      <th>ENTITY_TP</th>\n",
       "      <th>NAME</th>\n",
       "      <th>CITY</th>\n",
       "      <th>STATE</th>\n",
       "      <th>ZIP_CODE</th>\n",
       "      <th>EMPLOYER</th>\n",
       "      <th>OCCUPATION</th>\n",
       "      <th>TRANSACTION_DT</th>\n",
       "      <th>TRANSACTION_AMT</th>\n",
       "      <th>OTHER_ID</th>\n",
       "      <th>TRAN_ID</th>\n",
       "      <th>FILE_NUM</th>\n",
       "      <th>MEMO_CD</th>\n",
       "      <th>MEMO_TEXT</th>\n",
       "      <th>SUB_ID</th>\n",
       "    </tr>\n",
       "  </thead>\n",
       "  <tbody>\n",
       "    <tr>\n",
       "      <td>0</td>\n",
       "      <td>C00088591</td>\n",
       "      <td>N</td>\n",
       "      <td>M3</td>\n",
       "      <td>P</td>\n",
       "      <td>15970306895</td>\n",
       "      <td>15</td>\n",
       "      <td>IND</td>\n",
       "      <td>BURCH, MARY K.</td>\n",
       "      <td>FALLS CHURCH</td>\n",
       "      <td>VA</td>\n",
       "      <td>220424511</td>\n",
       "      <td>NORTHROP GRUMMAN</td>\n",
       "      <td>VP PROGRAM MANAGEMENT</td>\n",
       "      <td>02132015</td>\n",
       "      <td>500.0</td>\n",
       "      <td>NaN</td>\n",
       "      <td>2A8EE0688413416FA735</td>\n",
       "      <td>998834</td>\n",
       "      <td>NaN</td>\n",
       "      <td>NaN</td>\n",
       "      <td>4032020151240885624</td>\n",
       "    </tr>\n",
       "    <tr>\n",
       "      <td>1</td>\n",
       "      <td>C00088591</td>\n",
       "      <td>N</td>\n",
       "      <td>M3</td>\n",
       "      <td>P</td>\n",
       "      <td>15970306960</td>\n",
       "      <td>15</td>\n",
       "      <td>IND</td>\n",
       "      <td>KOUNTZ, DONALD E.</td>\n",
       "      <td>FALLS CHURCH</td>\n",
       "      <td>VA</td>\n",
       "      <td>220424511</td>\n",
       "      <td>NORTHROP GRUMMAN</td>\n",
       "      <td>DIR PROGRAMS</td>\n",
       "      <td>02132015</td>\n",
       "      <td>200.0</td>\n",
       "      <td>NaN</td>\n",
       "      <td>20150211113220-479</td>\n",
       "      <td>998834</td>\n",
       "      <td>NaN</td>\n",
       "      <td>NaN</td>\n",
       "      <td>4032020151240885819</td>\n",
       "    </tr>\n",
       "    <tr>\n",
       "      <td>2</td>\n",
       "      <td>C00088591</td>\n",
       "      <td>N</td>\n",
       "      <td>M3</td>\n",
       "      <td>P</td>\n",
       "      <td>15970306960</td>\n",
       "      <td>15</td>\n",
       "      <td>IND</td>\n",
       "      <td>KOUNTZ, DONALD E.</td>\n",
       "      <td>FALLS CHURCH</td>\n",
       "      <td>VA</td>\n",
       "      <td>220424511</td>\n",
       "      <td>NORTHROP GRUMMAN</td>\n",
       "      <td>DIR PROGRAMS</td>\n",
       "      <td>02272015</td>\n",
       "      <td>200.0</td>\n",
       "      <td>NaN</td>\n",
       "      <td>20150225112333-476</td>\n",
       "      <td>998834</td>\n",
       "      <td>NaN</td>\n",
       "      <td>NaN</td>\n",
       "      <td>4032020151240885820</td>\n",
       "    </tr>\n",
       "    <tr>\n",
       "      <td>3</td>\n",
       "      <td>C00088591</td>\n",
       "      <td>N</td>\n",
       "      <td>M3</td>\n",
       "      <td>P</td>\n",
       "      <td>15970306915</td>\n",
       "      <td>15</td>\n",
       "      <td>IND</td>\n",
       "      <td>DOSHI, NIMISH M.</td>\n",
       "      <td>FALLS CHURCH</td>\n",
       "      <td>VA</td>\n",
       "      <td>220424511</td>\n",
       "      <td>NORTHROP GRUMMAN</td>\n",
       "      <td>VP AND CFO</td>\n",
       "      <td>02132015</td>\n",
       "      <td>200.0</td>\n",
       "      <td>NaN</td>\n",
       "      <td>20150309_2943</td>\n",
       "      <td>998834</td>\n",
       "      <td>NaN</td>\n",
       "      <td>NaN</td>\n",
       "      <td>4032020151240885683</td>\n",
       "    </tr>\n",
       "    <tr>\n",
       "      <td>4</td>\n",
       "      <td>C00088591</td>\n",
       "      <td>N</td>\n",
       "      <td>M3</td>\n",
       "      <td>P</td>\n",
       "      <td>15970306915</td>\n",
       "      <td>15</td>\n",
       "      <td>IND</td>\n",
       "      <td>DOSHI, NIMISH M.</td>\n",
       "      <td>FALLS CHURCH</td>\n",
       "      <td>VA</td>\n",
       "      <td>220424511</td>\n",
       "      <td>NORTHROP GRUMMAN</td>\n",
       "      <td>VP AND CFO</td>\n",
       "      <td>02272015</td>\n",
       "      <td>200.0</td>\n",
       "      <td>NaN</td>\n",
       "      <td>20150224153748-2525</td>\n",
       "      <td>998834</td>\n",
       "      <td>NaN</td>\n",
       "      <td>NaN</td>\n",
       "      <td>4032020151240885684</td>\n",
       "    </tr>\n",
       "  </tbody>\n",
       "</table>\n",
       "</div>"
      ],
      "text/plain": [
       "     CMTE_ID AMNDT_IND RPT_TP TRANSACTION_PGI    IMAGE_NUM TRANSACTION_TP  \\\n",
       "0  C00088591         N     M3               P  15970306895             15   \n",
       "1  C00088591         N     M3               P  15970306960             15   \n",
       "2  C00088591         N     M3               P  15970306960             15   \n",
       "3  C00088591         N     M3               P  15970306915             15   \n",
       "4  C00088591         N     M3               P  15970306915             15   \n",
       "\n",
       "  ENTITY_TP               NAME          CITY STATE   ZIP_CODE  \\\n",
       "0       IND     BURCH, MARY K.  FALLS CHURCH    VA  220424511   \n",
       "1       IND  KOUNTZ, DONALD E.  FALLS CHURCH    VA  220424511   \n",
       "2       IND  KOUNTZ, DONALD E.  FALLS CHURCH    VA  220424511   \n",
       "3       IND   DOSHI, NIMISH M.  FALLS CHURCH    VA  220424511   \n",
       "4       IND   DOSHI, NIMISH M.  FALLS CHURCH    VA  220424511   \n",
       "\n",
       "           EMPLOYER             OCCUPATION TRANSACTION_DT  TRANSACTION_AMT  \\\n",
       "0  NORTHROP GRUMMAN  VP PROGRAM MANAGEMENT       02132015            500.0   \n",
       "1  NORTHROP GRUMMAN           DIR PROGRAMS       02132015            200.0   \n",
       "2  NORTHROP GRUMMAN           DIR PROGRAMS       02272015            200.0   \n",
       "3  NORTHROP GRUMMAN             VP AND CFO       02132015            200.0   \n",
       "4  NORTHROP GRUMMAN             VP AND CFO       02272015            200.0   \n",
       "\n",
       "  OTHER_ID               TRAN_ID FILE_NUM MEMO_CD MEMO_TEXT  \\\n",
       "0      NaN  2A8EE0688413416FA735   998834     NaN       NaN   \n",
       "1      NaN    20150211113220-479   998834     NaN       NaN   \n",
       "2      NaN    20150225112333-476   998834     NaN       NaN   \n",
       "3      NaN         20150309_2943   998834     NaN       NaN   \n",
       "4      NaN   20150224153748-2525   998834     NaN       NaN   \n",
       "\n",
       "                SUB_ID  \n",
       "0  4032020151240885624  \n",
       "1  4032020151240885819  \n",
       "2  4032020151240885820  \n",
       "3  4032020151240885683  \n",
       "4  4032020151240885684  "
      ]
     },
     "execution_count": 23,
     "metadata": {},
     "output_type": "execute_result"
    }
   ],
   "source": [
    "contr = pd.read_csv('contr_indiv/itcont.txt', sep=\"|\", index_col=False, names=headersContrIndiv, dtype=data_types)\n",
    "print(contr.shape)\n",
    "contr.head(5)"
   ]
  },
  {
   "cell_type": "code",
   "execution_count": 24,
   "metadata": {},
   "outputs": [],
   "source": [
    "contr = contr[contr['TRANSACTION_AMT']>0]"
   ]
  },
  {
   "cell_type": "markdown",
   "metadata": {},
   "source": [
    "**LINK THE CONTRIBUTIONS WITH THE CANDITATES THE COMMITEES SUPPORT**"
   ]
  },
  {
   "cell_type": "code",
   "execution_count": 25,
   "metadata": {},
   "outputs": [],
   "source": [
    "headersCom = pd.read_csv('comm_header_file.csv')\n",
    "headersCom = headersCom.columns.tolist()"
   ]
  },
  {
   "cell_type": "code",
   "execution_count": 26,
   "metadata": {},
   "outputs": [
    {
     "data": {
      "text/html": [
       "<div>\n",
       "<style scoped>\n",
       "    .dataframe tbody tr th:only-of-type {\n",
       "        vertical-align: middle;\n",
       "    }\n",
       "\n",
       "    .dataframe tbody tr th {\n",
       "        vertical-align: top;\n",
       "    }\n",
       "\n",
       "    .dataframe thead th {\n",
       "        text-align: right;\n",
       "    }\n",
       "</style>\n",
       "<table border=\"1\" class=\"dataframe\">\n",
       "  <thead>\n",
       "    <tr style=\"text-align: right;\">\n",
       "      <th></th>\n",
       "      <th>CMTE_ID</th>\n",
       "      <th>CMTE_NM</th>\n",
       "      <th>TRES_NM</th>\n",
       "      <th>CMTE_ST1</th>\n",
       "      <th>CMTE_ST2</th>\n",
       "      <th>CMTE_CITY</th>\n",
       "      <th>CMTE_ST</th>\n",
       "      <th>CMTE_ZIP</th>\n",
       "      <th>CMTE_DSGN</th>\n",
       "      <th>CMTE_TP</th>\n",
       "      <th>CMTE_PTY_AFFILIATION</th>\n",
       "      <th>CMTE_FILING_FREQ</th>\n",
       "      <th>ORG_TP</th>\n",
       "      <th>CONNECTED_ORG_NM</th>\n",
       "      <th>CAND_ID</th>\n",
       "    </tr>\n",
       "  </thead>\n",
       "  <tbody>\n",
       "    <tr>\n",
       "      <td>0</td>\n",
       "      <td>C00000059</td>\n",
       "      <td>HALLMARK CARDS PAC</td>\n",
       "      <td>ERIN BROWER</td>\n",
       "      <td>2501 MCGEE</td>\n",
       "      <td>MD#288</td>\n",
       "      <td>KANSAS CITY</td>\n",
       "      <td>MO</td>\n",
       "      <td>64108</td>\n",
       "      <td>U</td>\n",
       "      <td>Q</td>\n",
       "      <td>UNK</td>\n",
       "      <td>M</td>\n",
       "      <td>C</td>\n",
       "      <td>NaN</td>\n",
       "      <td>NaN</td>\n",
       "    </tr>\n",
       "    <tr>\n",
       "      <td>1</td>\n",
       "      <td>C00000422</td>\n",
       "      <td>AMERICAN MEDICAL ASSOCIATION POLITICAL ACTION ...</td>\n",
       "      <td>WALKER, KEVIN</td>\n",
       "      <td>25 MASSACHUSETTS AVE, NW</td>\n",
       "      <td>SUITE 600</td>\n",
       "      <td>WASHINGTON</td>\n",
       "      <td>DC</td>\n",
       "      <td>20001</td>\n",
       "      <td>B</td>\n",
       "      <td>Q</td>\n",
       "      <td>NaN</td>\n",
       "      <td>M</td>\n",
       "      <td>M</td>\n",
       "      <td>AMERICAN MEDICAL ASSOCIATION</td>\n",
       "      <td>NaN</td>\n",
       "    </tr>\n",
       "    <tr>\n",
       "      <td>2</td>\n",
       "      <td>C00000489</td>\n",
       "      <td>D R I V E POLITICAL FUND CHAPTER 886</td>\n",
       "      <td>TOM RITTER</td>\n",
       "      <td>3528 W RENO</td>\n",
       "      <td>NaN</td>\n",
       "      <td>OKLAHOMA CITY</td>\n",
       "      <td>OK</td>\n",
       "      <td>73107</td>\n",
       "      <td>U</td>\n",
       "      <td>N</td>\n",
       "      <td>NaN</td>\n",
       "      <td>Q</td>\n",
       "      <td>L</td>\n",
       "      <td>TEAMSTERS LOCAL UNION 886</td>\n",
       "      <td>NaN</td>\n",
       "    </tr>\n",
       "    <tr>\n",
       "      <td>3</td>\n",
       "      <td>C00000547</td>\n",
       "      <td>KANSAS MEDICAL SOCIETY POLITICAL ACTION COMMITTEE</td>\n",
       "      <td>C. RICHARD BONEBRAKE, M.D.</td>\n",
       "      <td>623 SW 10TH AVE</td>\n",
       "      <td>NaN</td>\n",
       "      <td>TOPEKA</td>\n",
       "      <td>KS</td>\n",
       "      <td>66612</td>\n",
       "      <td>U</td>\n",
       "      <td>Q</td>\n",
       "      <td>UNK</td>\n",
       "      <td>Q</td>\n",
       "      <td>T</td>\n",
       "      <td>NaN</td>\n",
       "      <td>NaN</td>\n",
       "    </tr>\n",
       "    <tr>\n",
       "      <td>4</td>\n",
       "      <td>C00000638</td>\n",
       "      <td>INDIANA STATE MEDICAL ASSOCIATION POLITICAL AC...</td>\n",
       "      <td>VIDYA KORA, M.D.</td>\n",
       "      <td>322 CANAL WALK, CANAL LEVEL</td>\n",
       "      <td>NaN</td>\n",
       "      <td>INDIANAPOLIS</td>\n",
       "      <td>IN</td>\n",
       "      <td>46202</td>\n",
       "      <td>U</td>\n",
       "      <td>Q</td>\n",
       "      <td>NaN</td>\n",
       "      <td>Q</td>\n",
       "      <td>M</td>\n",
       "      <td>NaN</td>\n",
       "      <td>NaN</td>\n",
       "    </tr>\n",
       "  </tbody>\n",
       "</table>\n",
       "</div>"
      ],
      "text/plain": [
       "     CMTE_ID                                            CMTE_NM  \\\n",
       "0  C00000059                                 HALLMARK CARDS PAC   \n",
       "1  C00000422  AMERICAN MEDICAL ASSOCIATION POLITICAL ACTION ...   \n",
       "2  C00000489               D R I V E POLITICAL FUND CHAPTER 886   \n",
       "3  C00000547  KANSAS MEDICAL SOCIETY POLITICAL ACTION COMMITTEE   \n",
       "4  C00000638  INDIANA STATE MEDICAL ASSOCIATION POLITICAL AC...   \n",
       "\n",
       "                      TRES_NM                     CMTE_ST1   CMTE_ST2  \\\n",
       "0                 ERIN BROWER                   2501 MCGEE     MD#288   \n",
       "1               WALKER, KEVIN     25 MASSACHUSETTS AVE, NW  SUITE 600   \n",
       "2                  TOM RITTER                  3528 W RENO        NaN   \n",
       "3  C. RICHARD BONEBRAKE, M.D.              623 SW 10TH AVE        NaN   \n",
       "4            VIDYA KORA, M.D.  322 CANAL WALK, CANAL LEVEL        NaN   \n",
       "\n",
       "       CMTE_CITY CMTE_ST CMTE_ZIP CMTE_DSGN CMTE_TP CMTE_PTY_AFFILIATION  \\\n",
       "0    KANSAS CITY      MO    64108         U       Q                  UNK   \n",
       "1     WASHINGTON      DC    20001         B       Q                  NaN   \n",
       "2  OKLAHOMA CITY      OK    73107         U       N                  NaN   \n",
       "3         TOPEKA      KS    66612         U       Q                  UNK   \n",
       "4   INDIANAPOLIS      IN    46202         U       Q                  NaN   \n",
       "\n",
       "  CMTE_FILING_FREQ ORG_TP              CONNECTED_ORG_NM CAND_ID  \n",
       "0                M      C                           NaN     NaN  \n",
       "1                M      M  AMERICAN MEDICAL ASSOCIATION     NaN  \n",
       "2                Q      L     TEAMSTERS LOCAL UNION 886     NaN  \n",
       "3                Q      T                           NaN     NaN  \n",
       "4                Q      M                           NaN     NaN  "
      ]
     },
     "execution_count": 26,
     "metadata": {},
     "output_type": "execute_result"
    }
   ],
   "source": [
    "committees = pd.read_csv('comm.txt', sep=\"|\", index_col=False, names=headersCom)\n",
    "committees.head(5)"
   ]
  },
  {
   "cell_type": "code",
   "execution_count": 27,
   "metadata": {},
   "outputs": [
    {
     "data": {
      "text/html": [
       "<div>\n",
       "<style scoped>\n",
       "    .dataframe tbody tr th:only-of-type {\n",
       "        vertical-align: middle;\n",
       "    }\n",
       "\n",
       "    .dataframe tbody tr th {\n",
       "        vertical-align: top;\n",
       "    }\n",
       "\n",
       "    .dataframe thead th {\n",
       "        text-align: right;\n",
       "    }\n",
       "</style>\n",
       "<table border=\"1\" class=\"dataframe\">\n",
       "  <thead>\n",
       "    <tr style=\"text-align: right;\">\n",
       "      <th></th>\n",
       "      <th>CMTE_ID</th>\n",
       "      <th>AMNDT_IND</th>\n",
       "      <th>RPT_TP</th>\n",
       "      <th>TRANSACTION_PGI</th>\n",
       "      <th>IMAGE_NUM</th>\n",
       "      <th>TRANSACTION_TP</th>\n",
       "      <th>ENTITY_TP</th>\n",
       "      <th>NAME</th>\n",
       "      <th>CITY</th>\n",
       "      <th>STATE</th>\n",
       "      <th>ZIP_CODE</th>\n",
       "      <th>EMPLOYER</th>\n",
       "      <th>OCCUPATION</th>\n",
       "      <th>TRANSACTION_DT</th>\n",
       "      <th>TRANSACTION_AMT</th>\n",
       "      <th>OTHER_ID</th>\n",
       "      <th>TRAN_ID</th>\n",
       "      <th>FILE_NUM</th>\n",
       "      <th>MEMO_CD</th>\n",
       "      <th>MEMO_TEXT</th>\n",
       "      <th>SUB_ID</th>\n",
       "      <th>CAND_ID</th>\n",
       "      <th>CMTE_NM</th>\n",
       "    </tr>\n",
       "  </thead>\n",
       "  <tbody>\n",
       "    <tr>\n",
       "      <td>0</td>\n",
       "      <td>C00088591</td>\n",
       "      <td>N</td>\n",
       "      <td>M3</td>\n",
       "      <td>P</td>\n",
       "      <td>15970306895</td>\n",
       "      <td>15</td>\n",
       "      <td>IND</td>\n",
       "      <td>BURCH, MARY K.</td>\n",
       "      <td>FALLS CHURCH</td>\n",
       "      <td>VA</td>\n",
       "      <td>220424511</td>\n",
       "      <td>NORTHROP GRUMMAN</td>\n",
       "      <td>VP PROGRAM MANAGEMENT</td>\n",
       "      <td>02132015</td>\n",
       "      <td>500.0</td>\n",
       "      <td>NaN</td>\n",
       "      <td>2A8EE0688413416FA735</td>\n",
       "      <td>998834</td>\n",
       "      <td>NaN</td>\n",
       "      <td>NaN</td>\n",
       "      <td>4032020151240885624</td>\n",
       "      <td>NaN</td>\n",
       "      <td>EMPLOYEES OF NORTHROP GRUMMAN CORPORATION PAC</td>\n",
       "    </tr>\n",
       "    <tr>\n",
       "      <td>1</td>\n",
       "      <td>C00088591</td>\n",
       "      <td>N</td>\n",
       "      <td>M3</td>\n",
       "      <td>P</td>\n",
       "      <td>15970306960</td>\n",
       "      <td>15</td>\n",
       "      <td>IND</td>\n",
       "      <td>KOUNTZ, DONALD E.</td>\n",
       "      <td>FALLS CHURCH</td>\n",
       "      <td>VA</td>\n",
       "      <td>220424511</td>\n",
       "      <td>NORTHROP GRUMMAN</td>\n",
       "      <td>DIR PROGRAMS</td>\n",
       "      <td>02132015</td>\n",
       "      <td>200.0</td>\n",
       "      <td>NaN</td>\n",
       "      <td>20150211113220-479</td>\n",
       "      <td>998834</td>\n",
       "      <td>NaN</td>\n",
       "      <td>NaN</td>\n",
       "      <td>4032020151240885819</td>\n",
       "      <td>NaN</td>\n",
       "      <td>EMPLOYEES OF NORTHROP GRUMMAN CORPORATION PAC</td>\n",
       "    </tr>\n",
       "    <tr>\n",
       "      <td>2</td>\n",
       "      <td>C00088591</td>\n",
       "      <td>N</td>\n",
       "      <td>M3</td>\n",
       "      <td>P</td>\n",
       "      <td>15970306960</td>\n",
       "      <td>15</td>\n",
       "      <td>IND</td>\n",
       "      <td>KOUNTZ, DONALD E.</td>\n",
       "      <td>FALLS CHURCH</td>\n",
       "      <td>VA</td>\n",
       "      <td>220424511</td>\n",
       "      <td>NORTHROP GRUMMAN</td>\n",
       "      <td>DIR PROGRAMS</td>\n",
       "      <td>02272015</td>\n",
       "      <td>200.0</td>\n",
       "      <td>NaN</td>\n",
       "      <td>20150225112333-476</td>\n",
       "      <td>998834</td>\n",
       "      <td>NaN</td>\n",
       "      <td>NaN</td>\n",
       "      <td>4032020151240885820</td>\n",
       "      <td>NaN</td>\n",
       "      <td>EMPLOYEES OF NORTHROP GRUMMAN CORPORATION PAC</td>\n",
       "    </tr>\n",
       "    <tr>\n",
       "      <td>3</td>\n",
       "      <td>C00088591</td>\n",
       "      <td>N</td>\n",
       "      <td>M3</td>\n",
       "      <td>P</td>\n",
       "      <td>15970306915</td>\n",
       "      <td>15</td>\n",
       "      <td>IND</td>\n",
       "      <td>DOSHI, NIMISH M.</td>\n",
       "      <td>FALLS CHURCH</td>\n",
       "      <td>VA</td>\n",
       "      <td>220424511</td>\n",
       "      <td>NORTHROP GRUMMAN</td>\n",
       "      <td>VP AND CFO</td>\n",
       "      <td>02132015</td>\n",
       "      <td>200.0</td>\n",
       "      <td>NaN</td>\n",
       "      <td>20150309_2943</td>\n",
       "      <td>998834</td>\n",
       "      <td>NaN</td>\n",
       "      <td>NaN</td>\n",
       "      <td>4032020151240885683</td>\n",
       "      <td>NaN</td>\n",
       "      <td>EMPLOYEES OF NORTHROP GRUMMAN CORPORATION PAC</td>\n",
       "    </tr>\n",
       "    <tr>\n",
       "      <td>4</td>\n",
       "      <td>C00088591</td>\n",
       "      <td>N</td>\n",
       "      <td>M3</td>\n",
       "      <td>P</td>\n",
       "      <td>15970306915</td>\n",
       "      <td>15</td>\n",
       "      <td>IND</td>\n",
       "      <td>DOSHI, NIMISH M.</td>\n",
       "      <td>FALLS CHURCH</td>\n",
       "      <td>VA</td>\n",
       "      <td>220424511</td>\n",
       "      <td>NORTHROP GRUMMAN</td>\n",
       "      <td>VP AND CFO</td>\n",
       "      <td>02272015</td>\n",
       "      <td>200.0</td>\n",
       "      <td>NaN</td>\n",
       "      <td>20150224153748-2525</td>\n",
       "      <td>998834</td>\n",
       "      <td>NaN</td>\n",
       "      <td>NaN</td>\n",
       "      <td>4032020151240885684</td>\n",
       "      <td>NaN</td>\n",
       "      <td>EMPLOYEES OF NORTHROP GRUMMAN CORPORATION PAC</td>\n",
       "    </tr>\n",
       "  </tbody>\n",
       "</table>\n",
       "</div>"
      ],
      "text/plain": [
       "     CMTE_ID AMNDT_IND RPT_TP TRANSACTION_PGI    IMAGE_NUM TRANSACTION_TP  \\\n",
       "0  C00088591         N     M3               P  15970306895             15   \n",
       "1  C00088591         N     M3               P  15970306960             15   \n",
       "2  C00088591         N     M3               P  15970306960             15   \n",
       "3  C00088591         N     M3               P  15970306915             15   \n",
       "4  C00088591         N     M3               P  15970306915             15   \n",
       "\n",
       "  ENTITY_TP               NAME          CITY STATE   ZIP_CODE  \\\n",
       "0       IND     BURCH, MARY K.  FALLS CHURCH    VA  220424511   \n",
       "1       IND  KOUNTZ, DONALD E.  FALLS CHURCH    VA  220424511   \n",
       "2       IND  KOUNTZ, DONALD E.  FALLS CHURCH    VA  220424511   \n",
       "3       IND   DOSHI, NIMISH M.  FALLS CHURCH    VA  220424511   \n",
       "4       IND   DOSHI, NIMISH M.  FALLS CHURCH    VA  220424511   \n",
       "\n",
       "           EMPLOYER             OCCUPATION TRANSACTION_DT  TRANSACTION_AMT  \\\n",
       "0  NORTHROP GRUMMAN  VP PROGRAM MANAGEMENT       02132015            500.0   \n",
       "1  NORTHROP GRUMMAN           DIR PROGRAMS       02132015            200.0   \n",
       "2  NORTHROP GRUMMAN           DIR PROGRAMS       02272015            200.0   \n",
       "3  NORTHROP GRUMMAN             VP AND CFO       02132015            200.0   \n",
       "4  NORTHROP GRUMMAN             VP AND CFO       02272015            200.0   \n",
       "\n",
       "  OTHER_ID               TRAN_ID FILE_NUM MEMO_CD MEMO_TEXT  \\\n",
       "0      NaN  2A8EE0688413416FA735   998834     NaN       NaN   \n",
       "1      NaN    20150211113220-479   998834     NaN       NaN   \n",
       "2      NaN    20150225112333-476   998834     NaN       NaN   \n",
       "3      NaN         20150309_2943   998834     NaN       NaN   \n",
       "4      NaN   20150224153748-2525   998834     NaN       NaN   \n",
       "\n",
       "                SUB_ID CAND_ID                                        CMTE_NM  \n",
       "0  4032020151240885624     NaN  EMPLOYEES OF NORTHROP GRUMMAN CORPORATION PAC  \n",
       "1  4032020151240885819     NaN  EMPLOYEES OF NORTHROP GRUMMAN CORPORATION PAC  \n",
       "2  4032020151240885820     NaN  EMPLOYEES OF NORTHROP GRUMMAN CORPORATION PAC  \n",
       "3  4032020151240885683     NaN  EMPLOYEES OF NORTHROP GRUMMAN CORPORATION PAC  \n",
       "4  4032020151240885684     NaN  EMPLOYEES OF NORTHROP GRUMMAN CORPORATION PAC  "
      ]
     },
     "execution_count": 27,
     "metadata": {},
     "output_type": "execute_result"
    }
   ],
   "source": [
    "contributionsWithCommittees = pd.merge(contr, committees[['CMTE_ID','CAND_ID','CMTE_NM']], on='CMTE_ID', how='inner')\n",
    "contributionsWithCommittees.head(5)"
   ]
  },
  {
   "cell_type": "code",
   "execution_count": 28,
   "metadata": {},
   "outputs": [
    {
     "data": {
      "text/html": [
       "<div>\n",
       "<style scoped>\n",
       "    .dataframe tbody tr th:only-of-type {\n",
       "        vertical-align: middle;\n",
       "    }\n",
       "\n",
       "    .dataframe tbody tr th {\n",
       "        vertical-align: top;\n",
       "    }\n",
       "\n",
       "    .dataframe thead th {\n",
       "        text-align: right;\n",
       "    }\n",
       "</style>\n",
       "<table border=\"1\" class=\"dataframe\">\n",
       "  <thead>\n",
       "    <tr style=\"text-align: right;\">\n",
       "      <th></th>\n",
       "      <th>CMTE_ID</th>\n",
       "      <th>AMNDT_IND</th>\n",
       "      <th>RPT_TP</th>\n",
       "      <th>TRANSACTION_PGI</th>\n",
       "      <th>IMAGE_NUM</th>\n",
       "      <th>TRANSACTION_TP</th>\n",
       "      <th>ENTITY_TP</th>\n",
       "      <th>NAME</th>\n",
       "      <th>CITY</th>\n",
       "      <th>STATE</th>\n",
       "      <th>ZIP_CODE</th>\n",
       "      <th>EMPLOYER</th>\n",
       "      <th>OCCUPATION</th>\n",
       "      <th>TRANSACTION_DT</th>\n",
       "      <th>TRANSACTION_AMT</th>\n",
       "      <th>OTHER_ID</th>\n",
       "      <th>TRAN_ID</th>\n",
       "      <th>FILE_NUM</th>\n",
       "      <th>MEMO_CD</th>\n",
       "      <th>MEMO_TEXT</th>\n",
       "      <th>SUB_ID</th>\n",
       "      <th>CAND_ID</th>\n",
       "      <th>CMTE_NM</th>\n",
       "      <th>CAND_NAME</th>\n",
       "    </tr>\n",
       "  </thead>\n",
       "  <tbody>\n",
       "    <tr>\n",
       "      <td>0</td>\n",
       "      <td>C00575795</td>\n",
       "      <td>A</td>\n",
       "      <td>Q2</td>\n",
       "      <td>P2016</td>\n",
       "      <td>201509039001600101</td>\n",
       "      <td>15</td>\n",
       "      <td>IND</td>\n",
       "      <td>CLARY, CAROLE</td>\n",
       "      <td>DESTIN</td>\n",
       "      <td>FL</td>\n",
       "      <td>325405205</td>\n",
       "      <td>CPR OF DESTIN,  INC.</td>\n",
       "      <td>VP/DIRECTOR OF OPERATIONS</td>\n",
       "      <td>06152015</td>\n",
       "      <td>50.0</td>\n",
       "      <td>NaN</td>\n",
       "      <td>C240090</td>\n",
       "      <td>1024052</td>\n",
       "      <td>NaN</td>\n",
       "      <td>NaN</td>\n",
       "      <td>4090920151249600958</td>\n",
       "      <td>P00003392</td>\n",
       "      <td>HILLARY FOR AMERICA</td>\n",
       "      <td>CLINTON, HILLARY RODHAM / TIMOTHY MICHAEL KAINE</td>\n",
       "    </tr>\n",
       "    <tr>\n",
       "      <td>1</td>\n",
       "      <td>C00575795</td>\n",
       "      <td>A</td>\n",
       "      <td>Q2</td>\n",
       "      <td>P2016</td>\n",
       "      <td>201509039001600101</td>\n",
       "      <td>15</td>\n",
       "      <td>IND</td>\n",
       "      <td>FEW, MELANIE</td>\n",
       "      <td>DALLAS</td>\n",
       "      <td>TX</td>\n",
       "      <td>752011123</td>\n",
       "      <td>ACE CASH EXPRESS</td>\n",
       "      <td>MARKETING</td>\n",
       "      <td>04122015</td>\n",
       "      <td>5.0</td>\n",
       "      <td>NaN</td>\n",
       "      <td>C17450</td>\n",
       "      <td>1024052</td>\n",
       "      <td>NaN</td>\n",
       "      <td>NaN</td>\n",
       "      <td>4090920151249600959</td>\n",
       "      <td>P00003392</td>\n",
       "      <td>HILLARY FOR AMERICA</td>\n",
       "      <td>CLINTON, HILLARY RODHAM / TIMOTHY MICHAEL KAINE</td>\n",
       "    </tr>\n",
       "    <tr>\n",
       "      <td>2</td>\n",
       "      <td>C00575795</td>\n",
       "      <td>A</td>\n",
       "      <td>Q2</td>\n",
       "      <td>P2016</td>\n",
       "      <td>201509039001600101</td>\n",
       "      <td>15</td>\n",
       "      <td>IND</td>\n",
       "      <td>SPURLOCK, MICHAEL</td>\n",
       "      <td>NASHVILLE</td>\n",
       "      <td>TN</td>\n",
       "      <td>372036615</td>\n",
       "      <td>NaN</td>\n",
       "      <td>NOT EMPLOYED</td>\n",
       "      <td>06132015</td>\n",
       "      <td>50.0</td>\n",
       "      <td>NaN</td>\n",
       "      <td>C234270</td>\n",
       "      <td>1024052</td>\n",
       "      <td>NaN</td>\n",
       "      <td>NaN</td>\n",
       "      <td>4090920151249600960</td>\n",
       "      <td>P00003392</td>\n",
       "      <td>HILLARY FOR AMERICA</td>\n",
       "      <td>CLINTON, HILLARY RODHAM / TIMOTHY MICHAEL KAINE</td>\n",
       "    </tr>\n",
       "    <tr>\n",
       "      <td>3</td>\n",
       "      <td>C00575795</td>\n",
       "      <td>A</td>\n",
       "      <td>Q2</td>\n",
       "      <td>P2016</td>\n",
       "      <td>201509039001600102</td>\n",
       "      <td>15</td>\n",
       "      <td>IND</td>\n",
       "      <td>ELIAS, JOHN</td>\n",
       "      <td>WASHINGTON</td>\n",
       "      <td>DC</td>\n",
       "      <td>200053743</td>\n",
       "      <td>U.S. DEPARTMENT OF JUSTICE</td>\n",
       "      <td>ATTORNEY</td>\n",
       "      <td>06112015</td>\n",
       "      <td>100.0</td>\n",
       "      <td>NaN</td>\n",
       "      <td>C223180</td>\n",
       "      <td>1024052</td>\n",
       "      <td>NaN</td>\n",
       "      <td>NaN</td>\n",
       "      <td>4090920151249600961</td>\n",
       "      <td>P00003392</td>\n",
       "      <td>HILLARY FOR AMERICA</td>\n",
       "      <td>CLINTON, HILLARY RODHAM / TIMOTHY MICHAEL KAINE</td>\n",
       "    </tr>\n",
       "    <tr>\n",
       "      <td>4</td>\n",
       "      <td>C00575795</td>\n",
       "      <td>A</td>\n",
       "      <td>Q2</td>\n",
       "      <td>P2016</td>\n",
       "      <td>201509039001600102</td>\n",
       "      <td>15</td>\n",
       "      <td>IND</td>\n",
       "      <td>SHIFTON, CONSTANCE</td>\n",
       "      <td>CHERRY HILL</td>\n",
       "      <td>NJ</td>\n",
       "      <td>080031314</td>\n",
       "      <td>SELF-EMPLOYED</td>\n",
       "      <td>EDUCATIONAL ADVISOR</td>\n",
       "      <td>06122015</td>\n",
       "      <td>50.0</td>\n",
       "      <td>NaN</td>\n",
       "      <td>C229360</td>\n",
       "      <td>1024052</td>\n",
       "      <td>NaN</td>\n",
       "      <td>NaN</td>\n",
       "      <td>4090920151249600962</td>\n",
       "      <td>P00003392</td>\n",
       "      <td>HILLARY FOR AMERICA</td>\n",
       "      <td>CLINTON, HILLARY RODHAM / TIMOTHY MICHAEL KAINE</td>\n",
       "    </tr>\n",
       "  </tbody>\n",
       "</table>\n",
       "</div>"
      ],
      "text/plain": [
       "     CMTE_ID AMNDT_IND RPT_TP TRANSACTION_PGI           IMAGE_NUM  \\\n",
       "0  C00575795         A     Q2           P2016  201509039001600101   \n",
       "1  C00575795         A     Q2           P2016  201509039001600101   \n",
       "2  C00575795         A     Q2           P2016  201509039001600101   \n",
       "3  C00575795         A     Q2           P2016  201509039001600102   \n",
       "4  C00575795         A     Q2           P2016  201509039001600102   \n",
       "\n",
       "  TRANSACTION_TP ENTITY_TP                NAME         CITY STATE   ZIP_CODE  \\\n",
       "0             15       IND       CLARY, CAROLE       DESTIN    FL  325405205   \n",
       "1             15       IND        FEW, MELANIE       DALLAS    TX  752011123   \n",
       "2             15       IND   SPURLOCK, MICHAEL    NASHVILLE    TN  372036615   \n",
       "3             15       IND         ELIAS, JOHN   WASHINGTON    DC  200053743   \n",
       "4             15       IND  SHIFTON, CONSTANCE  CHERRY HILL    NJ  080031314   \n",
       "\n",
       "                     EMPLOYER                 OCCUPATION TRANSACTION_DT  \\\n",
       "0        CPR OF DESTIN,  INC.  VP/DIRECTOR OF OPERATIONS       06152015   \n",
       "1            ACE CASH EXPRESS                  MARKETING       04122015   \n",
       "2                         NaN               NOT EMPLOYED       06132015   \n",
       "3  U.S. DEPARTMENT OF JUSTICE                   ATTORNEY       06112015   \n",
       "4               SELF-EMPLOYED        EDUCATIONAL ADVISOR       06122015   \n",
       "\n",
       "   TRANSACTION_AMT OTHER_ID  TRAN_ID FILE_NUM MEMO_CD MEMO_TEXT  \\\n",
       "0             50.0      NaN  C240090  1024052     NaN       NaN   \n",
       "1              5.0      NaN   C17450  1024052     NaN       NaN   \n",
       "2             50.0      NaN  C234270  1024052     NaN       NaN   \n",
       "3            100.0      NaN  C223180  1024052     NaN       NaN   \n",
       "4             50.0      NaN  C229360  1024052     NaN       NaN   \n",
       "\n",
       "                SUB_ID    CAND_ID              CMTE_NM  \\\n",
       "0  4090920151249600958  P00003392  HILLARY FOR AMERICA   \n",
       "1  4090920151249600959  P00003392  HILLARY FOR AMERICA   \n",
       "2  4090920151249600960  P00003392  HILLARY FOR AMERICA   \n",
       "3  4090920151249600961  P00003392  HILLARY FOR AMERICA   \n",
       "4  4090920151249600962  P00003392  HILLARY FOR AMERICA   \n",
       "\n",
       "                                         CAND_NAME  \n",
       "0  CLINTON, HILLARY RODHAM / TIMOTHY MICHAEL KAINE  \n",
       "1  CLINTON, HILLARY RODHAM / TIMOTHY MICHAEL KAINE  \n",
       "2  CLINTON, HILLARY RODHAM / TIMOTHY MICHAEL KAINE  \n",
       "3  CLINTON, HILLARY RODHAM / TIMOTHY MICHAEL KAINE  \n",
       "4  CLINTON, HILLARY RODHAM / TIMOTHY MICHAEL KAINE  "
      ]
     },
     "execution_count": 28,
     "metadata": {},
     "output_type": "execute_result"
    }
   ],
   "source": [
    "contributionsWithCommittees = pd.merge(contributionsWithCommittees, presidentialCanditates[['CAND_ID', 'CAND_NAME']], on='CAND_ID', how='inner')\n",
    "contributionsWithCommittees.head(5)"
   ]
  },
  {
   "cell_type": "markdown",
   "metadata": {},
   "source": [
    "Separate the two candidate contributions"
   ]
  },
  {
   "cell_type": "code",
   "execution_count": 29,
   "metadata": {},
   "outputs": [
    {
     "data": {
      "text/html": [
       "<div>\n",
       "<style scoped>\n",
       "    .dataframe tbody tr th:only-of-type {\n",
       "        vertical-align: middle;\n",
       "    }\n",
       "\n",
       "    .dataframe tbody tr th {\n",
       "        vertical-align: top;\n",
       "    }\n",
       "\n",
       "    .dataframe thead th {\n",
       "        text-align: right;\n",
       "    }\n",
       "</style>\n",
       "<table border=\"1\" class=\"dataframe\">\n",
       "  <thead>\n",
       "    <tr style=\"text-align: right;\">\n",
       "      <th></th>\n",
       "      <th>NAME</th>\n",
       "      <th>TRANSACTION_AMT</th>\n",
       "    </tr>\n",
       "  </thead>\n",
       "  <tbody>\n",
       "    <tr>\n",
       "      <td>0</td>\n",
       "      <td>CLARY, CAROLE</td>\n",
       "      <td>50.0</td>\n",
       "    </tr>\n",
       "    <tr>\n",
       "      <td>1</td>\n",
       "      <td>FEW, MELANIE</td>\n",
       "      <td>5.0</td>\n",
       "    </tr>\n",
       "    <tr>\n",
       "      <td>2</td>\n",
       "      <td>SPURLOCK, MICHAEL</td>\n",
       "      <td>50.0</td>\n",
       "    </tr>\n",
       "    <tr>\n",
       "      <td>3</td>\n",
       "      <td>ELIAS, JOHN</td>\n",
       "      <td>100.0</td>\n",
       "    </tr>\n",
       "    <tr>\n",
       "      <td>4</td>\n",
       "      <td>SHIFTON, CONSTANCE</td>\n",
       "      <td>50.0</td>\n",
       "    </tr>\n",
       "  </tbody>\n",
       "</table>\n",
       "</div>"
      ],
      "text/plain": [
       "                 NAME  TRANSACTION_AMT\n",
       "0       CLARY, CAROLE             50.0\n",
       "1        FEW, MELANIE              5.0\n",
       "2   SPURLOCK, MICHAEL             50.0\n",
       "3         ELIAS, JOHN            100.0\n",
       "4  SHIFTON, CONSTANCE             50.0"
      ]
     },
     "execution_count": 29,
     "metadata": {},
     "output_type": "execute_result"
    }
   ],
   "source": [
    "hillaryContributions = contributionsWithCommittees[contributionsWithCommittees['CAND_NAME'].str.contains('CLINTON, HILLARY')]\n",
    "hillaryContributions = hillaryContributions[['NAME', 'TRANSACTION_AMT']]\n",
    "hillaryContributions.head(5)"
   ]
  },
  {
   "cell_type": "code",
   "execution_count": 30,
   "metadata": {},
   "outputs": [
    {
     "data": {
      "text/html": [
       "<div>\n",
       "<style scoped>\n",
       "    .dataframe tbody tr th:only-of-type {\n",
       "        vertical-align: middle;\n",
       "    }\n",
       "\n",
       "    .dataframe tbody tr th {\n",
       "        vertical-align: top;\n",
       "    }\n",
       "\n",
       "    .dataframe thead th {\n",
       "        text-align: right;\n",
       "    }\n",
       "</style>\n",
       "<table border=\"1\" class=\"dataframe\">\n",
       "  <thead>\n",
       "    <tr style=\"text-align: right;\">\n",
       "      <th></th>\n",
       "      <th>NAME</th>\n",
       "      <th>TRANSACTION_AMT</th>\n",
       "    </tr>\n",
       "  </thead>\n",
       "  <tbody>\n",
       "    <tr>\n",
       "      <td>2515042</td>\n",
       "      <td>BONNETT, ELLIOTT</td>\n",
       "      <td>60.0</td>\n",
       "    </tr>\n",
       "    <tr>\n",
       "      <td>2515043</td>\n",
       "      <td>FISHER, SANDI</td>\n",
       "      <td>100.0</td>\n",
       "    </tr>\n",
       "    <tr>\n",
       "      <td>2515044</td>\n",
       "      <td>FLAHART, MICHAEL</td>\n",
       "      <td>50.0</td>\n",
       "    </tr>\n",
       "    <tr>\n",
       "      <td>2515045</td>\n",
       "      <td>FLANAGAN, DAVID</td>\n",
       "      <td>162.0</td>\n",
       "    </tr>\n",
       "    <tr>\n",
       "      <td>2515046</td>\n",
       "      <td>LANDES, PATRICIA</td>\n",
       "      <td>10.0</td>\n",
       "    </tr>\n",
       "  </tbody>\n",
       "</table>\n",
       "</div>"
      ],
      "text/plain": [
       "                     NAME  TRANSACTION_AMT\n",
       "2515042  BONNETT, ELLIOTT             60.0\n",
       "2515043     FISHER, SANDI            100.0\n",
       "2515044  FLAHART, MICHAEL             50.0\n",
       "2515045   FLANAGAN, DAVID            162.0\n",
       "2515046  LANDES, PATRICIA             10.0"
      ]
     },
     "execution_count": 30,
     "metadata": {},
     "output_type": "execute_result"
    }
   ],
   "source": [
    "trumpContributions = contributionsWithCommittees[contributionsWithCommittees['CAND_NAME'].str.contains('TRUMP, DONALD J.')]\n",
    "trumpContributions = trumpContributions[['NAME', 'TRANSACTION_AMT']]\n",
    "trumpContributions.head(5)"
   ]
  },
  {
   "cell_type": "markdown",
   "metadata": {},
   "source": [
    "Show the top contributors"
   ]
  },
  {
   "cell_type": "code",
   "execution_count": 31,
   "metadata": {},
   "outputs": [
    {
     "data": {
      "text/html": [
       "<div>\n",
       "<style scoped>\n",
       "    .dataframe tbody tr th:only-of-type {\n",
       "        vertical-align: middle;\n",
       "    }\n",
       "\n",
       "    .dataframe tbody tr th {\n",
       "        vertical-align: top;\n",
       "    }\n",
       "\n",
       "    .dataframe thead th {\n",
       "        text-align: right;\n",
       "    }\n",
       "</style>\n",
       "<table border=\"1\" class=\"dataframe\">\n",
       "  <thead>\n",
       "    <tr style=\"text-align: right;\">\n",
       "      <th></th>\n",
       "      <th>TRANSACTION_AMT</th>\n",
       "    </tr>\n",
       "    <tr>\n",
       "      <th>NAME</th>\n",
       "      <th></th>\n",
       "    </tr>\n",
       "  </thead>\n",
       "  <tbody>\n",
       "    <tr>\n",
       "      <td>CLINTON, HILLARY RODHAM</td>\n",
       "      <td>1450306.0</td>\n",
       "    </tr>\n",
       "    <tr>\n",
       "      <td>RUNYAN, R. BRADLEY</td>\n",
       "      <td>35100.0</td>\n",
       "    </tr>\n",
       "    <tr>\n",
       "      <td>SMITH, MICHAEL</td>\n",
       "      <td>33909.0</td>\n",
       "    </tr>\n",
       "    <tr>\n",
       "      <td>BURNS, URSULA</td>\n",
       "      <td>32400.0</td>\n",
       "    </tr>\n",
       "    <tr>\n",
       "      <td>FRIEDMAN, JANELLE</td>\n",
       "      <td>32400.0</td>\n",
       "    </tr>\n",
       "  </tbody>\n",
       "</table>\n",
       "</div>"
      ],
      "text/plain": [
       "                         TRANSACTION_AMT\n",
       "NAME                                    \n",
       "CLINTON, HILLARY RODHAM        1450306.0\n",
       "RUNYAN, R. BRADLEY               35100.0\n",
       "SMITH, MICHAEL                   33909.0\n",
       "BURNS, URSULA                    32400.0\n",
       "FRIEDMAN, JANELLE                32400.0"
      ]
     },
     "execution_count": 31,
     "metadata": {},
     "output_type": "execute_result"
    }
   ],
   "source": [
    "hillaryContributions.groupby(['NAME']).sum().sort_values(['TRANSACTION_AMT'],ascending=False).head(5)"
   ]
  },
  {
   "cell_type": "code",
   "execution_count": 32,
   "metadata": {},
   "outputs": [
    {
     "data": {
      "text/html": [
       "<div>\n",
       "<style scoped>\n",
       "    .dataframe tbody tr th:only-of-type {\n",
       "        vertical-align: middle;\n",
       "    }\n",
       "\n",
       "    .dataframe tbody tr th {\n",
       "        vertical-align: top;\n",
       "    }\n",
       "\n",
       "    .dataframe thead th {\n",
       "        text-align: right;\n",
       "    }\n",
       "</style>\n",
       "<table border=\"1\" class=\"dataframe\">\n",
       "  <thead>\n",
       "    <tr style=\"text-align: right;\">\n",
       "      <th></th>\n",
       "      <th>TRANSACTION_AMT</th>\n",
       "    </tr>\n",
       "    <tr>\n",
       "      <th>NAME</th>\n",
       "      <th></th>\n",
       "    </tr>\n",
       "  </thead>\n",
       "  <tbody>\n",
       "    <tr>\n",
       "      <td>TRUMP, DONALD J</td>\n",
       "      <td>10033637.0</td>\n",
       "    </tr>\n",
       "    <tr>\n",
       "      <td>TRUMP, DONALD J.</td>\n",
       "      <td>6532038.0</td>\n",
       "    </tr>\n",
       "    <tr>\n",
       "      <td>TRUMP, DONALD J J.</td>\n",
       "      <td>2067482.0</td>\n",
       "    </tr>\n",
       "    <tr>\n",
       "      <td>BOCH, ERNIE</td>\n",
       "      <td>171172.0</td>\n",
       "    </tr>\n",
       "    <tr>\n",
       "      <td>TREIBEL, RANDY</td>\n",
       "      <td>52352.0</td>\n",
       "    </tr>\n",
       "  </tbody>\n",
       "</table>\n",
       "</div>"
      ],
      "text/plain": [
       "                    TRANSACTION_AMT\n",
       "NAME                               \n",
       "TRUMP, DONALD J          10033637.0\n",
       "TRUMP, DONALD J.          6532038.0\n",
       "TRUMP, DONALD J J.        2067482.0\n",
       "BOCH, ERNIE                171172.0\n",
       "TREIBEL, RANDY              52352.0"
      ]
     },
     "execution_count": 32,
     "metadata": {},
     "output_type": "execute_result"
    }
   ],
   "source": [
    "trumpContributions.groupby(['NAME']).sum().sort_values(['TRANSACTION_AMT'],ascending=False).head(5)"
   ]
  },
  {
   "cell_type": "markdown",
   "metadata": {},
   "source": [
    "An interesting result (Some may say \"you are your biggest fan\")"
   ]
  },
  {
   "cell_type": "markdown",
   "metadata": {},
   "source": [
    "**3. Investigate the chronological evolution of the contributions made to and the expenditures made by the campaigns.**"
   ]
  },
  {
   "cell_type": "code",
   "execution_count": 33,
   "metadata": {},
   "outputs": [
    {
     "data": {
      "text/html": [
       "<div>\n",
       "<style scoped>\n",
       "    .dataframe tbody tr th:only-of-type {\n",
       "        vertical-align: middle;\n",
       "    }\n",
       "\n",
       "    .dataframe tbody tr th {\n",
       "        vertical-align: top;\n",
       "    }\n",
       "\n",
       "    .dataframe thead th {\n",
       "        text-align: right;\n",
       "    }\n",
       "</style>\n",
       "<table border=\"1\" class=\"dataframe\">\n",
       "  <thead>\n",
       "    <tr style=\"text-align: right;\">\n",
       "      <th></th>\n",
       "      <th>CMTE_ID</th>\n",
       "      <th>AMNDT_IND</th>\n",
       "      <th>RPT_TP</th>\n",
       "      <th>TRANSACTION_PGI</th>\n",
       "      <th>IMAGE_NUM</th>\n",
       "      <th>TRANSACTION_TP</th>\n",
       "      <th>ENTITY_TP</th>\n",
       "      <th>NAME</th>\n",
       "      <th>CITY</th>\n",
       "      <th>STATE</th>\n",
       "      <th>ZIP_CODE</th>\n",
       "      <th>EMPLOYER</th>\n",
       "      <th>OCCUPATION</th>\n",
       "      <th>TRANSACTION_DT</th>\n",
       "      <th>TRANSACTION_AMT</th>\n",
       "      <th>OTHER_ID</th>\n",
       "      <th>TRAN_ID</th>\n",
       "      <th>FILE_NUM</th>\n",
       "      <th>MEMO_CD</th>\n",
       "      <th>MEMO_TEXT</th>\n",
       "      <th>SUB_ID</th>\n",
       "      <th>CAND_ID</th>\n",
       "      <th>CMTE_NM</th>\n",
       "      <th>CAND_NAME</th>\n",
       "    </tr>\n",
       "  </thead>\n",
       "  <tbody>\n",
       "    <tr>\n",
       "      <td>0</td>\n",
       "      <td>C00575795</td>\n",
       "      <td>A</td>\n",
       "      <td>Q2</td>\n",
       "      <td>P2016</td>\n",
       "      <td>201509039001600101</td>\n",
       "      <td>15</td>\n",
       "      <td>IND</td>\n",
       "      <td>CLARY, CAROLE</td>\n",
       "      <td>DESTIN</td>\n",
       "      <td>FL</td>\n",
       "      <td>325405205</td>\n",
       "      <td>CPR OF DESTIN,  INC.</td>\n",
       "      <td>VP/DIRECTOR OF OPERATIONS</td>\n",
       "      <td>2015-06-15</td>\n",
       "      <td>50.0</td>\n",
       "      <td>NaN</td>\n",
       "      <td>C240090</td>\n",
       "      <td>1024052</td>\n",
       "      <td>NaN</td>\n",
       "      <td>NaN</td>\n",
       "      <td>4090920151249600958</td>\n",
       "      <td>P00003392</td>\n",
       "      <td>HILLARY FOR AMERICA</td>\n",
       "      <td>CLINTON, HILLARY RODHAM / TIMOTHY MICHAEL KAINE</td>\n",
       "    </tr>\n",
       "    <tr>\n",
       "      <td>1</td>\n",
       "      <td>C00575795</td>\n",
       "      <td>A</td>\n",
       "      <td>Q2</td>\n",
       "      <td>P2016</td>\n",
       "      <td>201509039001600101</td>\n",
       "      <td>15</td>\n",
       "      <td>IND</td>\n",
       "      <td>FEW, MELANIE</td>\n",
       "      <td>DALLAS</td>\n",
       "      <td>TX</td>\n",
       "      <td>752011123</td>\n",
       "      <td>ACE CASH EXPRESS</td>\n",
       "      <td>MARKETING</td>\n",
       "      <td>2015-04-12</td>\n",
       "      <td>5.0</td>\n",
       "      <td>NaN</td>\n",
       "      <td>C17450</td>\n",
       "      <td>1024052</td>\n",
       "      <td>NaN</td>\n",
       "      <td>NaN</td>\n",
       "      <td>4090920151249600959</td>\n",
       "      <td>P00003392</td>\n",
       "      <td>HILLARY FOR AMERICA</td>\n",
       "      <td>CLINTON, HILLARY RODHAM / TIMOTHY MICHAEL KAINE</td>\n",
       "    </tr>\n",
       "    <tr>\n",
       "      <td>2</td>\n",
       "      <td>C00575795</td>\n",
       "      <td>A</td>\n",
       "      <td>Q2</td>\n",
       "      <td>P2016</td>\n",
       "      <td>201509039001600101</td>\n",
       "      <td>15</td>\n",
       "      <td>IND</td>\n",
       "      <td>SPURLOCK, MICHAEL</td>\n",
       "      <td>NASHVILLE</td>\n",
       "      <td>TN</td>\n",
       "      <td>372036615</td>\n",
       "      <td>NaN</td>\n",
       "      <td>NOT EMPLOYED</td>\n",
       "      <td>2015-06-13</td>\n",
       "      <td>50.0</td>\n",
       "      <td>NaN</td>\n",
       "      <td>C234270</td>\n",
       "      <td>1024052</td>\n",
       "      <td>NaN</td>\n",
       "      <td>NaN</td>\n",
       "      <td>4090920151249600960</td>\n",
       "      <td>P00003392</td>\n",
       "      <td>HILLARY FOR AMERICA</td>\n",
       "      <td>CLINTON, HILLARY RODHAM / TIMOTHY MICHAEL KAINE</td>\n",
       "    </tr>\n",
       "    <tr>\n",
       "      <td>3</td>\n",
       "      <td>C00575795</td>\n",
       "      <td>A</td>\n",
       "      <td>Q2</td>\n",
       "      <td>P2016</td>\n",
       "      <td>201509039001600102</td>\n",
       "      <td>15</td>\n",
       "      <td>IND</td>\n",
       "      <td>ELIAS, JOHN</td>\n",
       "      <td>WASHINGTON</td>\n",
       "      <td>DC</td>\n",
       "      <td>200053743</td>\n",
       "      <td>U.S. DEPARTMENT OF JUSTICE</td>\n",
       "      <td>ATTORNEY</td>\n",
       "      <td>2015-06-11</td>\n",
       "      <td>100.0</td>\n",
       "      <td>NaN</td>\n",
       "      <td>C223180</td>\n",
       "      <td>1024052</td>\n",
       "      <td>NaN</td>\n",
       "      <td>NaN</td>\n",
       "      <td>4090920151249600961</td>\n",
       "      <td>P00003392</td>\n",
       "      <td>HILLARY FOR AMERICA</td>\n",
       "      <td>CLINTON, HILLARY RODHAM / TIMOTHY MICHAEL KAINE</td>\n",
       "    </tr>\n",
       "    <tr>\n",
       "      <td>4</td>\n",
       "      <td>C00575795</td>\n",
       "      <td>A</td>\n",
       "      <td>Q2</td>\n",
       "      <td>P2016</td>\n",
       "      <td>201509039001600102</td>\n",
       "      <td>15</td>\n",
       "      <td>IND</td>\n",
       "      <td>SHIFTON, CONSTANCE</td>\n",
       "      <td>CHERRY HILL</td>\n",
       "      <td>NJ</td>\n",
       "      <td>080031314</td>\n",
       "      <td>SELF-EMPLOYED</td>\n",
       "      <td>EDUCATIONAL ADVISOR</td>\n",
       "      <td>2015-06-12</td>\n",
       "      <td>50.0</td>\n",
       "      <td>NaN</td>\n",
       "      <td>C229360</td>\n",
       "      <td>1024052</td>\n",
       "      <td>NaN</td>\n",
       "      <td>NaN</td>\n",
       "      <td>4090920151249600962</td>\n",
       "      <td>P00003392</td>\n",
       "      <td>HILLARY FOR AMERICA</td>\n",
       "      <td>CLINTON, HILLARY RODHAM / TIMOTHY MICHAEL KAINE</td>\n",
       "    </tr>\n",
       "  </tbody>\n",
       "</table>\n",
       "</div>"
      ],
      "text/plain": [
       "     CMTE_ID AMNDT_IND RPT_TP TRANSACTION_PGI           IMAGE_NUM  \\\n",
       "0  C00575795         A     Q2           P2016  201509039001600101   \n",
       "1  C00575795         A     Q2           P2016  201509039001600101   \n",
       "2  C00575795         A     Q2           P2016  201509039001600101   \n",
       "3  C00575795         A     Q2           P2016  201509039001600102   \n",
       "4  C00575795         A     Q2           P2016  201509039001600102   \n",
       "\n",
       "  TRANSACTION_TP ENTITY_TP                NAME         CITY STATE   ZIP_CODE  \\\n",
       "0             15       IND       CLARY, CAROLE       DESTIN    FL  325405205   \n",
       "1             15       IND        FEW, MELANIE       DALLAS    TX  752011123   \n",
       "2             15       IND   SPURLOCK, MICHAEL    NASHVILLE    TN  372036615   \n",
       "3             15       IND         ELIAS, JOHN   WASHINGTON    DC  200053743   \n",
       "4             15       IND  SHIFTON, CONSTANCE  CHERRY HILL    NJ  080031314   \n",
       "\n",
       "                     EMPLOYER                 OCCUPATION TRANSACTION_DT  \\\n",
       "0        CPR OF DESTIN,  INC.  VP/DIRECTOR OF OPERATIONS     2015-06-15   \n",
       "1            ACE CASH EXPRESS                  MARKETING     2015-04-12   \n",
       "2                         NaN               NOT EMPLOYED     2015-06-13   \n",
       "3  U.S. DEPARTMENT OF JUSTICE                   ATTORNEY     2015-06-11   \n",
       "4               SELF-EMPLOYED        EDUCATIONAL ADVISOR     2015-06-12   \n",
       "\n",
       "   TRANSACTION_AMT OTHER_ID  TRAN_ID FILE_NUM MEMO_CD MEMO_TEXT  \\\n",
       "0             50.0      NaN  C240090  1024052     NaN       NaN   \n",
       "1              5.0      NaN   C17450  1024052     NaN       NaN   \n",
       "2             50.0      NaN  C234270  1024052     NaN       NaN   \n",
       "3            100.0      NaN  C223180  1024052     NaN       NaN   \n",
       "4             50.0      NaN  C229360  1024052     NaN       NaN   \n",
       "\n",
       "                SUB_ID    CAND_ID              CMTE_NM  \\\n",
       "0  4090920151249600958  P00003392  HILLARY FOR AMERICA   \n",
       "1  4090920151249600959  P00003392  HILLARY FOR AMERICA   \n",
       "2  4090920151249600960  P00003392  HILLARY FOR AMERICA   \n",
       "3  4090920151249600961  P00003392  HILLARY FOR AMERICA   \n",
       "4  4090920151249600962  P00003392  HILLARY FOR AMERICA   \n",
       "\n",
       "                                         CAND_NAME  \n",
       "0  CLINTON, HILLARY RODHAM / TIMOTHY MICHAEL KAINE  \n",
       "1  CLINTON, HILLARY RODHAM / TIMOTHY MICHAEL KAINE  \n",
       "2  CLINTON, HILLARY RODHAM / TIMOTHY MICHAEL KAINE  \n",
       "3  CLINTON, HILLARY RODHAM / TIMOTHY MICHAEL KAINE  \n",
       "4  CLINTON, HILLARY RODHAM / TIMOTHY MICHAEL KAINE  "
      ]
     },
     "execution_count": 33,
     "metadata": {},
     "output_type": "execute_result"
    }
   ],
   "source": [
    "contributionsWithCommittees['TRANSACTION_DT'] = pd.to_datetime(contributionsWithCommittees['TRANSACTION_DT'], format='%m%d%Y')\n",
    "contributionsWithCommittees.head(5)"
   ]
  },
  {
   "cell_type": "markdown",
   "metadata": {},
   "source": [
    "Focus on creating a table that includes contribution information from both committees and individuals.<brk> \n",
    "Concat the two tables"
   ]
  },
  {
   "cell_type": "code",
   "execution_count": 34,
   "metadata": {},
   "outputs": [
    {
     "data": {
      "text/html": [
       "<div>\n",
       "<style scoped>\n",
       "    .dataframe tbody tr th:only-of-type {\n",
       "        vertical-align: middle;\n",
       "    }\n",
       "\n",
       "    .dataframe tbody tr th {\n",
       "        vertical-align: top;\n",
       "    }\n",
       "\n",
       "    .dataframe thead th {\n",
       "        text-align: right;\n",
       "    }\n",
       "</style>\n",
       "<table border=\"1\" class=\"dataframe\">\n",
       "  <thead>\n",
       "    <tr style=\"text-align: right;\">\n",
       "      <th></th>\n",
       "      <th>CMTE_ID</th>\n",
       "      <th>AMNDT_IND</th>\n",
       "      <th>RPT_TP</th>\n",
       "      <th>TRANSACTION_PGI</th>\n",
       "      <th>IMAGE_NUM</th>\n",
       "      <th>TRANSACTION_TP</th>\n",
       "      <th>ENTITY_TP</th>\n",
       "      <th>NAME</th>\n",
       "      <th>CITY</th>\n",
       "      <th>STATE</th>\n",
       "      <th>ZIP_CODE</th>\n",
       "      <th>EMPLOYER</th>\n",
       "      <th>OCCUPATION</th>\n",
       "      <th>TRANSACTION_DT</th>\n",
       "      <th>TRANSACTION_AMT</th>\n",
       "      <th>OTHER_ID</th>\n",
       "      <th>CAND_ID</th>\n",
       "      <th>TRAN_ID</th>\n",
       "      <th>FILE_NUM</th>\n",
       "      <th>MEMO_CD</th>\n",
       "      <th>MEMO_TEXT</th>\n",
       "      <th>SUB_ID</th>\n",
       "      <th>CAND_NAME</th>\n",
       "    </tr>\n",
       "  </thead>\n",
       "  <tbody>\n",
       "    <tr>\n",
       "      <td>10388</td>\n",
       "      <td>C90011156</td>\n",
       "      <td>N</td>\n",
       "      <td>Q3</td>\n",
       "      <td>G2016</td>\n",
       "      <td>201610129032264188</td>\n",
       "      <td>24E</td>\n",
       "      <td>ORG</td>\n",
       "      <td>BUDGET-ORLANDO</td>\n",
       "      <td>ORLANDO</td>\n",
       "      <td>FL</td>\n",
       "      <td>328097912</td>\n",
       "      <td>NaN</td>\n",
       "      <td>NaN</td>\n",
       "      <td>2016-09-26</td>\n",
       "      <td>8.0</td>\n",
       "      <td>P00003392</td>\n",
       "      <td>P00003392</td>\n",
       "      <td>VN7CZA40V89</td>\n",
       "      <td>1104329</td>\n",
       "      <td>NaN</td>\n",
       "      <td>NaN</td>\n",
       "      <td>4101320161340952701</td>\n",
       "      <td>CLINTON, HILLARY RODHAM / TIMOTHY MICHAEL KAINE</td>\n",
       "    </tr>\n",
       "    <tr>\n",
       "      <td>100118</td>\n",
       "      <td>C90011156</td>\n",
       "      <td>N</td>\n",
       "      <td>YE</td>\n",
       "      <td>G2016</td>\n",
       "      <td>201701319042180210</td>\n",
       "      <td>24A</td>\n",
       "      <td>IND</td>\n",
       "      <td>SADJI, YAWO</td>\n",
       "      <td>CANAL WINCHESTER</td>\n",
       "      <td>OH</td>\n",
       "      <td>431109017</td>\n",
       "      <td>NaN</td>\n",
       "      <td>NaN</td>\n",
       "      <td>2016-11-03</td>\n",
       "      <td>72.0</td>\n",
       "      <td>P80001571</td>\n",
       "      <td>P80001571</td>\n",
       "      <td>VN7CZA78EG5</td>\n",
       "      <td>1144686</td>\n",
       "      <td>NaN</td>\n",
       "      <td>NaN</td>\n",
       "      <td>4020920171370169371</td>\n",
       "      <td>TRUMP, DONALD J. / MICHAEL R. PENCE</td>\n",
       "    </tr>\n",
       "    <tr>\n",
       "      <td>51474</td>\n",
       "      <td>C90011156</td>\n",
       "      <td>N</td>\n",
       "      <td>YE</td>\n",
       "      <td>G2016</td>\n",
       "      <td>201701319042151778</td>\n",
       "      <td>24E</td>\n",
       "      <td>IND</td>\n",
       "      <td>BERAUT, GENESSON</td>\n",
       "      <td>ORLANDO</td>\n",
       "      <td>FL</td>\n",
       "      <td>32808</td>\n",
       "      <td>NaN</td>\n",
       "      <td>NaN</td>\n",
       "      <td>2016-09-07</td>\n",
       "      <td>34.0</td>\n",
       "      <td>P00003392</td>\n",
       "      <td>P00003392</td>\n",
       "      <td>VN7CZA32XV7</td>\n",
       "      <td>1144686</td>\n",
       "      <td>NaN</td>\n",
       "      <td>NaN</td>\n",
       "      <td>4020920171370084075</td>\n",
       "      <td>CLINTON, HILLARY RODHAM / TIMOTHY MICHAEL KAINE</td>\n",
       "    </tr>\n",
       "    <tr>\n",
       "      <td>65996</td>\n",
       "      <td>C00569905</td>\n",
       "      <td>A</td>\n",
       "      <td>30G</td>\n",
       "      <td>G2016</td>\n",
       "      <td>201701279041526534</td>\n",
       "      <td>24E</td>\n",
       "      <td>ORG</td>\n",
       "      <td>PROGRESS PRINTING PLUS</td>\n",
       "      <td>LYNCHBURG</td>\n",
       "      <td>VA</td>\n",
       "      <td>24502</td>\n",
       "      <td>NaN</td>\n",
       "      <td>NaN</td>\n",
       "      <td>2016-11-08</td>\n",
       "      <td>2524.0</td>\n",
       "      <td>P80001571</td>\n",
       "      <td>P80001571</td>\n",
       "      <td>SE24.93654</td>\n",
       "      <td>1142488</td>\n",
       "      <td>NaN</td>\n",
       "      <td>NaN</td>\n",
       "      <td>4021020171370392752</td>\n",
       "      <td>TRUMP, DONALD J. / MICHAEL R. PENCE</td>\n",
       "    </tr>\n",
       "    <tr>\n",
       "      <td>54960</td>\n",
       "      <td>C90011156</td>\n",
       "      <td>N</td>\n",
       "      <td>YE</td>\n",
       "      <td>G2016</td>\n",
       "      <td>201701319042145393</td>\n",
       "      <td>24E</td>\n",
       "      <td>IND</td>\n",
       "      <td>MATHEWS, TAYLOR</td>\n",
       "      <td>COLUMBUS</td>\n",
       "      <td>OH</td>\n",
       "      <td>432193164</td>\n",
       "      <td>NaN</td>\n",
       "      <td>NaN</td>\n",
       "      <td>2016-08-11</td>\n",
       "      <td>27.0</td>\n",
       "      <td>P00003392</td>\n",
       "      <td>P00003392</td>\n",
       "      <td>VN7CZA27XA0</td>\n",
       "      <td>1144686</td>\n",
       "      <td>NaN</td>\n",
       "      <td>NaN</td>\n",
       "      <td>4020920171370064919</td>\n",
       "      <td>CLINTON, HILLARY RODHAM / TIMOTHY MICHAEL KAINE</td>\n",
       "    </tr>\n",
       "  </tbody>\n",
       "</table>\n",
       "</div>"
      ],
      "text/plain": [
       "          CMTE_ID AMNDT_IND RPT_TP TRANSACTION_PGI           IMAGE_NUM  \\\n",
       "10388   C90011156         N     Q3           G2016  201610129032264188   \n",
       "100118  C90011156         N     YE           G2016  201701319042180210   \n",
       "51474   C90011156         N     YE           G2016  201701319042151778   \n",
       "65996   C00569905         A    30G           G2016  201701279041526534   \n",
       "54960   C90011156         N     YE           G2016  201701319042145393   \n",
       "\n",
       "       TRANSACTION_TP ENTITY_TP                    NAME              CITY  \\\n",
       "10388             24E       ORG          BUDGET-ORLANDO           ORLANDO   \n",
       "100118            24A       IND             SADJI, YAWO  CANAL WINCHESTER   \n",
       "51474             24E       IND        BERAUT, GENESSON           ORLANDO   \n",
       "65996             24E       ORG  PROGRESS PRINTING PLUS         LYNCHBURG   \n",
       "54960             24E       IND         MATHEWS, TAYLOR          COLUMBUS   \n",
       "\n",
       "       STATE   ZIP_CODE EMPLOYER OCCUPATION TRANSACTION_DT  TRANSACTION_AMT  \\\n",
       "10388     FL  328097912      NaN        NaN     2016-09-26              8.0   \n",
       "100118    OH  431109017      NaN        NaN     2016-11-03             72.0   \n",
       "51474     FL      32808      NaN        NaN     2016-09-07             34.0   \n",
       "65996     VA      24502      NaN        NaN     2016-11-08           2524.0   \n",
       "54960     OH  432193164      NaN        NaN     2016-08-11             27.0   \n",
       "\n",
       "         OTHER_ID    CAND_ID      TRAN_ID FILE_NUM MEMO_CD MEMO_TEXT  \\\n",
       "10388   P00003392  P00003392  VN7CZA40V89  1104329     NaN       NaN   \n",
       "100118  P80001571  P80001571  VN7CZA78EG5  1144686     NaN       NaN   \n",
       "51474   P00003392  P00003392  VN7CZA32XV7  1144686     NaN       NaN   \n",
       "65996   P80001571  P80001571   SE24.93654  1142488     NaN       NaN   \n",
       "54960   P00003392  P00003392  VN7CZA27XA0  1144686     NaN       NaN   \n",
       "\n",
       "                     SUB_ID                                        CAND_NAME  \n",
       "10388   4101320161340952701  CLINTON, HILLARY RODHAM / TIMOTHY MICHAEL KAINE  \n",
       "100118  4020920171370169371             TRUMP, DONALD J. / MICHAEL R. PENCE   \n",
       "51474   4020920171370084075  CLINTON, HILLARY RODHAM / TIMOTHY MICHAEL KAINE  \n",
       "65996   4021020171370392752             TRUMP, DONALD J. / MICHAEL R. PENCE   \n",
       "54960   4020920171370064919  CLINTON, HILLARY RODHAM / TIMOTHY MICHAEL KAINE  "
      ]
     },
     "execution_count": 34,
     "metadata": {},
     "output_type": "execute_result"
    }
   ],
   "source": [
    "comAndCand = pd.merge(candComLinkage, presidentialCanditates[['CAND_ID', 'CAND_NAME']], on='CAND_ID', how='inner')\n",
    "comAndCand.sample(5)"
   ]
  },
  {
   "cell_type": "code",
   "execution_count": 35,
   "metadata": {},
   "outputs": [
    {
     "name": "stdout",
     "output_type": "stream",
     "text": [
      "(2773450, 6)\n"
     ]
    },
    {
     "data": {
      "text/html": [
       "<div>\n",
       "<style scoped>\n",
       "    .dataframe tbody tr th:only-of-type {\n",
       "        vertical-align: middle;\n",
       "    }\n",
       "\n",
       "    .dataframe tbody tr th {\n",
       "        vertical-align: top;\n",
       "    }\n",
       "\n",
       "    .dataframe thead th {\n",
       "        text-align: right;\n",
       "    }\n",
       "</style>\n",
       "<table border=\"1\" class=\"dataframe\">\n",
       "  <thead>\n",
       "    <tr style=\"text-align: right;\">\n",
       "      <th></th>\n",
       "      <th>CMTE_ID</th>\n",
       "      <th>NAME</th>\n",
       "      <th>TRANSACTION_AMT</th>\n",
       "      <th>TRANSACTION_TP</th>\n",
       "      <th>TRANSACTION_DT</th>\n",
       "      <th>CAND_NAME</th>\n",
       "    </tr>\n",
       "  </thead>\n",
       "  <tbody>\n",
       "    <tr>\n",
       "      <td>2029797</td>\n",
       "      <td>C00575795</td>\n",
       "      <td>HAMMETT, RUTH</td>\n",
       "      <td>250.0</td>\n",
       "      <td>15</td>\n",
       "      <td>2016-07-23</td>\n",
       "      <td>CLINTON, HILLARY RODHAM / TIMOTHY MICHAEL KAINE</td>\n",
       "    </tr>\n",
       "    <tr>\n",
       "      <td>1305051</td>\n",
       "      <td>C00575795</td>\n",
       "      <td>MORRISON, JOHN</td>\n",
       "      <td>50.0</td>\n",
       "      <td>15</td>\n",
       "      <td>2016-10-10</td>\n",
       "      <td>CLINTON, HILLARY RODHAM / TIMOTHY MICHAEL KAINE</td>\n",
       "    </tr>\n",
       "    <tr>\n",
       "      <td>273327</td>\n",
       "      <td>C00575795</td>\n",
       "      <td>STANTON, MELISSA</td>\n",
       "      <td>24.0</td>\n",
       "      <td>22Y</td>\n",
       "      <td>2016-11-06</td>\n",
       "      <td>CLINTON, HILLARY RODHAM / TIMOTHY MICHAEL KAINE</td>\n",
       "    </tr>\n",
       "    <tr>\n",
       "      <td>2608356</td>\n",
       "      <td>C00580100</td>\n",
       "      <td>COOKSON, JOHN</td>\n",
       "      <td>100.0</td>\n",
       "      <td>15</td>\n",
       "      <td>2016-07-30</td>\n",
       "      <td>TRUMP, DONALD J. / MICHAEL R. PENCE</td>\n",
       "    </tr>\n",
       "    <tr>\n",
       "      <td>1289332</td>\n",
       "      <td>C00575795</td>\n",
       "      <td>DOTSON, REBECCA</td>\n",
       "      <td>22.0</td>\n",
       "      <td>15</td>\n",
       "      <td>2016-10-09</td>\n",
       "      <td>CLINTON, HILLARY RODHAM / TIMOTHY MICHAEL KAINE</td>\n",
       "    </tr>\n",
       "  </tbody>\n",
       "</table>\n",
       "</div>"
      ],
      "text/plain": [
       "           CMTE_ID              NAME  TRANSACTION_AMT TRANSACTION_TP  \\\n",
       "2029797  C00575795     HAMMETT, RUTH            250.0             15   \n",
       "1305051  C00575795    MORRISON, JOHN             50.0             15   \n",
       "273327   C00575795  STANTON, MELISSA             24.0            22Y   \n",
       "2608356  C00580100     COOKSON, JOHN            100.0             15   \n",
       "1289332  C00575795   DOTSON, REBECCA             22.0             15   \n",
       "\n",
       "        TRANSACTION_DT                                        CAND_NAME  \n",
       "2029797     2016-07-23  CLINTON, HILLARY RODHAM / TIMOTHY MICHAEL KAINE  \n",
       "1305051     2016-10-10  CLINTON, HILLARY RODHAM / TIMOTHY MICHAEL KAINE  \n",
       "273327      2016-11-06  CLINTON, HILLARY RODHAM / TIMOTHY MICHAEL KAINE  \n",
       "2608356     2016-07-30             TRUMP, DONALD J. / MICHAEL R. PENCE   \n",
       "1289332     2016-10-09  CLINTON, HILLARY RODHAM / TIMOTHY MICHAEL KAINE  "
      ]
     },
     "execution_count": 35,
     "metadata": {},
     "output_type": "execute_result"
    }
   ],
   "source": [
    "allContributions = pd.concat([comAndCand[['CMTE_ID','NAME','TRANSACTION_AMT','TRANSACTION_TP','TRANSACTION_DT', 'CAND_NAME']],contributionsWithCommittees[['CMTE_ID','NAME','TRANSACTION_AMT','TRANSACTION_TP','TRANSACTION_DT', 'CAND_NAME']]])\n",
    "print(allContributions.shape)\n",
    "allContributions.sample(5)"
   ]
  },
  {
   "cell_type": "markdown",
   "metadata": {},
   "source": [
    "We view what types of transactions we want to track "
   ]
  },
  {
   "cell_type": "code",
   "execution_count": 36,
   "metadata": {},
   "outputs": [],
   "source": [
    "validContributions = allContributions.loc[allContributions['TRANSACTION_TP'].isin(['15', '15E', '11', '15C','24K', '24A', '24E', '24F', '24N',\n",
    "                                                                                       '24T', '24I', '10', '32', '30', '32T','19', '30T'])].copy()"
   ]
  },
  {
   "cell_type": "code",
   "execution_count": 37,
   "metadata": {},
   "outputs": [
    {
     "name": "stdout",
     "output_type": "stream",
     "text": [
      "(1193, 1)\n"
     ]
    },
    {
     "data": {
      "text/html": [
       "<div>\n",
       "<style scoped>\n",
       "    .dataframe tbody tr th:only-of-type {\n",
       "        vertical-align: middle;\n",
       "    }\n",
       "\n",
       "    .dataframe tbody tr th {\n",
       "        vertical-align: top;\n",
       "    }\n",
       "\n",
       "    .dataframe thead th {\n",
       "        text-align: right;\n",
       "    }\n",
       "</style>\n",
       "<table border=\"1\" class=\"dataframe\">\n",
       "  <thead>\n",
       "    <tr style=\"text-align: right;\">\n",
       "      <th></th>\n",
       "      <th></th>\n",
       "      <th>TRANSACTION_AMT</th>\n",
       "    </tr>\n",
       "    <tr>\n",
       "      <th>TRANSACTION_DT</th>\n",
       "      <th>CAND_NAME</th>\n",
       "      <th></th>\n",
       "    </tr>\n",
       "  </thead>\n",
       "  <tbody>\n",
       "    <tr>\n",
       "      <td>2016-04-20</td>\n",
       "      <td>TRUMP, DONALD J. / MICHAEL R. PENCE</td>\n",
       "      <td>709644.0</td>\n",
       "    </tr>\n",
       "    <tr>\n",
       "      <td>2016-01-08</td>\n",
       "      <td>TRUMP, DONALD J. / MICHAEL R. PENCE</td>\n",
       "      <td>7915.0</td>\n",
       "    </tr>\n",
       "    <tr>\n",
       "      <td>2015-11-04</td>\n",
       "      <td>TRUMP, DONALD J. / MICHAEL R. PENCE</td>\n",
       "      <td>13023.0</td>\n",
       "    </tr>\n",
       "    <tr>\n",
       "      <td>2016-04-02</td>\n",
       "      <td>CLINTON, HILLARY RODHAM / TIMOTHY MICHAEL KAINE</td>\n",
       "      <td>234656.0</td>\n",
       "    </tr>\n",
       "    <tr>\n",
       "      <td>2015-11-04</td>\n",
       "      <td>CLINTON, HILLARY RODHAM / TIMOTHY MICHAEL KAINE</td>\n",
       "      <td>302160.0</td>\n",
       "    </tr>\n",
       "  </tbody>\n",
       "</table>\n",
       "</div>"
      ],
      "text/plain": [
       "                                                                TRANSACTION_AMT\n",
       "TRANSACTION_DT CAND_NAME                                                       \n",
       "2016-04-20     TRUMP, DONALD J. / MICHAEL R. PENCE                     709644.0\n",
       "2016-01-08     TRUMP, DONALD J. / MICHAEL R. PENCE                       7915.0\n",
       "2015-11-04     TRUMP, DONALD J. / MICHAEL R. PENCE                      13023.0\n",
       "2016-04-02     CLINTON, HILLARY RODHAM / TIMOTHY MICHAEL KAINE         234656.0\n",
       "2015-11-04     CLINTON, HILLARY RODHAM / TIMOTHY MICHAEL KAINE         302160.0"
      ]
     },
     "execution_count": 37,
     "metadata": {},
     "output_type": "execute_result"
    }
   ],
   "source": [
    "groupedDateContributions = validContributions.groupby(['TRANSACTION_DT', 'CAND_NAME']).sum()\n",
    "print(groupedDateContributions.shape)\n",
    "groupedDateContributions.sample(5)"
   ]
  },
  {
   "cell_type": "code",
   "execution_count": 38,
   "metadata": {},
   "outputs": [
    {
     "data": {
      "text/html": [
       "<div>\n",
       "<style scoped>\n",
       "    .dataframe tbody tr th:only-of-type {\n",
       "        vertical-align: middle;\n",
       "    }\n",
       "\n",
       "    .dataframe tbody tr th {\n",
       "        vertical-align: top;\n",
       "    }\n",
       "\n",
       "    .dataframe thead th {\n",
       "        text-align: right;\n",
       "    }\n",
       "</style>\n",
       "<table border=\"1\" class=\"dataframe\">\n",
       "  <thead>\n",
       "    <tr style=\"text-align: right;\">\n",
       "      <th></th>\n",
       "      <th>CMTE_ID</th>\n",
       "      <th>NAME</th>\n",
       "      <th>TRANSACTION_AMT</th>\n",
       "      <th>TRANSACTION_TP</th>\n",
       "      <th>TRANSACTION_DT</th>\n",
       "      <th>CAND_NAME</th>\n",
       "      <th>MONTH</th>\n",
       "      <th>YEAR</th>\n",
       "    </tr>\n",
       "  </thead>\n",
       "  <tbody>\n",
       "    <tr>\n",
       "      <td>715235</td>\n",
       "      <td>C00575795</td>\n",
       "      <td>CHEN, ROSE</td>\n",
       "      <td>25.0</td>\n",
       "      <td>15</td>\n",
       "      <td>2016-10-18</td>\n",
       "      <td>CLINTON, HILLARY RODHAM / TIMOTHY MICHAEL KAINE</td>\n",
       "      <td>10.0</td>\n",
       "      <td>2016.0</td>\n",
       "    </tr>\n",
       "    <tr>\n",
       "      <td>1347654</td>\n",
       "      <td>C00575795</td>\n",
       "      <td>LACY, DIANE</td>\n",
       "      <td>15.0</td>\n",
       "      <td>15</td>\n",
       "      <td>2016-09-12</td>\n",
       "      <td>CLINTON, HILLARY RODHAM / TIMOTHY MICHAEL KAINE</td>\n",
       "      <td>9.0</td>\n",
       "      <td>2016.0</td>\n",
       "    </tr>\n",
       "    <tr>\n",
       "      <td>831953</td>\n",
       "      <td>C00575795</td>\n",
       "      <td>NOVAK, ALEXANDRA</td>\n",
       "      <td>25.0</td>\n",
       "      <td>15</td>\n",
       "      <td>2016-10-13</td>\n",
       "      <td>CLINTON, HILLARY RODHAM / TIMOTHY MICHAEL KAINE</td>\n",
       "      <td>10.0</td>\n",
       "      <td>2016.0</td>\n",
       "    </tr>\n",
       "    <tr>\n",
       "      <td>1353692</td>\n",
       "      <td>C00575795</td>\n",
       "      <td>COUGHLIN, ROBERT</td>\n",
       "      <td>19.0</td>\n",
       "      <td>15</td>\n",
       "      <td>2016-09-01</td>\n",
       "      <td>CLINTON, HILLARY RODHAM / TIMOTHY MICHAEL KAINE</td>\n",
       "      <td>9.0</td>\n",
       "      <td>2016.0</td>\n",
       "    </tr>\n",
       "    <tr>\n",
       "      <td>92845</td>\n",
       "      <td>C00575795</td>\n",
       "      <td>RAY, FRANCES</td>\n",
       "      <td>15.0</td>\n",
       "      <td>15</td>\n",
       "      <td>2016-10-30</td>\n",
       "      <td>CLINTON, HILLARY RODHAM / TIMOTHY MICHAEL KAINE</td>\n",
       "      <td>10.0</td>\n",
       "      <td>2016.0</td>\n",
       "    </tr>\n",
       "  </tbody>\n",
       "</table>\n",
       "</div>"
      ],
      "text/plain": [
       "           CMTE_ID              NAME  TRANSACTION_AMT TRANSACTION_TP  \\\n",
       "715235   C00575795        CHEN, ROSE             25.0             15   \n",
       "1347654  C00575795       LACY, DIANE             15.0             15   \n",
       "831953   C00575795  NOVAK, ALEXANDRA             25.0             15   \n",
       "1353692  C00575795  COUGHLIN, ROBERT             19.0             15   \n",
       "92845    C00575795      RAY, FRANCES             15.0             15   \n",
       "\n",
       "        TRANSACTION_DT                                        CAND_NAME  \\\n",
       "715235      2016-10-18  CLINTON, HILLARY RODHAM / TIMOTHY MICHAEL KAINE   \n",
       "1347654     2016-09-12  CLINTON, HILLARY RODHAM / TIMOTHY MICHAEL KAINE   \n",
       "831953      2016-10-13  CLINTON, HILLARY RODHAM / TIMOTHY MICHAEL KAINE   \n",
       "1353692     2016-09-01  CLINTON, HILLARY RODHAM / TIMOTHY MICHAEL KAINE   \n",
       "92845       2016-10-30  CLINTON, HILLARY RODHAM / TIMOTHY MICHAEL KAINE   \n",
       "\n",
       "         MONTH    YEAR  \n",
       "715235    10.0  2016.0  \n",
       "1347654    9.0  2016.0  \n",
       "831953    10.0  2016.0  \n",
       "1353692    9.0  2016.0  \n",
       "92845     10.0  2016.0  "
      ]
     },
     "execution_count": 38,
     "metadata": {},
     "output_type": "execute_result"
    }
   ],
   "source": [
    "validContributions[\"MONTH\"] = pd.DatetimeIndex(validContributions['TRANSACTION_DT']).month\n",
    "validContributions[\"YEAR\"] = pd.DatetimeIndex(validContributions['TRANSACTION_DT']).year\n",
    "allContributions2016 = validContributions[(validContributions['YEAR']==2016)]\n",
    "allContributions2016.sample(5)"
   ]
  },
  {
   "cell_type": "code",
   "execution_count": 39,
   "metadata": {},
   "outputs": [],
   "source": [
    "trumpContrDates = allContributions2016[allContributions2016['CAND_NAME'].str.contains('TRUMP, DONALD J.')]\n",
    "trumpContrDates16 = trumpContrDates[trumpContrDates[\"YEAR\"]==2016]"
   ]
  },
  {
   "cell_type": "code",
   "execution_count": 40,
   "metadata": {},
   "outputs": [],
   "source": [
    "hillaryContrDates = allContributions2016[allContributions2016['CAND_NAME'].str.contains('CLINTON, HILLARY')]\n",
    "hillaryContrDates16 = hillaryContrDates[hillaryContrDates[\"YEAR\"]==2016]"
   ]
  },
  {
   "cell_type": "code",
   "execution_count": 41,
   "metadata": {},
   "outputs": [
    {
     "data": {
      "text/plain": [
       "TRANSACTION_DT     datetime64[ns]\n",
       "TRANSACTION_AMT           float64\n",
       "MONTH                     float64\n",
       "YEAR                      float64\n",
       "dtype: object"
      ]
     },
     "execution_count": 41,
     "metadata": {},
     "output_type": "execute_result"
    }
   ],
   "source": [
    "groupedDateTrumpContributions = trumpContrDates.groupby(['TRANSACTION_DT']).sum().reset_index()\n",
    "groupedDateTrumpContributions.dtypes"
   ]
  },
  {
   "cell_type": "code",
   "execution_count": 42,
   "metadata": {},
   "outputs": [
    {
     "data": {
      "text/html": [
       "<div>\n",
       "<style scoped>\n",
       "    .dataframe tbody tr th:only-of-type {\n",
       "        vertical-align: middle;\n",
       "    }\n",
       "\n",
       "    .dataframe tbody tr th {\n",
       "        vertical-align: top;\n",
       "    }\n",
       "\n",
       "    .dataframe thead th {\n",
       "        text-align: right;\n",
       "    }\n",
       "</style>\n",
       "<table border=\"1\" class=\"dataframe\">\n",
       "  <thead>\n",
       "    <tr style=\"text-align: right;\">\n",
       "      <th></th>\n",
       "      <th>MONTH</th>\n",
       "      <th>YEAR</th>\n",
       "      <th>TRANSACTION_AMT</th>\n",
       "    </tr>\n",
       "  </thead>\n",
       "  <tbody>\n",
       "    <tr>\n",
       "      <td>2</td>\n",
       "      <td>3.0</td>\n",
       "      <td>2016.0</td>\n",
       "      <td>18454311.0</td>\n",
       "    </tr>\n",
       "    <tr>\n",
       "      <td>3</td>\n",
       "      <td>4.0</td>\n",
       "      <td>2016.0</td>\n",
       "      <td>5694693.0</td>\n",
       "    </tr>\n",
       "    <tr>\n",
       "      <td>0</td>\n",
       "      <td>1.0</td>\n",
       "      <td>2016.0</td>\n",
       "      <td>3940038.0</td>\n",
       "    </tr>\n",
       "    <tr>\n",
       "      <td>7</td>\n",
       "      <td>8.0</td>\n",
       "      <td>2016.0</td>\n",
       "      <td>33813688.0</td>\n",
       "    </tr>\n",
       "    <tr>\n",
       "      <td>6</td>\n",
       "      <td>7.0</td>\n",
       "      <td>2016.0</td>\n",
       "      <td>32623846.0</td>\n",
       "    </tr>\n",
       "  </tbody>\n",
       "</table>\n",
       "</div>"
      ],
      "text/plain": [
       "   MONTH    YEAR  TRANSACTION_AMT\n",
       "2    3.0  2016.0       18454311.0\n",
       "3    4.0  2016.0        5694693.0\n",
       "0    1.0  2016.0        3940038.0\n",
       "7    8.0  2016.0       33813688.0\n",
       "6    7.0  2016.0       32623846.0"
      ]
     },
     "execution_count": 42,
     "metadata": {},
     "output_type": "execute_result"
    }
   ],
   "source": [
    "groupedMonthTrumpContributions = trumpContrDates16.groupby(['MONTH', 'YEAR']).sum().reset_index()\n",
    "groupedMonthTrumpContributions.sample(5)"
   ]
  },
  {
   "cell_type": "code",
   "execution_count": 43,
   "metadata": {},
   "outputs": [],
   "source": [
    "groupedMonthHillaryContributions = hillaryContrDates16.groupby(['MONTH','YEAR']).sum().reset_index()"
   ]
  },
  {
   "cell_type": "code",
   "execution_count": 44,
   "metadata": {},
   "outputs": [
    {
     "data": {
      "text/plain": [
       "<matplotlib.legend.Legend at 0x7fb526c37990>"
      ]
     },
     "execution_count": 44,
     "metadata": {},
     "output_type": "execute_result"
    },
    {
     "data": {
      "image/png": "[encoded data removed]",
      "text/plain": [
       "<Figure size 432x288 with 1 Axes>"
      ]
     },
     "metadata": {
      "needs_background": "light"
     },
     "output_type": "display_data"
    }
   ],
   "source": [
    "ax = groupedMonthTrumpContributions.plot(x=\"MONTH\", y=\"TRANSACTION_AMT\")\n",
    "groupedMonthHillaryContributions.plot(ax=ax)\n",
    "ax.legend([\"Trump\", \"Hillary\"])"
   ]
  },
  {
   "cell_type": "markdown",
   "metadata": {},
   "source": [
    "Interesting to see that Hillary was actually the one to usually be on top"
   ]
  },
  {
   "cell_type": "markdown",
   "metadata": {},
   "source": [
    "**Regarding expenses**"
   ]
  },
  {
   "cell_type": "code",
   "execution_count": 45,
   "metadata": {},
   "outputs": [],
   "source": [
    "headersExp = pd.read_csv('oppexp_header_file.csv')\n",
    "headersExp = headersExp.columns.tolist()"
   ]
  },
  {
   "cell_type": "code",
   "execution_count": 61,
   "metadata": {},
   "outputs": [
    {
     "data": {
      "text/html": [
       "<div>\n",
       "<style scoped>\n",
       "    .dataframe tbody tr th:only-of-type {\n",
       "        vertical-align: middle;\n",
       "    }\n",
       "\n",
       "    .dataframe tbody tr th {\n",
       "        vertical-align: top;\n",
       "    }\n",
       "\n",
       "    .dataframe thead th {\n",
       "        text-align: right;\n",
       "    }\n",
       "</style>\n",
       "<table border=\"1\" class=\"dataframe\">\n",
       "  <thead>\n",
       "    <tr style=\"text-align: right;\">\n",
       "      <th></th>\n",
       "      <th>CMTE_ID</th>\n",
       "      <th>AMNDT_IND</th>\n",
       "      <th>RPT_YR</th>\n",
       "      <th>RPT_TP</th>\n",
       "      <th>IMAGE_NUM</th>\n",
       "      <th>LINE_NUM</th>\n",
       "      <th>FORM_TP_CD</th>\n",
       "      <th>SCHED_TP_CD</th>\n",
       "      <th>NAME</th>\n",
       "      <th>CITY</th>\n",
       "      <th>STATE</th>\n",
       "      <th>ZIP_CODE</th>\n",
       "      <th>TRANSACTION_DT</th>\n",
       "      <th>TRANSACTION_AMT</th>\n",
       "      <th>TRANSACTION_PGI</th>\n",
       "      <th>PURPOSE</th>\n",
       "      <th>CATEGORY</th>\n",
       "      <th>CATEGORY_DESC</th>\n",
       "      <th>MEMO_CD</th>\n",
       "      <th>MEMO_TEXT</th>\n",
       "      <th>ENTITY_TP</th>\n",
       "      <th>SUB_ID</th>\n",
       "      <th>FILE_NUM</th>\n",
       "      <th>TRAN_ID</th>\n",
       "      <th>BACK_REF_TRAN_ID</th>\n",
       "    </tr>\n",
       "  </thead>\n",
       "  <tbody>\n",
       "    <tr>\n",
       "      <td>0</td>\n",
       "      <td>C00415182</td>\n",
       "      <td>N</td>\n",
       "      <td>2015</td>\n",
       "      <td>Q1</td>\n",
       "      <td>15951142498</td>\n",
       "      <td>17</td>\n",
       "      <td>F3</td>\n",
       "      <td>SB</td>\n",
       "      <td>CHASE CARDMEMBER SERVICE</td>\n",
       "      <td>WILMINGTON</td>\n",
       "      <td>DE</td>\n",
       "      <td>198865153</td>\n",
       "      <td>02/21/2015</td>\n",
       "      <td>3301.24</td>\n",
       "      <td>P2016</td>\n",
       "      <td>CREDIT CARD PAYMENT</td>\n",
       "      <td>001</td>\n",
       "      <td>Administrative/Salary/Overhead Expenses</td>\n",
       "      <td>NaN</td>\n",
       "      <td>NaN</td>\n",
       "      <td>ORG</td>\n",
       "      <td>4041520151241882404</td>\n",
       "      <td>1002978</td>\n",
       "      <td>VN81E9TS8X8</td>\n",
       "      <td>NaN</td>\n",
       "    </tr>\n",
       "    <tr>\n",
       "      <td>1</td>\n",
       "      <td>C00415182</td>\n",
       "      <td>N</td>\n",
       "      <td>2015</td>\n",
       "      <td>Q1</td>\n",
       "      <td>15951142495</td>\n",
       "      <td>17</td>\n",
       "      <td>F3</td>\n",
       "      <td>SB</td>\n",
       "      <td>GOOGLE INC.</td>\n",
       "      <td>SAN FRANCISCO</td>\n",
       "      <td>CA</td>\n",
       "      <td>941390001</td>\n",
       "      <td>01/21/2015</td>\n",
       "      <td>56.42</td>\n",
       "      <td>P2016</td>\n",
       "      <td>INTERNET SERVICE</td>\n",
       "      <td>001</td>\n",
       "      <td>Administrative/Salary/Overhead Expenses</td>\n",
       "      <td>X</td>\n",
       "      <td>*</td>\n",
       "      <td>ORG</td>\n",
       "      <td>4041520151241882396</td>\n",
       "      <td>1002978</td>\n",
       "      <td>VN81E9TQB00</td>\n",
       "      <td>VN81E9TQAP1</td>\n",
       "    </tr>\n",
       "    <tr>\n",
       "      <td>2</td>\n",
       "      <td>C00415182</td>\n",
       "      <td>N</td>\n",
       "      <td>2015</td>\n",
       "      <td>Q1</td>\n",
       "      <td>15951142495</td>\n",
       "      <td>17</td>\n",
       "      <td>F3</td>\n",
       "      <td>SB</td>\n",
       "      <td>LINKEDIN CORPORATION</td>\n",
       "      <td>MOUNTAIN VIEW</td>\n",
       "      <td>CA</td>\n",
       "      <td>94043</td>\n",
       "      <td>01/21/2015</td>\n",
       "      <td>49.95</td>\n",
       "      <td>P2016</td>\n",
       "      <td>INTERNET SERVICE</td>\n",
       "      <td>001</td>\n",
       "      <td>Administrative/Salary/Overhead Expenses</td>\n",
       "      <td>X</td>\n",
       "      <td>*</td>\n",
       "      <td>ORG</td>\n",
       "      <td>4041520151241882397</td>\n",
       "      <td>1002978</td>\n",
       "      <td>VN81E9TQB76</td>\n",
       "      <td>VN81E9TQAP1</td>\n",
       "    </tr>\n",
       "    <tr>\n",
       "      <td>3</td>\n",
       "      <td>C00415182</td>\n",
       "      <td>N</td>\n",
       "      <td>2015</td>\n",
       "      <td>Q1</td>\n",
       "      <td>15951142496</td>\n",
       "      <td>17</td>\n",
       "      <td>F3</td>\n",
       "      <td>SB</td>\n",
       "      <td>NATIONBUILDER</td>\n",
       "      <td>LOS ANGELES</td>\n",
       "      <td>CA</td>\n",
       "      <td>900131155</td>\n",
       "      <td>01/21/2015</td>\n",
       "      <td>99.00</td>\n",
       "      <td>P2016</td>\n",
       "      <td>INTERNET SERVICE</td>\n",
       "      <td>001</td>\n",
       "      <td>Administrative/Salary/Overhead Expenses</td>\n",
       "      <td>X</td>\n",
       "      <td>*</td>\n",
       "      <td>ORG</td>\n",
       "      <td>4041520151241882398</td>\n",
       "      <td>1002978</td>\n",
       "      <td>VN81E9TS9X1</td>\n",
       "      <td>VN81E9TQAP1</td>\n",
       "    </tr>\n",
       "    <tr>\n",
       "      <td>4</td>\n",
       "      <td>C00415182</td>\n",
       "      <td>N</td>\n",
       "      <td>2015</td>\n",
       "      <td>Q1</td>\n",
       "      <td>15951142496</td>\n",
       "      <td>17</td>\n",
       "      <td>F3</td>\n",
       "      <td>SB</td>\n",
       "      <td>NGP VAN, INC.</td>\n",
       "      <td>WASHINGTON</td>\n",
       "      <td>DC</td>\n",
       "      <td>20005</td>\n",
       "      <td>01/21/2015</td>\n",
       "      <td>2000.00</td>\n",
       "      <td>P2016</td>\n",
       "      <td>INTERNET SERVICE</td>\n",
       "      <td>001</td>\n",
       "      <td>Administrative/Salary/Overhead Expenses</td>\n",
       "      <td>X</td>\n",
       "      <td>*</td>\n",
       "      <td>ORG</td>\n",
       "      <td>4041520151241882399</td>\n",
       "      <td>1002978</td>\n",
       "      <td>VN81E9TQAX7</td>\n",
       "      <td>VN81E9TQAP1</td>\n",
       "    </tr>\n",
       "  </tbody>\n",
       "</table>\n",
       "</div>"
      ],
      "text/plain": [
       "     CMTE_ID AMNDT_IND  RPT_YR RPT_TP    IMAGE_NUM LINE_NUM FORM_TP_CD  \\\n",
       "0  C00415182         N    2015     Q1  15951142498       17         F3   \n",
       "1  C00415182         N    2015     Q1  15951142495       17         F3   \n",
       "2  C00415182         N    2015     Q1  15951142495       17         F3   \n",
       "3  C00415182         N    2015     Q1  15951142496       17         F3   \n",
       "4  C00415182         N    2015     Q1  15951142496       17         F3   \n",
       "\n",
       "  SCHED_TP_CD                      NAME           CITY STATE   ZIP_CODE  \\\n",
       "0          SB  CHASE CARDMEMBER SERVICE     WILMINGTON    DE  198865153   \n",
       "1          SB               GOOGLE INC.  SAN FRANCISCO    CA  941390001   \n",
       "2          SB      LINKEDIN CORPORATION  MOUNTAIN VIEW    CA      94043   \n",
       "3          SB             NATIONBUILDER    LOS ANGELES    CA  900131155   \n",
       "4          SB             NGP VAN, INC.     WASHINGTON    DC      20005   \n",
       "\n",
       "  TRANSACTION_DT  TRANSACTION_AMT TRANSACTION_PGI              PURPOSE  \\\n",
       "0     02/21/2015          3301.24           P2016  CREDIT CARD PAYMENT   \n",
       "1     01/21/2015            56.42           P2016     INTERNET SERVICE   \n",
       "2     01/21/2015            49.95           P2016     INTERNET SERVICE   \n",
       "3     01/21/2015            99.00           P2016     INTERNET SERVICE   \n",
       "4     01/21/2015          2000.00           P2016     INTERNET SERVICE   \n",
       "\n",
       "  CATEGORY                             CATEGORY_DESC MEMO_CD MEMO_TEXT  \\\n",
       "0      001  Administrative/Salary/Overhead Expenses      NaN       NaN   \n",
       "1      001  Administrative/Salary/Overhead Expenses        X         *   \n",
       "2      001  Administrative/Salary/Overhead Expenses        X         *   \n",
       "3      001  Administrative/Salary/Overhead Expenses        X         *   \n",
       "4      001  Administrative/Salary/Overhead Expenses        X         *   \n",
       "\n",
       "  ENTITY_TP               SUB_ID  FILE_NUM      TRAN_ID BACK_REF_TRAN_ID  \n",
       "0       ORG  4041520151241882404   1002978  VN81E9TS8X8              NaN  \n",
       "1       ORG  4041520151241882396   1002978  VN81E9TQB00      VN81E9TQAP1  \n",
       "2       ORG  4041520151241882397   1002978  VN81E9TQB76      VN81E9TQAP1  \n",
       "3       ORG  4041520151241882398   1002978  VN81E9TS9X1      VN81E9TQAP1  \n",
       "4       ORG  4041520151241882399   1002978  VN81E9TQAX7      VN81E9TQAP1  "
      ]
     },
     "execution_count": 61,
     "metadata": {},
     "output_type": "execute_result"
    }
   ],
   "source": [
    "oppExpenses = pd.read_csv('oppexp.txt', sep=\"|\", index_col=False, names=headersExp)\n",
    "oppExpenses.head(5)"
   ]
  },
  {
   "cell_type": "code",
   "execution_count": 62,
   "metadata": {},
   "outputs": [],
   "source": [
    "oppExpenses = oppExpenses.loc[oppExpenses['TRANSACTION_AMT'] > 0]"
   ]
  },
  {
   "cell_type": "code",
   "execution_count": 63,
   "metadata": {},
   "outputs": [
    {
     "name": "stdout",
     "output_type": "stream",
     "text": [
      "(1732174, 27)\n"
     ]
    },
    {
     "data": {
      "text/html": [
       "<div>\n",
       "<style scoped>\n",
       "    .dataframe tbody tr th:only-of-type {\n",
       "        vertical-align: middle;\n",
       "    }\n",
       "\n",
       "    .dataframe tbody tr th {\n",
       "        vertical-align: top;\n",
       "    }\n",
       "\n",
       "    .dataframe thead th {\n",
       "        text-align: right;\n",
       "    }\n",
       "</style>\n",
       "<table border=\"1\" class=\"dataframe\">\n",
       "  <thead>\n",
       "    <tr style=\"text-align: right;\">\n",
       "      <th></th>\n",
       "      <th>CMTE_ID</th>\n",
       "      <th>AMNDT_IND</th>\n",
       "      <th>RPT_YR</th>\n",
       "      <th>RPT_TP</th>\n",
       "      <th>IMAGE_NUM</th>\n",
       "      <th>LINE_NUM</th>\n",
       "      <th>FORM_TP_CD</th>\n",
       "      <th>SCHED_TP_CD</th>\n",
       "      <th>NAME</th>\n",
       "      <th>CITY</th>\n",
       "      <th>STATE</th>\n",
       "      <th>ZIP_CODE</th>\n",
       "      <th>TRANSACTION_DT</th>\n",
       "      <th>TRANSACTION_AMT</th>\n",
       "      <th>TRANSACTION_PGI</th>\n",
       "      <th>PURPOSE</th>\n",
       "      <th>CATEGORY</th>\n",
       "      <th>CATEGORY_DESC</th>\n",
       "      <th>MEMO_CD</th>\n",
       "      <th>MEMO_TEXT</th>\n",
       "      <th>ENTITY_TP</th>\n",
       "      <th>SUB_ID</th>\n",
       "      <th>FILE_NUM</th>\n",
       "      <th>TRAN_ID</th>\n",
       "      <th>BACK_REF_TRAN_ID</th>\n",
       "      <th>CAND_ID</th>\n",
       "      <th>CMTE_NM</th>\n",
       "    </tr>\n",
       "  </thead>\n",
       "  <tbody>\n",
       "    <tr>\n",
       "      <td>1686426</td>\n",
       "      <td>C00380568</td>\n",
       "      <td>A</td>\n",
       "      <td>2016</td>\n",
       "      <td>30G</td>\n",
       "      <td>201701239041444841</td>\n",
       "      <td>21B</td>\n",
       "      <td>F3X</td>\n",
       "      <td>SB</td>\n",
       "      <td>AT&amp;T</td>\n",
       "      <td>CAROL STREAM</td>\n",
       "      <td>IL</td>\n",
       "      <td>601975014</td>\n",
       "      <td>10/26/2016</td>\n",
       "      <td>136.96</td>\n",
       "      <td>NaN</td>\n",
       "      <td>PHONES</td>\n",
       "      <td>001</td>\n",
       "      <td>Administrative/Salary/Overhead Expenses</td>\n",
       "      <td>NaN</td>\n",
       "      <td>NaN</td>\n",
       "      <td>ORG</td>\n",
       "      <td>4012420171368498265</td>\n",
       "      <td>1140581</td>\n",
       "      <td>EXPB7122</td>\n",
       "      <td>NaN</td>\n",
       "      <td>NaN</td>\n",
       "      <td>PASADENA AREA UNITED DEMOCRATIC HEADQUARTERS</td>\n",
       "    </tr>\n",
       "    <tr>\n",
       "      <td>447331</td>\n",
       "      <td>C00499236</td>\n",
       "      <td>N</td>\n",
       "      <td>2015</td>\n",
       "      <td>YE</td>\n",
       "      <td>201601299004765786</td>\n",
       "      <td>17</td>\n",
       "      <td>F3</td>\n",
       "      <td>SB</td>\n",
       "      <td>AMERICAN AIRLINES</td>\n",
       "      <td>FORT WORTH</td>\n",
       "      <td>TX</td>\n",
       "      <td>76155</td>\n",
       "      <td>10/16/2015</td>\n",
       "      <td>216.20</td>\n",
       "      <td>P2016</td>\n",
       "      <td>AIRFARE</td>\n",
       "      <td>1</td>\n",
       "      <td>Administrative/Salary/Overhead Expenses</td>\n",
       "      <td>NaN</td>\n",
       "      <td>AIRFARE</td>\n",
       "      <td>ORG</td>\n",
       "      <td>4012920161261314098</td>\n",
       "      <td>1044796</td>\n",
       "      <td>SB17-EX2910</td>\n",
       "      <td>NaN</td>\n",
       "      <td>H2NC13110</td>\n",
       "      <td>GEORGE HOLDING FOR CONGRESS INC.</td>\n",
       "    </tr>\n",
       "    <tr>\n",
       "      <td>46110</td>\n",
       "      <td>C00376673</td>\n",
       "      <td>N</td>\n",
       "      <td>2016</td>\n",
       "      <td>Q3</td>\n",
       "      <td>201610149032530456</td>\n",
       "      <td>17</td>\n",
       "      <td>F3</td>\n",
       "      <td>SB</td>\n",
       "      <td>ACTBLUE</td>\n",
       "      <td>CAMBRIDGE</td>\n",
       "      <td>MA</td>\n",
       "      <td>022382110</td>\n",
       "      <td>09/21/2016</td>\n",
       "      <td>172.33</td>\n",
       "      <td>G2016</td>\n",
       "      <td>ACTBLUE FEE</td>\n",
       "      <td>NaN</td>\n",
       "      <td>NaN</td>\n",
       "      <td>NaN</td>\n",
       "      <td>NaN</td>\n",
       "      <td>ORG</td>\n",
       "      <td>4102620161345295945</td>\n",
       "      <td>1107385</td>\n",
       "      <td>D652812</td>\n",
       "      <td>NaN</td>\n",
       "      <td>H2MD02160</td>\n",
       "      <td>DUTCH RUPPERSBERGER FOR CONGRESS COMMITTEE</td>\n",
       "    </tr>\n",
       "    <tr>\n",
       "      <td>418295</td>\n",
       "      <td>C00431684</td>\n",
       "      <td>N</td>\n",
       "      <td>2015</td>\n",
       "      <td>Q3</td>\n",
       "      <td>201510159002916453</td>\n",
       "      <td>17</td>\n",
       "      <td>F3</td>\n",
       "      <td>SB</td>\n",
       "      <td>COMCAST</td>\n",
       "      <td>LINDON</td>\n",
       "      <td>UT</td>\n",
       "      <td>840421914</td>\n",
       "      <td>08/16/2015</td>\n",
       "      <td>110.05</td>\n",
       "      <td>P2016</td>\n",
       "      <td>INTERNET</td>\n",
       "      <td>NaN</td>\n",
       "      <td>NaN</td>\n",
       "      <td>X</td>\n",
       "      <td>NaN</td>\n",
       "      <td>ORG</td>\n",
       "      <td>4101620151255936369</td>\n",
       "      <td>1028771</td>\n",
       "      <td>BC768C38D5BFA4AE4BF4</td>\n",
       "      <td>B4EEBDBE6DEEC4D0BAAE</td>\n",
       "      <td>H8UT03089</td>\n",
       "      <td>FRIENDS OF JASON CHAFFETZ</td>\n",
       "    </tr>\n",
       "    <tr>\n",
       "      <td>1318998</td>\n",
       "      <td>C00586537</td>\n",
       "      <td>A</td>\n",
       "      <td>2016</td>\n",
       "      <td>30G</td>\n",
       "      <td>201708309071166369</td>\n",
       "      <td>21B</td>\n",
       "      <td>F3X</td>\n",
       "      <td>SB</td>\n",
       "      <td>AMERICAN EXPRESS</td>\n",
       "      <td>NEWARK</td>\n",
       "      <td>NJ</td>\n",
       "      <td>071011270</td>\n",
       "      <td>10/10/2016</td>\n",
       "      <td>9.00</td>\n",
       "      <td>NaN</td>\n",
       "      <td>TRAVEL</td>\n",
       "      <td>NaN</td>\n",
       "      <td>NaN</td>\n",
       "      <td>X</td>\n",
       "      <td>NaN</td>\n",
       "      <td>ORG</td>\n",
       "      <td>4083120171447889673</td>\n",
       "      <td>1180811</td>\n",
       "      <td>D351999</td>\n",
       "      <td>D347508</td>\n",
       "      <td>NaN</td>\n",
       "      <td>HILLARY VICTORY FUND</td>\n",
       "    </tr>\n",
       "  </tbody>\n",
       "</table>\n",
       "</div>"
      ],
      "text/plain": [
       "           CMTE_ID AMNDT_IND  RPT_YR RPT_TP           IMAGE_NUM LINE_NUM  \\\n",
       "1686426  C00380568         A    2016    30G  201701239041444841      21B   \n",
       "447331   C00499236         N    2015     YE  201601299004765786       17   \n",
       "46110    C00376673         N    2016     Q3  201610149032530456       17   \n",
       "418295   C00431684         N    2015     Q3  201510159002916453       17   \n",
       "1318998  C00586537         A    2016    30G  201708309071166369      21B   \n",
       "\n",
       "        FORM_TP_CD SCHED_TP_CD               NAME          CITY STATE  \\\n",
       "1686426        F3X          SB               AT&T  CAROL STREAM    IL   \n",
       "447331          F3          SB  AMERICAN AIRLINES    FORT WORTH    TX   \n",
       "46110           F3          SB            ACTBLUE     CAMBRIDGE    MA   \n",
       "418295          F3          SB            COMCAST        LINDON    UT   \n",
       "1318998        F3X          SB   AMERICAN EXPRESS        NEWARK    NJ   \n",
       "\n",
       "          ZIP_CODE TRANSACTION_DT  TRANSACTION_AMT TRANSACTION_PGI  \\\n",
       "1686426  601975014     10/26/2016           136.96             NaN   \n",
       "447331       76155     10/16/2015           216.20           P2016   \n",
       "46110    022382110     09/21/2016           172.33           G2016   \n",
       "418295   840421914     08/16/2015           110.05           P2016   \n",
       "1318998  071011270     10/10/2016             9.00             NaN   \n",
       "\n",
       "             PURPOSE CATEGORY                             CATEGORY_DESC  \\\n",
       "1686426       PHONES      001  Administrative/Salary/Overhead Expenses    \n",
       "447331       AIRFARE        1  Administrative/Salary/Overhead Expenses    \n",
       "46110    ACTBLUE FEE      NaN                                       NaN   \n",
       "418295      INTERNET      NaN                                       NaN   \n",
       "1318998       TRAVEL      NaN                                       NaN   \n",
       "\n",
       "        MEMO_CD MEMO_TEXT ENTITY_TP               SUB_ID  FILE_NUM  \\\n",
       "1686426     NaN       NaN       ORG  4012420171368498265   1140581   \n",
       "447331      NaN   AIRFARE       ORG  4012920161261314098   1044796   \n",
       "46110       NaN       NaN       ORG  4102620161345295945   1107385   \n",
       "418295        X       NaN       ORG  4101620151255936369   1028771   \n",
       "1318998       X       NaN       ORG  4083120171447889673   1180811   \n",
       "\n",
       "                      TRAN_ID      BACK_REF_TRAN_ID    CAND_ID  \\\n",
       "1686426              EXPB7122                   NaN        NaN   \n",
       "447331            SB17-EX2910                   NaN  H2NC13110   \n",
       "46110                 D652812                   NaN  H2MD02160   \n",
       "418295   BC768C38D5BFA4AE4BF4  B4EEBDBE6DEEC4D0BAAE  H8UT03089   \n",
       "1318998               D351999               D347508        NaN   \n",
       "\n",
       "                                              CMTE_NM  \n",
       "1686426  PASADENA AREA UNITED DEMOCRATIC HEADQUARTERS  \n",
       "447331               GEORGE HOLDING FOR CONGRESS INC.  \n",
       "46110      DUTCH RUPPERSBERGER FOR CONGRESS COMMITTEE  \n",
       "418295                      FRIENDS OF JASON CHAFFETZ  \n",
       "1318998                          HILLARY VICTORY FUND  "
      ]
     },
     "execution_count": 63,
     "metadata": {},
     "output_type": "execute_result"
    }
   ],
   "source": [
    "oppExpenses = pd.merge(oppExpenses, committees[['CMTE_ID','CAND_ID', 'CMTE_NM']], on='CMTE_ID', how='inner')\n",
    "print(oppExpenses.shape)\n",
    "oppExpenses.sample(5)"
   ]
  },
  {
   "cell_type": "code",
   "execution_count": 64,
   "metadata": {
    "scrolled": true
   },
   "outputs": [
    {
     "name": "stdout",
     "output_type": "stream",
     "text": [
      "(171866, 28)\n"
     ]
    },
    {
     "data": {
      "text/html": [
       "<div>\n",
       "<style scoped>\n",
       "    .dataframe tbody tr th:only-of-type {\n",
       "        vertical-align: middle;\n",
       "    }\n",
       "\n",
       "    .dataframe tbody tr th {\n",
       "        vertical-align: top;\n",
       "    }\n",
       "\n",
       "    .dataframe thead th {\n",
       "        text-align: right;\n",
       "    }\n",
       "</style>\n",
       "<table border=\"1\" class=\"dataframe\">\n",
       "  <thead>\n",
       "    <tr style=\"text-align: right;\">\n",
       "      <th></th>\n",
       "      <th>CMTE_ID</th>\n",
       "      <th>AMNDT_IND</th>\n",
       "      <th>RPT_YR</th>\n",
       "      <th>RPT_TP</th>\n",
       "      <th>IMAGE_NUM</th>\n",
       "      <th>LINE_NUM</th>\n",
       "      <th>FORM_TP_CD</th>\n",
       "      <th>SCHED_TP_CD</th>\n",
       "      <th>NAME</th>\n",
       "      <th>CITY</th>\n",
       "      <th>STATE</th>\n",
       "      <th>ZIP_CODE</th>\n",
       "      <th>TRANSACTION_DT</th>\n",
       "      <th>TRANSACTION_AMT</th>\n",
       "      <th>TRANSACTION_PGI</th>\n",
       "      <th>PURPOSE</th>\n",
       "      <th>CATEGORY</th>\n",
       "      <th>CATEGORY_DESC</th>\n",
       "      <th>MEMO_CD</th>\n",
       "      <th>MEMO_TEXT</th>\n",
       "      <th>ENTITY_TP</th>\n",
       "      <th>SUB_ID</th>\n",
       "      <th>FILE_NUM</th>\n",
       "      <th>TRAN_ID</th>\n",
       "      <th>BACK_REF_TRAN_ID</th>\n",
       "      <th>CAND_ID</th>\n",
       "      <th>CMTE_NM</th>\n",
       "      <th>CAND_NAME</th>\n",
       "    </tr>\n",
       "  </thead>\n",
       "  <tbody>\n",
       "    <tr>\n",
       "      <td>26723</td>\n",
       "      <td>C00580100</td>\n",
       "      <td>A</td>\n",
       "      <td>2016</td>\n",
       "      <td>30G</td>\n",
       "      <td>201906289150409635</td>\n",
       "      <td>23</td>\n",
       "      <td>F3P</td>\n",
       "      <td>SB</td>\n",
       "      <td>UNITED AIRLINES</td>\n",
       "      <td>CHICAGO</td>\n",
       "      <td>IL</td>\n",
       "      <td>60606</td>\n",
       "      <td>10/11/2016</td>\n",
       "      <td>465.1</td>\n",
       "      <td>G2016</td>\n",
       "      <td>TRAVEL: AIR [AMEX: SB23.264461]</td>\n",
       "      <td>NaN</td>\n",
       "      <td>NaN</td>\n",
       "      <td>X</td>\n",
       "      <td>NaN</td>\n",
       "      <td>ORG</td>\n",
       "      <td>4071020191659121346</td>\n",
       "      <td>1335965</td>\n",
       "      <td>SB23.270385</td>\n",
       "      <td>NaN</td>\n",
       "      <td>P80001571</td>\n",
       "      <td>DONALD J. TRUMP FOR PRESIDENT, INC.</td>\n",
       "      <td>TRUMP, DONALD J. / MICHAEL R. PENCE</td>\n",
       "    </tr>\n",
       "    <tr>\n",
       "      <td>22743</td>\n",
       "      <td>C00580100</td>\n",
       "      <td>A</td>\n",
       "      <td>2016</td>\n",
       "      <td>30G</td>\n",
       "      <td>201906289150409728</td>\n",
       "      <td>23</td>\n",
       "      <td>F3P</td>\n",
       "      <td>SB</td>\n",
       "      <td>XMARK LLC</td>\n",
       "      <td>GREENWICH</td>\n",
       "      <td>CT</td>\n",
       "      <td>06830</td>\n",
       "      <td>11/01/2016</td>\n",
       "      <td>17300.0</td>\n",
       "      <td>G2016</td>\n",
       "      <td>SECURITY SERVICES</td>\n",
       "      <td>NaN</td>\n",
       "      <td>NaN</td>\n",
       "      <td>NaN</td>\n",
       "      <td>NaN</td>\n",
       "      <td>ORG</td>\n",
       "      <td>4071020191659121900</td>\n",
       "      <td>1335965</td>\n",
       "      <td>SB23.266561</td>\n",
       "      <td>NaN</td>\n",
       "      <td>P80001571</td>\n",
       "      <td>DONALD J. TRUMP FOR PRESIDENT, INC.</td>\n",
       "      <td>TRUMP, DONALD J. / MICHAEL R. PENCE</td>\n",
       "    </tr>\n",
       "    <tr>\n",
       "      <td>54180</td>\n",
       "      <td>C00575795</td>\n",
       "      <td>A</td>\n",
       "      <td>2015</td>\n",
       "      <td>YE</td>\n",
       "      <td>201607059020168251</td>\n",
       "      <td>23</td>\n",
       "      <td>F3P</td>\n",
       "      <td>SB</td>\n",
       "      <td>TRAVIS CI</td>\n",
       "      <td>BERLIN</td>\n",
       "      <td>NaN</td>\n",
       "      <td>NaN</td>\n",
       "      <td>10/09/2015</td>\n",
       "      <td>249.0</td>\n",
       "      <td>P2016</td>\n",
       "      <td>SOFTWARE</td>\n",
       "      <td>NaN</td>\n",
       "      <td>NaN</td>\n",
       "      <td>X</td>\n",
       "      <td>NaN</td>\n",
       "      <td>ORG</td>\n",
       "      <td>4070720161305481843</td>\n",
       "      <td>1081052</td>\n",
       "      <td>D86834</td>\n",
       "      <td>D26283</td>\n",
       "      <td>P00003392</td>\n",
       "      <td>HILLARY FOR AMERICA</td>\n",
       "      <td>CLINTON, HILLARY RODHAM / TIMOTHY MICHAEL KAINE</td>\n",
       "    </tr>\n",
       "    <tr>\n",
       "      <td>81187</td>\n",
       "      <td>C00575795</td>\n",
       "      <td>A</td>\n",
       "      <td>2016</td>\n",
       "      <td>30G</td>\n",
       "      <td>201702149049683964</td>\n",
       "      <td>23</td>\n",
       "      <td>F3P</td>\n",
       "      <td>SB</td>\n",
       "      <td>WOLFSON, SETH</td>\n",
       "      <td>BLOOMFIELD</td>\n",
       "      <td>NJ</td>\n",
       "      <td>7.00328e+07</td>\n",
       "      <td>10/20/2016</td>\n",
       "      <td>500.0</td>\n",
       "      <td>G2016</td>\n",
       "      <td>TRAVEL AND SUBSISTENCE</td>\n",
       "      <td>NaN</td>\n",
       "      <td>NaN</td>\n",
       "      <td>NaN</td>\n",
       "      <td>NaN</td>\n",
       "      <td>IND</td>\n",
       "      <td>4021720171371013972</td>\n",
       "      <td>1148953</td>\n",
       "      <td>D349167</td>\n",
       "      <td>NaN</td>\n",
       "      <td>P00003392</td>\n",
       "      <td>HILLARY FOR AMERICA</td>\n",
       "      <td>CLINTON, HILLARY RODHAM / TIMOTHY MICHAEL KAINE</td>\n",
       "    </tr>\n",
       "    <tr>\n",
       "      <td>143762</td>\n",
       "      <td>C00575795</td>\n",
       "      <td>A</td>\n",
       "      <td>2016</td>\n",
       "      <td>M4</td>\n",
       "      <td>201607059020283476</td>\n",
       "      <td>23</td>\n",
       "      <td>F3P</td>\n",
       "      <td>SB</td>\n",
       "      <td>AMERICAN EXPRESS</td>\n",
       "      <td>NEWARK</td>\n",
       "      <td>NJ</td>\n",
       "      <td>071011270</td>\n",
       "      <td>02/10/2016</td>\n",
       "      <td>9.0</td>\n",
       "      <td>P2016</td>\n",
       "      <td>TRAVEL</td>\n",
       "      <td>NaN</td>\n",
       "      <td>NaN</td>\n",
       "      <td>X</td>\n",
       "      <td>NaN</td>\n",
       "      <td>ORG</td>\n",
       "      <td>4070720161305532188</td>\n",
       "      <td>1081062</td>\n",
       "      <td>D174155</td>\n",
       "      <td>D173454</td>\n",
       "      <td>P00003392</td>\n",
       "      <td>HILLARY FOR AMERICA</td>\n",
       "      <td>CLINTON, HILLARY RODHAM / TIMOTHY MICHAEL KAINE</td>\n",
       "    </tr>\n",
       "  </tbody>\n",
       "</table>\n",
       "</div>"
      ],
      "text/plain": [
       "          CMTE_ID AMNDT_IND  RPT_YR RPT_TP           IMAGE_NUM LINE_NUM  \\\n",
       "26723   C00580100         A    2016    30G  201906289150409635       23   \n",
       "22743   C00580100         A    2016    30G  201906289150409728       23   \n",
       "54180   C00575795         A    2015     YE  201607059020168251       23   \n",
       "81187   C00575795         A    2016    30G  201702149049683964       23   \n",
       "143762  C00575795         A    2016     M4  201607059020283476       23   \n",
       "\n",
       "       FORM_TP_CD SCHED_TP_CD              NAME        CITY STATE  \\\n",
       "26723         F3P          SB   UNITED AIRLINES     CHICAGO    IL   \n",
       "22743         F3P          SB         XMARK LLC   GREENWICH    CT   \n",
       "54180         F3P          SB         TRAVIS CI      BERLIN   NaN   \n",
       "81187         F3P          SB     WOLFSON, SETH  BLOOMFIELD    NJ   \n",
       "143762        F3P          SB  AMERICAN EXPRESS      NEWARK    NJ   \n",
       "\n",
       "           ZIP_CODE TRANSACTION_DT  TRANSACTION_AMT TRANSACTION_PGI  \\\n",
       "26723         60606     10/11/2016            465.1           G2016   \n",
       "22743         06830     11/01/2016          17300.0           G2016   \n",
       "54180           NaN     10/09/2015            249.0           P2016   \n",
       "81187   7.00328e+07     10/20/2016            500.0           G2016   \n",
       "143762    071011270     02/10/2016              9.0           P2016   \n",
       "\n",
       "                                PURPOSE CATEGORY CATEGORY_DESC MEMO_CD  \\\n",
       "26723   TRAVEL: AIR [AMEX: SB23.264461]      NaN           NaN       X   \n",
       "22743                 SECURITY SERVICES      NaN           NaN     NaN   \n",
       "54180                          SOFTWARE      NaN           NaN       X   \n",
       "81187            TRAVEL AND SUBSISTENCE      NaN           NaN     NaN   \n",
       "143762                           TRAVEL      NaN           NaN       X   \n",
       "\n",
       "       MEMO_TEXT ENTITY_TP               SUB_ID  FILE_NUM      TRAN_ID  \\\n",
       "26723        NaN       ORG  4071020191659121346   1335965  SB23.270385   \n",
       "22743        NaN       ORG  4071020191659121900   1335965  SB23.266561   \n",
       "54180        NaN       ORG  4070720161305481843   1081052       D86834   \n",
       "81187        NaN       IND  4021720171371013972   1148953      D349167   \n",
       "143762       NaN       ORG  4070720161305532188   1081062      D174155   \n",
       "\n",
       "       BACK_REF_TRAN_ID    CAND_ID                              CMTE_NM  \\\n",
       "26723               NaN  P80001571  DONALD J. TRUMP FOR PRESIDENT, INC.   \n",
       "22743               NaN  P80001571  DONALD J. TRUMP FOR PRESIDENT, INC.   \n",
       "54180            D26283  P00003392                  HILLARY FOR AMERICA   \n",
       "81187               NaN  P00003392                  HILLARY FOR AMERICA   \n",
       "143762          D173454  P00003392                  HILLARY FOR AMERICA   \n",
       "\n",
       "                                              CAND_NAME  \n",
       "26723              TRUMP, DONALD J. / MICHAEL R. PENCE   \n",
       "22743              TRUMP, DONALD J. / MICHAEL R. PENCE   \n",
       "54180   CLINTON, HILLARY RODHAM / TIMOTHY MICHAEL KAINE  \n",
       "81187   CLINTON, HILLARY RODHAM / TIMOTHY MICHAEL KAINE  \n",
       "143762  CLINTON, HILLARY RODHAM / TIMOTHY MICHAEL KAINE  "
      ]
     },
     "execution_count": 64,
     "metadata": {},
     "output_type": "execute_result"
    }
   ],
   "source": [
    "presidentialOppExpenses = pd.merge(oppExpenses, presidentialCanditates[['CAND_ID', 'CAND_NAME']], on='CAND_ID',how='inner')\n",
    "print(presidentialOppExpenses.shape)\n",
    "presidentialOppExpenses.sample(5)"
   ]
  },
  {
   "cell_type": "code",
   "execution_count": 65,
   "metadata": {},
   "outputs": [],
   "source": [
    "presidentialOppExpenses['TRANSACTION_DT'] = pd.to_datetime(presidentialOppExpenses['TRANSACTION_DT'])\n",
    "presidentialOppExpenses[\"MONTH\"] = pd.DatetimeIndex(presidentialOppExpenses['TRANSACTION_DT']).month\n",
    "presidentialOppExpenses[\"YEAR\"] = pd.DatetimeIndex(presidentialOppExpenses['TRANSACTION_DT']).year"
   ]
  },
  {
   "cell_type": "code",
   "execution_count": 66,
   "metadata": {},
   "outputs": [
    {
     "data": {
      "text/html": [
       "<div>\n",
       "<style scoped>\n",
       "    .dataframe tbody tr th:only-of-type {\n",
       "        vertical-align: middle;\n",
       "    }\n",
       "\n",
       "    .dataframe tbody tr th {\n",
       "        vertical-align: top;\n",
       "    }\n",
       "\n",
       "    .dataframe thead th {\n",
       "        text-align: right;\n",
       "    }\n",
       "</style>\n",
       "<table border=\"1\" class=\"dataframe\">\n",
       "  <thead>\n",
       "    <tr style=\"text-align: right;\">\n",
       "      <th></th>\n",
       "      <th>TRANSACTION_DT</th>\n",
       "      <th>TRANSACTION_AMT</th>\n",
       "      <th>STATE</th>\n",
       "      <th>PURPOSE</th>\n",
       "      <th>CMTE_ID</th>\n",
       "      <th>CMTE_NM</th>\n",
       "      <th>CAND_NAME</th>\n",
       "      <th>MONTH</th>\n",
       "      <th>YEAR</th>\n",
       "    </tr>\n",
       "  </thead>\n",
       "  <tbody>\n",
       "    <tr>\n",
       "      <td>125147</td>\n",
       "      <td>2016-06-18</td>\n",
       "      <td>211.10</td>\n",
       "      <td>TX</td>\n",
       "      <td>TRAVEL</td>\n",
       "      <td>C00575795</td>\n",
       "      <td>HILLARY FOR AMERICA</td>\n",
       "      <td>CLINTON, HILLARY RODHAM / TIMOTHY MICHAEL KAINE</td>\n",
       "      <td>6</td>\n",
       "      <td>2016</td>\n",
       "    </tr>\n",
       "    <tr>\n",
       "      <td>16099</td>\n",
       "      <td>2016-08-06</td>\n",
       "      <td>231.43</td>\n",
       "      <td>TX</td>\n",
       "      <td>TRAVEL: LODGING [AMEX: SB23.4584]</td>\n",
       "      <td>C00580100</td>\n",
       "      <td>DONALD J. TRUMP FOR PRESIDENT, INC.</td>\n",
       "      <td>TRUMP, DONALD J. / MICHAEL R. PENCE</td>\n",
       "      <td>8</td>\n",
       "      <td>2016</td>\n",
       "    </tr>\n",
       "    <tr>\n",
       "      <td>138617</td>\n",
       "      <td>2016-02-11</td>\n",
       "      <td>1202.89</td>\n",
       "      <td>NJ</td>\n",
       "      <td>TRAVEL</td>\n",
       "      <td>C00575795</td>\n",
       "      <td>HILLARY FOR AMERICA</td>\n",
       "      <td>CLINTON, HILLARY RODHAM / TIMOTHY MICHAEL KAINE</td>\n",
       "      <td>2</td>\n",
       "      <td>2016</td>\n",
       "    </tr>\n",
       "    <tr>\n",
       "      <td>83404</td>\n",
       "      <td>2016-11-03</td>\n",
       "      <td>310.00</td>\n",
       "      <td>VA</td>\n",
       "      <td>TRAVEL AND SUBSISTENCE</td>\n",
       "      <td>C00575795</td>\n",
       "      <td>HILLARY FOR AMERICA</td>\n",
       "      <td>CLINTON, HILLARY RODHAM / TIMOTHY MICHAEL KAINE</td>\n",
       "      <td>11</td>\n",
       "      <td>2016</td>\n",
       "    </tr>\n",
       "    <tr>\n",
       "      <td>130982</td>\n",
       "      <td>2016-02-29</td>\n",
       "      <td>60.00</td>\n",
       "      <td>NY</td>\n",
       "      <td>PHONE</td>\n",
       "      <td>C00575795</td>\n",
       "      <td>HILLARY FOR AMERICA</td>\n",
       "      <td>CLINTON, HILLARY RODHAM / TIMOTHY MICHAEL KAINE</td>\n",
       "      <td>2</td>\n",
       "      <td>2016</td>\n",
       "    </tr>\n",
       "  </tbody>\n",
       "</table>\n",
       "</div>"
      ],
      "text/plain": [
       "       TRANSACTION_DT  TRANSACTION_AMT STATE  \\\n",
       "125147     2016-06-18           211.10    TX   \n",
       "16099      2016-08-06           231.43    TX   \n",
       "138617     2016-02-11          1202.89    NJ   \n",
       "83404      2016-11-03           310.00    VA   \n",
       "130982     2016-02-29            60.00    NY   \n",
       "\n",
       "                                  PURPOSE    CMTE_ID  \\\n",
       "125147                             TRAVEL  C00575795   \n",
       "16099   TRAVEL: LODGING [AMEX: SB23.4584]  C00580100   \n",
       "138617                             TRAVEL  C00575795   \n",
       "83404              TRAVEL AND SUBSISTENCE  C00575795   \n",
       "130982                              PHONE  C00575795   \n",
       "\n",
       "                                    CMTE_NM  \\\n",
       "125147                  HILLARY FOR AMERICA   \n",
       "16099   DONALD J. TRUMP FOR PRESIDENT, INC.   \n",
       "138617                  HILLARY FOR AMERICA   \n",
       "83404                   HILLARY FOR AMERICA   \n",
       "130982                  HILLARY FOR AMERICA   \n",
       "\n",
       "                                              CAND_NAME  MONTH  YEAR  \n",
       "125147  CLINTON, HILLARY RODHAM / TIMOTHY MICHAEL KAINE      6  2016  \n",
       "16099              TRUMP, DONALD J. / MICHAEL R. PENCE       8  2016  \n",
       "138617  CLINTON, HILLARY RODHAM / TIMOTHY MICHAEL KAINE      2  2016  \n",
       "83404   CLINTON, HILLARY RODHAM / TIMOTHY MICHAEL KAINE     11  2016  \n",
       "130982  CLINTON, HILLARY RODHAM / TIMOTHY MICHAEL KAINE      2  2016  "
      ]
     },
     "execution_count": 66,
     "metadata": {},
     "output_type": "execute_result"
    }
   ],
   "source": [
    "presidentialOppExpenses = presidentialOppExpenses[['TRANSACTION_DT', 'TRANSACTION_AMT','STATE', 'PURPOSE', 'CMTE_ID','CMTE_NM','CAND_NAME', \"MONTH\",\"YEAR\"]]\n",
    "presidentialOppExpenses.sample(5)"
   ]
  },
  {
   "cell_type": "code",
   "execution_count": 67,
   "metadata": {},
   "outputs": [],
   "source": [
    "trumpExpenses = presidentialOppExpenses[presidentialOppExpenses['CAND_NAME'].str.contains('TRUMP, DONALD J.')]"
   ]
  },
  {
   "cell_type": "code",
   "execution_count": 68,
   "metadata": {},
   "outputs": [],
   "source": [
    "hillaryExpenses = presidentialOppExpenses[presidentialOppExpenses['CAND_NAME'].str.contains('CLINTON, HILLARY')]"
   ]
  },
  {
   "cell_type": "markdown",
   "metadata": {},
   "source": [
    "What are the expenses during the 2016 Campaign ? "
   ]
  },
  {
   "cell_type": "code",
   "execution_count": 69,
   "metadata": {},
   "outputs": [],
   "source": [
    "trumpExpenses16 = trumpExpenses[trumpExpenses[\"YEAR\"]==2016]\n",
    "hillaryExpenses16 = hillaryExpenses[hillaryExpenses[\"YEAR\"]==2016]"
   ]
  },
  {
   "cell_type": "code",
   "execution_count": 70,
   "metadata": {},
   "outputs": [],
   "source": [
    "groupedMonthHillaryExpenses = hillaryExpenses16.groupby(['MONTH','YEAR']).sum().reset_index()\n",
    "groupedMonthTrumpExpenses = trumpExpenses16.groupby(['MONTH','YEAR']).sum().reset_index()"
   ]
  },
  {
   "cell_type": "code",
   "execution_count": 71,
   "metadata": {},
   "outputs": [
    {
     "data": {
      "text/plain": [
       "<matplotlib.legend.Legend at 0x7faebd19cc90>"
      ]
     },
     "execution_count": 71,
     "metadata": {},
     "output_type": "execute_result"
    },
    {
     "data": {
      "image/png": "[encoded data removed]",
      "text/plain": [
       "<Figure size 432x288 with 1 Axes>"
      ]
     },
     "metadata": {
      "needs_background": "light"
     },
     "output_type": "display_data"
    }
   ],
   "source": [
    "ax1 = groupedMonthTrumpExpenses.plot(x=\"MONTH\", y=\"TRANSACTION_AMT\")\n",
    "groupedMonthHillaryExpenses.plot(ax=ax1)\n",
    "ax1.legend([\"Trump\", \"Hillary\"])"
   ]
  },
  {
   "cell_type": "markdown",
   "metadata": {},
   "source": [
    "Once again we see that Hillary had more expenses, that naturally follows the trend of more accumulated contributuions"
   ]
  },
  {
   "cell_type": "markdown",
   "metadata": {},
   "source": [
    "What are the more common expense purposes ? ( Actually started working on it before looking at the next question )"
   ]
  },
  {
   "cell_type": "markdown",
   "metadata": {},
   "source": [
    "**4. Identify the biggest recipients of campaign expenditures.**"
   ]
  },
  {
   "cell_type": "code",
   "execution_count": 72,
   "metadata": {},
   "outputs": [],
   "source": [
    "purposeExpensesTrump = trumpExpenses16.groupby(['PURPOSE']).sum().sort_values(['TRANSACTION_AMT'],ascending=False).reset_index().head(5)\n",
    "purposeExpensesHillary = hillaryExpenses16.groupby(['PURPOSE']).sum().sort_values(['TRANSACTION_AMT'],ascending=False).reset_index().head(5)"
   ]
  },
  {
   "cell_type": "code",
   "execution_count": 73,
   "metadata": {},
   "outputs": [
    {
     "data": {
      "image/png": "[encoded data removed]",
      "text/plain": [
       "<Figure size 432x288 with 1 Axes>"
      ]
     },
     "metadata": {
      "needs_background": "light"
     },
     "output_type": "display_data"
    }
   ],
   "source": [
    "purposeExpensesTrump['hue']='Trump'\n",
    "purposeExpensesHillary['hue']=\"Hillary\"\n",
    "\n",
    "res=pd.concat([purposeExpensesTrump,purposeExpensesHillary])\n",
    "sns.barplot(x='PURPOSE',y='TRANSACTION_AMT',data=res,hue='hue')\n",
    "plt.xticks(rotation=90)\n",
    "plt.show()"
   ]
  },
  {
   "cell_type": "markdown",
   "metadata": {},
   "source": [
    "Here we can see that Trump's campaign was focusing primarily in Media services,<br> whereas Hillary ditributed her campaign budget in various channels. It is very interesting to focus on the fact that Trump's strategy was to \"bet\" on Media channels"
   ]
  },
  {
   "cell_type": "markdown",
   "metadata": {},
   "source": [
    "**5. Examine the geographical distribution, at the state level, of campaign expenditures. For each state, calculate the expenditures per voter. This will require that you find a source with the number of registered voters per state. Examine the situation for swing states.**"
   ]
  },
  {
   "cell_type": "markdown",
   "metadata": {},
   "source": [
    "After a brief Google search we could find this resource: \n",
    "https://www.census.gov/data/tables/time-series/demo/voting-and-registration/p20-580.html <br>\n",
    "In table 4a, we have an XLS file of the registered voters per state. Which is exactly what's needed       \n"
   ]
  },
  {
   "cell_type": "code",
   "execution_count": 74,
   "metadata": {},
   "outputs": [
    {
     "name": "stdout",
     "output_type": "stream",
     "text": [
      "(50, 13)\n"
     ]
    },
    {
     "data": {
      "text/html": [
       "<div>\n",
       "<style scoped>\n",
       "    .dataframe tbody tr th:only-of-type {\n",
       "        vertical-align: middle;\n",
       "    }\n",
       "\n",
       "    .dataframe tbody tr th {\n",
       "        vertical-align: top;\n",
       "    }\n",
       "\n",
       "    .dataframe thead tr th {\n",
       "        text-align: left;\n",
       "    }\n",
       "</style>\n",
       "<table border=\"1\" class=\"dataframe\">\n",
       "  <thead>\n",
       "    <tr>\n",
       "      <th></th>\n",
       "      <th>STATE</th>\n",
       "      <th>Total Population</th>\n",
       "      <th>Total Citizen Population</th>\n",
       "      <th colspan=\"5\" halign=\"left\">Registered</th>\n",
       "      <th colspan=\"5\" halign=\"left\">Voted</th>\n",
       "    </tr>\n",
       "    <tr>\n",
       "      <th></th>\n",
       "      <th>Unnamed: 0_level_1</th>\n",
       "      <th>Unnamed: 1_level_1</th>\n",
       "      <th>Unnamed: 2_level_1</th>\n",
       "      <th>Total registered</th>\n",
       "      <th>Percent registered\\n(Total)</th>\n",
       "      <th>Margin of Error 1</th>\n",
       "      <th>Percent registered\\n(Citizen)</th>\n",
       "      <th>Margin of Error 1.1</th>\n",
       "      <th>Total voted</th>\n",
       "      <th>Percent voted\\n(Total)</th>\n",
       "      <th>Margin of Error 1</th>\n",
       "      <th>Percent voted\\n(Citizen)</th>\n",
       "      <th>Margin of Error 1.1</th>\n",
       "    </tr>\n",
       "  </thead>\n",
       "  <tbody>\n",
       "    <tr>\n",
       "      <td>0</td>\n",
       "      <td>UNITED STATES</td>\n",
       "      <td>245502</td>\n",
       "      <td>224059</td>\n",
       "      <td>157596</td>\n",
       "      <td>64.1935</td>\n",
       "      <td>0.29761</td>\n",
       "      <td>70.3369</td>\n",
       "      <td>0.29680</td>\n",
       "      <td>137537</td>\n",
       "      <td>56.0226</td>\n",
       "      <td>0.30812</td>\n",
       "      <td>61.3841</td>\n",
       "      <td>0.31636</td>\n",
       "    </tr>\n",
       "    <tr>\n",
       "      <td>1</td>\n",
       "      <td>ALABAMA</td>\n",
       "      <td>3717</td>\n",
       "      <td>3651</td>\n",
       "      <td>2526</td>\n",
       "      <td>67.9617</td>\n",
       "      <td>2.50241</td>\n",
       "      <td>69.1816</td>\n",
       "      <td>2.49836</td>\n",
       "      <td>2095</td>\n",
       "      <td>56.3712</td>\n",
       "      <td>2.65954</td>\n",
       "      <td>57.3830</td>\n",
       "      <td>2.67570</td>\n",
       "    </tr>\n",
       "    <tr>\n",
       "      <td>2</td>\n",
       "      <td>ALASKA</td>\n",
       "      <td>518</td>\n",
       "      <td>502</td>\n",
       "      <td>358</td>\n",
       "      <td>69.0653</td>\n",
       "      <td>2.64986</td>\n",
       "      <td>71.3036</td>\n",
       "      <td>2.63491</td>\n",
       "      <td>308</td>\n",
       "      <td>59.4061</td>\n",
       "      <td>2.81524</td>\n",
       "      <td>61.3313</td>\n",
       "      <td>2.83672</td>\n",
       "    </tr>\n",
       "    <tr>\n",
       "      <td>3</td>\n",
       "      <td>ARIZONA</td>\n",
       "      <td>5196</td>\n",
       "      <td>4585</td>\n",
       "      <td>3145</td>\n",
       "      <td>60.5332</td>\n",
       "      <td>2.24609</td>\n",
       "      <td>68.6090</td>\n",
       "      <td>2.27039</td>\n",
       "      <td>2769</td>\n",
       "      <td>53.2880</td>\n",
       "      <td>2.29268</td>\n",
       "      <td>60.3972</td>\n",
       "      <td>2.39265</td>\n",
       "    </tr>\n",
       "    <tr>\n",
       "      <td>4</td>\n",
       "      <td>ARKANSAS</td>\n",
       "      <td>2216</td>\n",
       "      <td>2116</td>\n",
       "      <td>1456</td>\n",
       "      <td>65.6858</td>\n",
       "      <td>2.65021</td>\n",
       "      <td>68.8026</td>\n",
       "      <td>2.64689</td>\n",
       "      <td>1241</td>\n",
       "      <td>56.0106</td>\n",
       "      <td>2.77088</td>\n",
       "      <td>58.6683</td>\n",
       "      <td>2.81331</td>\n",
       "    </tr>\n",
       "  </tbody>\n",
       "</table>\n",
       "</div>"
      ],
      "text/plain": [
       "               STATE   Total Population Total Citizen Population  \\\n",
       "  Unnamed: 0_level_1 Unnamed: 1_level_1       Unnamed: 2_level_1   \n",
       "0      UNITED STATES             245502                   224059   \n",
       "1            ALABAMA               3717                     3651   \n",
       "2             ALASKA                518                      502   \n",
       "3            ARIZONA               5196                     4585   \n",
       "4           ARKANSAS               2216                     2116   \n",
       "\n",
       "        Registered                                                \\\n",
       "  Total registered Percent registered\\n(Total) Margin of Error 1   \n",
       "0           157596                     64.1935           0.29761   \n",
       "1             2526                     67.9617           2.50241   \n",
       "2              358                     69.0653           2.64986   \n",
       "3             3145                     60.5332           2.24609   \n",
       "4             1456                     65.6858           2.65021   \n",
       "\n",
       "                                                          Voted  \\\n",
       "  Percent registered\\n(Citizen) Margin of Error 1.1 Total voted   \n",
       "0                       70.3369             0.29680      137537   \n",
       "1                       69.1816             2.49836        2095   \n",
       "2                       71.3036             2.63491         308   \n",
       "3                       68.6090             2.27039        2769   \n",
       "4                       68.8026             2.64689        1241   \n",
       "\n",
       "                                                                     \\\n",
       "  Percent voted\\n(Total) Margin of Error 1 Percent voted\\n(Citizen)   \n",
       "0                56.0226           0.30812                  61.3841   \n",
       "1                56.3712           2.65954                  57.3830   \n",
       "2                59.4061           2.81524                  61.3313   \n",
       "3                53.2880           2.29268                  60.3972   \n",
       "4                56.0106           2.77088                  58.6683   \n",
       "\n",
       "                       \n",
       "  Margin of Error 1.1  \n",
       "0             0.31636  \n",
       "1             2.67570  \n",
       "2             2.83672  \n",
       "3             2.39265  \n",
       "4             2.81331  "
      ]
     },
     "execution_count": 74,
     "metadata": {},
     "output_type": "execute_result"
    }
   ],
   "source": [
    "registeredVoters = pd.read_excel('table04a.xlsx', sheet_name='Table 4a', skiprows=3, skipfooter=5, header=[0, 1])\n",
    "print(registeredVoters.shape)\n",
    "registeredVoters.head()"
   ]
  },
  {
   "cell_type": "code",
   "execution_count": 75,
   "metadata": {},
   "outputs": [],
   "source": [
    "registeredVoters = registeredVoters[['STATE', 'Registered']]\n",
    "registeredVoters = registeredVoters[registeredVoters['STATE', 'Unnamed: 0_level_1'] != 'UNITED STATES']"
   ]
  },
  {
   "cell_type": "code",
   "execution_count": 76,
   "metadata": {},
   "outputs": [
    {
     "data": {
      "text/html": [
       "<div>\n",
       "<style scoped>\n",
       "    .dataframe tbody tr th:only-of-type {\n",
       "        vertical-align: middle;\n",
       "    }\n",
       "\n",
       "    .dataframe tbody tr th {\n",
       "        vertical-align: top;\n",
       "    }\n",
       "\n",
       "    .dataframe thead th {\n",
       "        text-align: right;\n",
       "    }\n",
       "</style>\n",
       "<table border=\"1\" class=\"dataframe\">\n",
       "  <thead>\n",
       "    <tr style=\"text-align: right;\">\n",
       "      <th></th>\n",
       "      <th>STATE</th>\n",
       "      <th>REG_VOTERS</th>\n",
       "      <th>FULL_NM</th>\n",
       "    </tr>\n",
       "  </thead>\n",
       "  <tbody>\n",
       "    <tr>\n",
       "      <td>1</td>\n",
       "      <td>AL</td>\n",
       "      <td>2526</td>\n",
       "      <td>ALABAMA</td>\n",
       "    </tr>\n",
       "    <tr>\n",
       "      <td>2</td>\n",
       "      <td>AK</td>\n",
       "      <td>358</td>\n",
       "      <td>ALASKA</td>\n",
       "    </tr>\n",
       "    <tr>\n",
       "      <td>3</td>\n",
       "      <td>AZ</td>\n",
       "      <td>3145</td>\n",
       "      <td>ARIZONA</td>\n",
       "    </tr>\n",
       "    <tr>\n",
       "      <td>4</td>\n",
       "      <td>AR</td>\n",
       "      <td>1456</td>\n",
       "      <td>ARKANSAS</td>\n",
       "    </tr>\n",
       "    <tr>\n",
       "      <td>5</td>\n",
       "      <td>CA</td>\n",
       "      <td>16096</td>\n",
       "      <td>CALIFORNIA</td>\n",
       "    </tr>\n",
       "  </tbody>\n",
       "</table>\n",
       "</div>"
      ],
      "text/plain": [
       "  STATE  REG_VOTERS     FULL_NM\n",
       "1    AL        2526     ALABAMA\n",
       "2    AK         358      ALASKA\n",
       "3    AZ        3145     ARIZONA\n",
       "4    AR        1456    ARKANSAS\n",
       "5    CA       16096  CALIFORNIA"
      ]
     },
     "execution_count": 76,
     "metadata": {},
     "output_type": "execute_result"
    }
   ],
   "source": [
    "regStates = registeredVoters[\"STATE\", 'Unnamed: 0_level_1']\n",
    "regVoters = registeredVoters[\"Registered\",'Total registered']\n",
    "stateInit = ['AL', 'AK', 'AZ', 'AR', 'CA', 'CO', 'CT', 'DE', 'DC', 'FL', 'GA', 'HI','ID', 'IL', 'IN', 'IA', 'KS', \n",
    "             'KY', 'LA', 'ME','MD', 'MA', 'MI','MN', 'MS', 'MO', 'MT', 'NE', 'NV', 'NH', 'NJ', 'NM', 'NY', 'NC',\n",
    "             'ND', 'OH', 'OK', 'OR', 'PA', 'RI','SC', 'SD', 'TN', 'TX', 'UT','VT', 'VA', 'WA', 'WV']\n",
    "regStatesVoters = pd.DataFrame(data={'STATE':stateInit, \"REG_VOTERS\":regVoters, \"FULL_NM\":regStates})\n",
    "regStatesVoters.shape\n",
    "regStatesVoters.head(5)"
   ]
  },
  {
   "cell_type": "markdown",
   "metadata": {},
   "source": [
    "Finding a list of all US states: <br>\n",
    "https://gist.github.com/iamjason/8f8f4bc00c13de86bcad"
   ]
  },
  {
   "cell_type": "code",
   "execution_count": 77,
   "metadata": {},
   "outputs": [
    {
     "data": {
      "text/plain": [
       "array(['AMERICAN SAMOA', 'GUAM', 'PUERTO RICO', 'VIRGIN ISLANDS',\n",
       "       'WISCONSIN', 'WYOMING'], dtype='<U20')"
      ]
     },
     "execution_count": 77,
     "metadata": {},
     "output_type": "execute_result"
    }
   ],
   "source": [
    "allStates = [\"Alaska\",\n",
    "                  \"Alabama\",\n",
    "                  \"Arkansas\",\n",
    "                  \"American Samoa\",\n",
    "                  \"Arizona\",\n",
    "                  \"California\",\n",
    "                  \"Colorado\",\n",
    "                  \"Connecticut\",\n",
    "                  \"District of Columbia\",\n",
    "                  \"Delaware\",\n",
    "                  \"Florida\",\n",
    "                  \"Georgia\",\n",
    "                  \"Guam\",\n",
    "                  \"Hawaii\",\n",
    "                  \"Iowa\",\n",
    "                  \"Idaho\",\n",
    "                  \"Illinois\",\n",
    "                  \"Indiana\",\n",
    "                  \"Kansas\",\n",
    "                  \"Kentucky\",\n",
    "                  \"Louisiana\",\n",
    "                  \"Massachusetts\",\n",
    "                  \"Maryland\",\n",
    "                  \"Maine\",\n",
    "                  \"Michigan\",\n",
    "                  \"Minnesota\",\n",
    "                  \"Missouri\",\n",
    "                  \"Mississippi\",\n",
    "                  \"Montana\",\n",
    "                  \"North Carolina\",\n",
    "                  \"North Dakota\",\n",
    "                  \"Nebraska\",\n",
    "                  \"New Hampshire\",\n",
    "                  \"New Jersey\",\n",
    "                  \"New Mexico\",\n",
    "                  \"Nevada\",\n",
    "                  \"New York\",\n",
    "                  \"Ohio\",\n",
    "                  \"Oklahoma\",\n",
    "                  \"Oregon\",\n",
    "                  \"Pennsylvania\",\n",
    "                  \"Puerto Rico\",\n",
    "                  \"Rhode Island\",\n",
    "                  \"South Carolina\",\n",
    "                  \"South Dakota\",\n",
    "                  \"Tennessee\",\n",
    "                  \"Texas\",\n",
    "                  \"Utah\",\n",
    "                  \"Virginia\",\n",
    "                  \"Virgin Islands\",\n",
    "                  \"Vermont\",\n",
    "                  \"Washington\",\n",
    "                  \"Wisconsin\",\n",
    "                  \"West Virginia\",\n",
    "                  \"Wyoming\"]\n",
    "allStates = [x.upper() for x in allStates]\n",
    "missingStates = np.setdiff1d(allStates,regStates)\n",
    "missingStates"
   ]
  },
  {
   "cell_type": "markdown",
   "metadata": {},
   "source": [
    "Group Expenses By State & merge with the population data"
   ]
  },
  {
   "cell_type": "code",
   "execution_count": 78,
   "metadata": {},
   "outputs": [],
   "source": [
    "stateExpensesTrump = trumpExpenses16[['STATE','TRANSACTION_AMT']].groupby(['STATE']).sum().sort_values(['TRANSACTION_AMT'],ascending=False).reset_index()\n",
    "stateExpensesHillary = hillaryExpenses16[['STATE','TRANSACTION_AMT']].groupby(['STATE']).sum().sort_values(['TRANSACTION_AMT'],ascending=False).reset_index()"
   ]
  },
  {
   "cell_type": "code",
   "execution_count": 79,
   "metadata": {},
   "outputs": [
    {
     "name": "stdout",
     "output_type": "stream",
     "text": [
      "(49, 4)\n"
     ]
    },
    {
     "data": {
      "text/html": [
       "<div>\n",
       "<style scoped>\n",
       "    .dataframe tbody tr th:only-of-type {\n",
       "        vertical-align: middle;\n",
       "    }\n",
       "\n",
       "    .dataframe tbody tr th {\n",
       "        vertical-align: top;\n",
       "    }\n",
       "\n",
       "    .dataframe thead th {\n",
       "        text-align: right;\n",
       "    }\n",
       "</style>\n",
       "<table border=\"1\" class=\"dataframe\">\n",
       "  <thead>\n",
       "    <tr style=\"text-align: right;\">\n",
       "      <th></th>\n",
       "      <th>STATE</th>\n",
       "      <th>TRANSACTION_AMT</th>\n",
       "      <th>REG_VOTERS</th>\n",
       "      <th>FULL_NM</th>\n",
       "    </tr>\n",
       "  </thead>\n",
       "  <tbody>\n",
       "    <tr>\n",
       "      <td>0</td>\n",
       "      <td>VA</td>\n",
       "      <td>1.098994e+08</td>\n",
       "      <td>4399</td>\n",
       "      <td>VIRGINIA</td>\n",
       "    </tr>\n",
       "    <tr>\n",
       "      <td>1</td>\n",
       "      <td>TX</td>\n",
       "      <td>9.688253e+07</td>\n",
       "      <td>11724</td>\n",
       "      <td>TEXAS</td>\n",
       "    </tr>\n",
       "    <tr>\n",
       "      <td>2</td>\n",
       "      <td>NY</td>\n",
       "      <td>2.549983e+07</td>\n",
       "      <td>9142</td>\n",
       "      <td>NEW YORK</td>\n",
       "    </tr>\n",
       "    <tr>\n",
       "      <td>3</td>\n",
       "      <td>NJ</td>\n",
       "      <td>1.909532e+07</td>\n",
       "      <td>4165</td>\n",
       "      <td>NEW JERSEY</td>\n",
       "    </tr>\n",
       "    <tr>\n",
       "      <td>4</td>\n",
       "      <td>LA</td>\n",
       "      <td>1.599482e+07</td>\n",
       "      <td>2446</td>\n",
       "      <td>LOUISIANA</td>\n",
       "    </tr>\n",
       "  </tbody>\n",
       "</table>\n",
       "</div>"
      ],
      "text/plain": [
       "  STATE  TRANSACTION_AMT  REG_VOTERS     FULL_NM\n",
       "0    VA     1.098994e+08        4399    VIRGINIA\n",
       "1    TX     9.688253e+07       11724       TEXAS\n",
       "2    NY     2.549983e+07        9142    NEW YORK\n",
       "3    NJ     1.909532e+07        4165  NEW JERSEY\n",
       "4    LA     1.599482e+07        2446   LOUISIANA"
      ]
     },
     "execution_count": 79,
     "metadata": {},
     "output_type": "execute_result"
    }
   ],
   "source": [
    "stateExpensesTrump = pd.merge(stateExpensesTrump, regStatesVoters[['STATE','REG_VOTERS','FULL_NM']], on='STATE', how='inner')\n",
    "print(stateExpensesTrump.shape)\n",
    "stateExpensesTrump.head(5)"
   ]
  },
  {
   "cell_type": "code",
   "execution_count": 80,
   "metadata": {},
   "outputs": [
    {
     "name": "stdout",
     "output_type": "stream",
     "text": [
      "(49, 4)\n"
     ]
    },
    {
     "data": {
      "text/html": [
       "<div>\n",
       "<style scoped>\n",
       "    .dataframe tbody tr th:only-of-type {\n",
       "        vertical-align: middle;\n",
       "    }\n",
       "\n",
       "    .dataframe tbody tr th {\n",
       "        vertical-align: top;\n",
       "    }\n",
       "\n",
       "    .dataframe thead th {\n",
       "        text-align: right;\n",
       "    }\n",
       "</style>\n",
       "<table border=\"1\" class=\"dataframe\">\n",
       "  <thead>\n",
       "    <tr style=\"text-align: right;\">\n",
       "      <th></th>\n",
       "      <th>STATE</th>\n",
       "      <th>TRANSACTION_AMT</th>\n",
       "      <th>REG_VOTERS</th>\n",
       "      <th>FULL_NM</th>\n",
       "    </tr>\n",
       "  </thead>\n",
       "  <tbody>\n",
       "    <tr>\n",
       "      <td>0</td>\n",
       "      <td>DC</td>\n",
       "      <td>3.331118e+08</td>\n",
       "      <td>420</td>\n",
       "      <td>DISTRICT OF COLUMBIA</td>\n",
       "    </tr>\n",
       "    <tr>\n",
       "      <td>1</td>\n",
       "      <td>NY</td>\n",
       "      <td>5.731997e+07</td>\n",
       "      <td>9142</td>\n",
       "      <td>NEW YORK</td>\n",
       "    </tr>\n",
       "    <tr>\n",
       "      <td>2</td>\n",
       "      <td>NJ</td>\n",
       "      <td>4.155900e+07</td>\n",
       "      <td>4165</td>\n",
       "      <td>NEW JERSEY</td>\n",
       "    </tr>\n",
       "    <tr>\n",
       "      <td>3</td>\n",
       "      <td>AR</td>\n",
       "      <td>1.633215e+07</td>\n",
       "      <td>1456</td>\n",
       "      <td>ARKANSAS</td>\n",
       "    </tr>\n",
       "    <tr>\n",
       "      <td>4</td>\n",
       "      <td>CA</td>\n",
       "      <td>1.302954e+07</td>\n",
       "      <td>16096</td>\n",
       "      <td>CALIFORNIA</td>\n",
       "    </tr>\n",
       "  </tbody>\n",
       "</table>\n",
       "</div>"
      ],
      "text/plain": [
       "  STATE  TRANSACTION_AMT  REG_VOTERS               FULL_NM\n",
       "0    DC     3.331118e+08         420  DISTRICT OF COLUMBIA\n",
       "1    NY     5.731997e+07        9142              NEW YORK\n",
       "2    NJ     4.155900e+07        4165            NEW JERSEY\n",
       "3    AR     1.633215e+07        1456              ARKANSAS\n",
       "4    CA     1.302954e+07       16096            CALIFORNIA"
      ]
     },
     "execution_count": 80,
     "metadata": {},
     "output_type": "execute_result"
    }
   ],
   "source": [
    "stateExpensesHillary = pd.merge(stateExpensesHillary, regStatesVoters[['STATE','REG_VOTERS','FULL_NM']], on='STATE', how='inner')\n",
    "print(stateExpensesHillary.shape)\n",
    "stateExpensesHillary.head(5)"
   ]
  },
  {
   "cell_type": "markdown",
   "metadata": {},
   "source": [
    "Create the Column to handle the costs per voter then sort by that amount for our final output"
   ]
  },
  {
   "cell_type": "code",
   "execution_count": 81,
   "metadata": {},
   "outputs": [],
   "source": [
    "stateExpensesTrump[\"COST_PER_VOTER\"] = stateExpensesTrump[\"TRANSACTION_AMT\"] / stateExpensesTrump[\"REG_VOTERS\"]\n",
    "stateExpensesHillary[\"COST_PER_VOTER\"] = stateExpensesHillary[\"TRANSACTION_AMT\"] / stateExpensesHillary[\"REG_VOTERS\"]\n",
    "stateExpensesTrump[\"COST_PER_VOTER\"] = stateExpensesTrump[\"COST_PER_VOTER\"].astype(int)\n",
    "stateExpensesHillary[\"COST_PER_VOTER\"] = stateExpensesHillary[\"COST_PER_VOTER\"].astype(int)"
   ]
  },
  {
   "cell_type": "code",
   "execution_count": 82,
   "metadata": {},
   "outputs": [
    {
     "data": {
      "text/html": [
       "<div>\n",
       "<style scoped>\n",
       "    .dataframe tbody tr th:only-of-type {\n",
       "        vertical-align: middle;\n",
       "    }\n",
       "\n",
       "    .dataframe tbody tr th {\n",
       "        vertical-align: top;\n",
       "    }\n",
       "\n",
       "    .dataframe thead th {\n",
       "        text-align: right;\n",
       "    }\n",
       "</style>\n",
       "<table border=\"1\" class=\"dataframe\">\n",
       "  <thead>\n",
       "    <tr style=\"text-align: right;\">\n",
       "      <th></th>\n",
       "      <th>STATE</th>\n",
       "      <th>TRANSACTION_AMT</th>\n",
       "      <th>REG_VOTERS</th>\n",
       "      <th>FULL_NM</th>\n",
       "      <th>COST_PER_VOTER</th>\n",
       "    </tr>\n",
       "  </thead>\n",
       "  <tbody>\n",
       "    <tr>\n",
       "      <td>0</td>\n",
       "      <td>VA</td>\n",
       "      <td>1.098994e+08</td>\n",
       "      <td>4399</td>\n",
       "      <td>VIRGINIA</td>\n",
       "      <td>24982</td>\n",
       "    </tr>\n",
       "    <tr>\n",
       "      <td>9</td>\n",
       "      <td>DC</td>\n",
       "      <td>6.482035e+06</td>\n",
       "      <td>420</td>\n",
       "      <td>DISTRICT OF COLUMBIA</td>\n",
       "      <td>15433</td>\n",
       "    </tr>\n",
       "    <tr>\n",
       "      <td>6</td>\n",
       "      <td>NH</td>\n",
       "      <td>1.087707e+07</td>\n",
       "      <td>763</td>\n",
       "      <td>NEW HAMPSHIRE</td>\n",
       "      <td>14255</td>\n",
       "    </tr>\n",
       "    <tr>\n",
       "      <td>1</td>\n",
       "      <td>TX</td>\n",
       "      <td>9.688253e+07</td>\n",
       "      <td>11724</td>\n",
       "      <td>TEXAS</td>\n",
       "      <td>8263</td>\n",
       "    </tr>\n",
       "    <tr>\n",
       "      <td>4</td>\n",
       "      <td>LA</td>\n",
       "      <td>1.599482e+07</td>\n",
       "      <td>2446</td>\n",
       "      <td>LOUISIANA</td>\n",
       "      <td>6539</td>\n",
       "    </tr>\n",
       "    <tr>\n",
       "      <td>3</td>\n",
       "      <td>NJ</td>\n",
       "      <td>1.909532e+07</td>\n",
       "      <td>4165</td>\n",
       "      <td>NEW JERSEY</td>\n",
       "      <td>4584</td>\n",
       "    </tr>\n",
       "    <tr>\n",
       "      <td>7</td>\n",
       "      <td>MO</td>\n",
       "      <td>9.516119e+06</td>\n",
       "      <td>3333</td>\n",
       "      <td>MISSOURI</td>\n",
       "      <td>2855</td>\n",
       "    </tr>\n",
       "    <tr>\n",
       "      <td>2</td>\n",
       "      <td>NY</td>\n",
       "      <td>2.549983e+07</td>\n",
       "      <td>9142</td>\n",
       "      <td>NEW YORK</td>\n",
       "      <td>2789</td>\n",
       "    </tr>\n",
       "    <tr>\n",
       "      <td>5</td>\n",
       "      <td>FL</td>\n",
       "      <td>1.244503e+07</td>\n",
       "      <td>9604</td>\n",
       "      <td>FLORIDA</td>\n",
       "      <td>1295</td>\n",
       "    </tr>\n",
       "    <tr>\n",
       "      <td>15</td>\n",
       "      <td>IA</td>\n",
       "      <td>1.877504e+06</td>\n",
       "      <td>1657</td>\n",
       "      <td>IOWA</td>\n",
       "      <td>1133</td>\n",
       "    </tr>\n",
       "  </tbody>\n",
       "</table>\n",
       "</div>"
      ],
      "text/plain": [
       "   STATE  TRANSACTION_AMT  REG_VOTERS               FULL_NM  COST_PER_VOTER\n",
       "0     VA     1.098994e+08        4399              VIRGINIA           24982\n",
       "9     DC     6.482035e+06         420  DISTRICT OF COLUMBIA           15433\n",
       "6     NH     1.087707e+07         763         NEW HAMPSHIRE           14255\n",
       "1     TX     9.688253e+07       11724                 TEXAS            8263\n",
       "4     LA     1.599482e+07        2446             LOUISIANA            6539\n",
       "3     NJ     1.909532e+07        4165            NEW JERSEY            4584\n",
       "7     MO     9.516119e+06        3333              MISSOURI            2855\n",
       "2     NY     2.549983e+07        9142              NEW YORK            2789\n",
       "5     FL     1.244503e+07        9604               FLORIDA            1295\n",
       "15    IA     1.877504e+06        1657                  IOWA            1133"
      ]
     },
     "execution_count": 82,
     "metadata": {},
     "output_type": "execute_result"
    }
   ],
   "source": [
    "sortedExpensesVoterTrump = stateExpensesTrump.sort_values('COST_PER_VOTER',ascending=False)\n",
    "sortedExpensesVoterTrump.head(10)"
   ]
  },
  {
   "cell_type": "code",
   "execution_count": 98,
   "metadata": {
    "scrolled": true
   },
   "outputs": [],
   "source": [
    "sortedExpensesVoterHillary = stateExpensesHillary.sort_values('COST_PER_VOTER',ascending=False)\n",
    "sortedExpensesVoterHillary.head(10)\n",
    "notDCHillary = sortedExpensesVoterHillary.iloc[1:]"
   ]
  },
  {
   "cell_type": "markdown",
   "metadata": {},
   "source": [
    "Wikipedia explains Swing states being the ones that can be won by either party by a swing in votes <br> https://en.wikipedia.org/wiki/Swing_state<br>\n",
    "We also get details on which were considered the Swing states for 2016 <br>\n",
    "https://en.wikipedia.org/wiki/Swing_state#:~:text=According%20to%20a%20pre%2Delection,%2C%20North%20Carolina%2C%20and%20Maine.<br>\n"
   ]
  },
  {
   "cell_type": "code",
   "execution_count": 92,
   "metadata": {},
   "outputs": [
    {
     "data": {
      "application/vnd.plotly.v1+json": {
       "config": {
        "plotlyServerURL": "https://plot.ly"
       },
       "data": [
        {
         "coloraxis": "coloraxis",
         "geo": "geo",
         "hovertemplate": "<b>%{hovertext}</b><br><br>STATE=%{location}<br>COST_PER_VOTER=%{z}<extra></extra>",
         "hovertext": [
          109899408,
          6482035,
          10877074,
          96882525,
          15994824,
          19095322,
          9516118,
          25499826,
          12445034,
          1877504,
          3295309,
          1060465,
          2220402,
          4347108,
          2497623,
          1070503,
          277087,
          8143573,
          2230792,
          1343977,
          947551,
          796399,
          427103,
          1419626,
          876813,
          320792,
          1580982,
          79467,
          367694,
          823085,
          376070,
          183176,
          1294171,
          91120,
          169215,
          861549,
          380945,
          456268,
          116729,
          169590,
          241785,
          91403,
          58173,
          49818,
          20551,
          18496,
          15350,
          91289,
          15242
         ],
         "locationmode": "USA-states",
         "locations": [
          "VA",
          "DC",
          "NH",
          "TX",
          "LA",
          "NJ",
          "MO",
          "NY",
          "FL",
          "IA",
          "AZ",
          "NV",
          "CO",
          "OH",
          "MA",
          "CT",
          "DE",
          "CA",
          "GA",
          "IN",
          "SC",
          "KY",
          "KS",
          "NC",
          "TN",
          "UT",
          "PA",
          "VT",
          "MS",
          "WA",
          "OK",
          "NM",
          "IL",
          "RI",
          "NE",
          "MI",
          "AL",
          "MD",
          "ME",
          "AR",
          "OR",
          "WV",
          "MT",
          "ID",
          "AK",
          "SD",
          "ND",
          "MN",
          "HI"
         ],
         "name": "",
         "type": "choropleth",
         "z": [
          24982,
          15433,
          14255,
          8263,
          6539,
          4584,
          2855,
          2789,
          1295,
          1133,
          1047,
          773,
          767,
          709,
          682,
          607,
          568,
          505,
          456,
          407,
          367,
          353,
          297,
          273,
          269,
          229,
          228,
          226,
          213,
          210,
          202,
          199,
          194,
          169,
          167,
          158,
          150,
          146,
          140,
          116,
          112,
          100,
          100,
          63,
          57,
          42,
          36,
          29,
          28
         ]
        }
       ],
       "layout": {
        "coloraxis": {
         "colorbar": {
          "title": {
           "text": "COST_PER_VOTER"
          }
         },
         "colorscale": [
          [
           0,
           "#0d0887"
          ],
          [
           0.1111111111111111,
           "#46039f"
          ],
          [
           0.2222222222222222,
           "#7201a8"
          ],
          [
           0.3333333333333333,
           "#9c179e"
          ],
          [
           0.4444444444444444,
           "#bd3786"
          ],
          [
           0.5555555555555556,
           "#d8576b"
          ],
          [
           0.6666666666666666,
           "#ed7953"
          ],
          [
           0.7777777777777778,
           "#fb9f3a"
          ],
          [
           0.8888888888888888,
           "#fdca26"
          ],
          [
           1,
           "#f0f921"
          ]
         ]
        },
        "geo": {
         "center": {},
         "domain": {
          "x": [
           0,
           1
          ],
          "y": [
           0,
           1
          ]
         },
         "scope": "usa"
        },
        "legend": {
         "tracegroupgap": 0
        },
        "margin": {
         "t": 60
        },
        "template": {
         "data": {
          "bar": [
           {
            "error_x": {
             "color": "#2a3f5f"
            },
            "error_y": {
             "color": "#2a3f5f"
            },
            "marker": {
             "line": {
              "color": "#E5ECF6",
              "width": 0.5
             }
            },
            "type": "bar"
           }
          ],
          "barpolar": [
           {
            "marker": {
             "line": {
              "color": "#E5ECF6",
              "width": 0.5
             }
            },
            "type": "barpolar"
           }
          ],
          "carpet": [
           {
            "aaxis": {
             "endlinecolor": "#2a3f5f",
             "gridcolor": "white",
             "linecolor": "white",
             "minorgridcolor": "white",
             "startlinecolor": "#2a3f5f"
            },
            "baxis": {
             "endlinecolor": "#2a3f5f",
             "gridcolor": "white",
             "linecolor": "white",
             "minorgridcolor": "white",
             "startlinecolor": "#2a3f5f"
            },
            "type": "carpet"
           }
          ],
          "choropleth": [
           {
            "colorbar": {
             "outlinewidth": 0,
             "ticks": ""
            },
            "type": "choropleth"
           }
          ],
          "contour": [
           {
            "colorbar": {
             "outlinewidth": 0,
             "ticks": ""
            },
            "colorscale": [
             [
              0,
              "#0d0887"
             ],
             [
              0.1111111111111111,
              "#46039f"
             ],
             [
              0.2222222222222222,
              "#7201a8"
             ],
             [
              0.3333333333333333,
              "#9c179e"
             ],
             [
              0.4444444444444444,
              "#bd3786"
             ],
             [
              0.5555555555555556,
              "#d8576b"
             ],
             [
              0.6666666666666666,
              "#ed7953"
             ],
             [
              0.7777777777777778,
              "#fb9f3a"
             ],
             [
              0.8888888888888888,
              "#fdca26"
             ],
             [
              1,
              "#f0f921"
             ]
            ],
            "type": "contour"
           }
          ],
          "contourcarpet": [
           {
            "colorbar": {
             "outlinewidth": 0,
             "ticks": ""
            },
            "type": "contourcarpet"
           }
          ],
          "heatmap": [
           {
            "colorbar": {
             "outlinewidth": 0,
             "ticks": ""
            },
            "colorscale": [
             [
              0,
              "#0d0887"
             ],
             [
              0.1111111111111111,
              "#46039f"
             ],
             [
              0.2222222222222222,
              "#7201a8"
             ],
             [
              0.3333333333333333,
              "#9c179e"
             ],
             [
              0.4444444444444444,
              "#bd3786"
             ],
             [
              0.5555555555555556,
              "#d8576b"
             ],
             [
              0.6666666666666666,
              "#ed7953"
             ],
             [
              0.7777777777777778,
              "#fb9f3a"
             ],
             [
              0.8888888888888888,
              "#fdca26"
             ],
             [
              1,
              "#f0f921"
             ]
            ],
            "type": "heatmap"
           }
          ],
          "heatmapgl": [
           {
            "colorbar": {
             "outlinewidth": 0,
             "ticks": ""
            },
            "colorscale": [
             [
              0,
              "#0d0887"
             ],
             [
              0.1111111111111111,
              "#46039f"
             ],
             [
              0.2222222222222222,
              "#7201a8"
             ],
             [
              0.3333333333333333,
              "#9c179e"
             ],
             [
              0.4444444444444444,
              "#bd3786"
             ],
             [
              0.5555555555555556,
              "#d8576b"
             ],
             [
              0.6666666666666666,
              "#ed7953"
             ],
             [
              0.7777777777777778,
              "#fb9f3a"
             ],
             [
              0.8888888888888888,
              "#fdca26"
             ],
             [
              1,
              "#f0f921"
             ]
            ],
            "type": "heatmapgl"
           }
          ],
          "histogram": [
           {
            "marker": {
             "colorbar": {
              "outlinewidth": 0,
              "ticks": ""
             }
            },
            "type": "histogram"
           }
          ],
          "histogram2d": [
           {
            "colorbar": {
             "outlinewidth": 0,
             "ticks": ""
            },
            "colorscale": [
             [
              0,
              "#0d0887"
             ],
             [
              0.1111111111111111,
              "#46039f"
             ],
             [
              0.2222222222222222,
              "#7201a8"
             ],
             [
              0.3333333333333333,
              "#9c179e"
             ],
             [
              0.4444444444444444,
              "#bd3786"
             ],
             [
              0.5555555555555556,
              "#d8576b"
             ],
             [
              0.6666666666666666,
              "#ed7953"
             ],
             [
              0.7777777777777778,
              "#fb9f3a"
             ],
             [
              0.8888888888888888,
              "#fdca26"
             ],
             [
              1,
              "#f0f921"
             ]
            ],
            "type": "histogram2d"
           }
          ],
          "histogram2dcontour": [
           {
            "colorbar": {
             "outlinewidth": 0,
             "ticks": ""
            },
            "colorscale": [
             [
              0,
              "#0d0887"
             ],
             [
              0.1111111111111111,
              "#46039f"
             ],
             [
              0.2222222222222222,
              "#7201a8"
             ],
             [
              0.3333333333333333,
              "#9c179e"
             ],
             [
              0.4444444444444444,
              "#bd3786"
             ],
             [
              0.5555555555555556,
              "#d8576b"
             ],
             [
              0.6666666666666666,
              "#ed7953"
             ],
             [
              0.7777777777777778,
              "#fb9f3a"
             ],
             [
              0.8888888888888888,
              "#fdca26"
             ],
             [
              1,
              "#f0f921"
             ]
            ],
            "type": "histogram2dcontour"
           }
          ],
          "mesh3d": [
           {
            "colorbar": {
             "outlinewidth": 0,
             "ticks": ""
            },
            "type": "mesh3d"
           }
          ],
          "parcoords": [
           {
            "line": {
             "colorbar": {
              "outlinewidth": 0,
              "ticks": ""
             }
            },
            "type": "parcoords"
           }
          ],
          "pie": [
           {
            "automargin": true,
            "type": "pie"
           }
          ],
          "scatter": [
           {
            "marker": {
             "colorbar": {
              "outlinewidth": 0,
              "ticks": ""
             }
            },
            "type": "scatter"
           }
          ],
          "scatter3d": [
           {
            "line": {
             "colorbar": {
              "outlinewidth": 0,
              "ticks": ""
             }
            },
            "marker": {
             "colorbar": {
              "outlinewidth": 0,
              "ticks": ""
             }
            },
            "type": "scatter3d"
           }
          ],
          "scattercarpet": [
           {
            "marker": {
             "colorbar": {
              "outlinewidth": 0,
              "ticks": ""
             }
            },
            "type": "scattercarpet"
           }
          ],
          "scattergeo": [
           {
            "marker": {
             "colorbar": {
              "outlinewidth": 0,
              "ticks": ""
             }
            },
            "type": "scattergeo"
           }
          ],
          "scattergl": [
           {
            "marker": {
             "colorbar": {
              "outlinewidth": 0,
              "ticks": ""
             }
            },
            "type": "scattergl"
           }
          ],
          "scattermapbox": [
           {
            "marker": {
             "colorbar": {
              "outlinewidth": 0,
              "ticks": ""
             }
            },
            "type": "scattermapbox"
           }
          ],
          "scatterpolar": [
           {
            "marker": {
             "colorbar": {
              "outlinewidth": 0,
              "ticks": ""
             }
            },
            "type": "scatterpolar"
           }
          ],
          "scatterpolargl": [
           {
            "marker": {
             "colorbar": {
              "outlinewidth": 0,
              "ticks": ""
             }
            },
            "type": "scatterpolargl"
           }
          ],
          "scatterternary": [
           {
            "marker": {
             "colorbar": {
              "outlinewidth": 0,
              "ticks": ""
             }
            },
            "type": "scatterternary"
           }
          ],
          "surface": [
           {
            "colorbar": {
             "outlinewidth": 0,
             "ticks": ""
            },
            "colorscale": [
             [
              0,
              "#0d0887"
             ],
             [
              0.1111111111111111,
              "#46039f"
             ],
             [
              0.2222222222222222,
              "#7201a8"
             ],
             [
              0.3333333333333333,
              "#9c179e"
             ],
             [
              0.4444444444444444,
              "#bd3786"
             ],
             [
              0.5555555555555556,
              "#d8576b"
             ],
             [
              0.6666666666666666,
              "#ed7953"
             ],
             [
              0.7777777777777778,
              "#fb9f3a"
             ],
             [
              0.8888888888888888,
              "#fdca26"
             ],
             [
              1,
              "#f0f921"
             ]
            ],
            "type": "surface"
           }
          ],
          "table": [
           {
            "cells": {
             "fill": {
              "color": "#EBF0F8"
             },
             "line": {
              "color": "white"
             }
            },
            "header": {
             "fill": {
              "color": "#C8D4E3"
             },
             "line": {
              "color": "white"
             }
            },
            "type": "table"
           }
          ]
         },
         "layout": {
          "annotationdefaults": {
           "arrowcolor": "#2a3f5f",
           "arrowhead": 0,
           "arrowwidth": 1
          },
          "autotypenumbers": "strict",
          "coloraxis": {
           "colorbar": {
            "outlinewidth": 0,
            "ticks": ""
           }
          },
          "colorscale": {
           "diverging": [
            [
             0,
             "#8e0152"
            ],
            [
             0.1,
             "#c51b7d"
            ],
            [
             0.2,
             "#de77ae"
            ],
            [
             0.3,
             "#f1b6da"
            ],
            [
             0.4,
             "#fde0ef"
            ],
            [
             0.5,
             "#f7f7f7"
            ],
            [
             0.6,
             "#e6f5d0"
            ],
            [
             0.7,
             "#b8e186"
            ],
            [
             0.8,
             "#7fbc41"
            ],
            [
             0.9,
             "#4d9221"
            ],
            [
             1,
             "#276419"
            ]
           ],
           "sequential": [
            [
             0,
             "#0d0887"
            ],
            [
             0.1111111111111111,
             "#46039f"
            ],
            [
             0.2222222222222222,
             "#7201a8"
            ],
            [
             0.3333333333333333,
             "#9c179e"
            ],
            [
             0.4444444444444444,
             "#bd3786"
            ],
            [
             0.5555555555555556,
             "#d8576b"
            ],
            [
             0.6666666666666666,
             "#ed7953"
            ],
            [
             0.7777777777777778,
             "#fb9f3a"
            ],
            [
             0.8888888888888888,
             "#fdca26"
            ],
            [
             1,
             "#f0f921"
            ]
           ],
           "sequentialminus": [
            [
             0,
             "#0d0887"
            ],
            [
             0.1111111111111111,
             "#46039f"
            ],
            [
             0.2222222222222222,
             "#7201a8"
            ],
            [
             0.3333333333333333,
             "#9c179e"
            ],
            [
             0.4444444444444444,
             "#bd3786"
            ],
            [
             0.5555555555555556,
             "#d8576b"
            ],
            [
             0.6666666666666666,
             "#ed7953"
            ],
            [
             0.7777777777777778,
             "#fb9f3a"
            ],
            [
             0.8888888888888888,
             "#fdca26"
            ],
            [
             1,
             "#f0f921"
            ]
           ]
          },
          "colorway": [
           "#636efa",
           "#EF553B",
           "#00cc96",
           "#ab63fa",
           "#FFA15A",
           "#19d3f3",
           "#FF6692",
           "#B6E880",
           "#FF97FF",
           "#FECB52"
          ],
          "font": {
           "color": "#2a3f5f"
          },
          "geo": {
           "bgcolor": "white",
           "lakecolor": "white",
           "landcolor": "#E5ECF6",
           "showlakes": true,
           "showland": true,
           "subunitcolor": "white"
          },
          "hoverlabel": {
           "align": "left"
          },
          "hovermode": "closest",
          "mapbox": {
           "style": "light"
          },
          "paper_bgcolor": "white",
          "plot_bgcolor": "#E5ECF6",
          "polar": {
           "angularaxis": {
            "gridcolor": "white",
            "linecolor": "white",
            "ticks": ""
           },
           "bgcolor": "#E5ECF6",
           "radialaxis": {
            "gridcolor": "white",
            "linecolor": "white",
            "ticks": ""
           }
          },
          "scene": {
           "xaxis": {
            "backgroundcolor": "#E5ECF6",
            "gridcolor": "white",
            "gridwidth": 2,
            "linecolor": "white",
            "showbackground": true,
            "ticks": "",
            "zerolinecolor": "white"
           },
           "yaxis": {
            "backgroundcolor": "#E5ECF6",
            "gridcolor": "white",
            "gridwidth": 2,
            "linecolor": "white",
            "showbackground": true,
            "ticks": "",
            "zerolinecolor": "white"
           },
           "zaxis": {
            "backgroundcolor": "#E5ECF6",
            "gridcolor": "white",
            "gridwidth": 2,
            "linecolor": "white",
            "showbackground": true,
            "ticks": "",
            "zerolinecolor": "white"
           }
          },
          "shapedefaults": {
           "line": {
            "color": "#2a3f5f"
           }
          },
          "ternary": {
           "aaxis": {
            "gridcolor": "white",
            "linecolor": "white",
            "ticks": ""
           },
           "baxis": {
            "gridcolor": "white",
            "linecolor": "white",
            "ticks": ""
           },
           "bgcolor": "#E5ECF6",
           "caxis": {
            "gridcolor": "white",
            "linecolor": "white",
            "ticks": ""
           }
          },
          "title": {
           "x": 0.05
          },
          "xaxis": {
           "automargin": true,
           "gridcolor": "white",
           "linecolor": "white",
           "ticks": "",
           "title": {
            "standoff": 15
           },
           "zerolinecolor": "white",
           "zerolinewidth": 2
          },
          "yaxis": {
           "automargin": true,
           "gridcolor": "white",
           "linecolor": "white",
           "ticks": "",
           "title": {
            "standoff": 15
           },
           "zerolinecolor": "white",
           "zerolinewidth": 2
          }
         }
        },
        "title": {
         "text": "State costs of Trump`s Campaign per registered voter"
        }
       }
      },
      "text/html": [
       "<div>                            <div id=\"16df7f98-d3b8-4e8c-a94e-ccb4d95b7359\" class=\"plotly-graph-div\" style=\"height:525px; width:100%;\"></div>            <script type=\"text/javascript\">                require([\"plotly\"], function(Plotly) {                    window.PLOTLYENV=window.PLOTLYENV || {};                                    if (document.getElementById(\"16df7f98-d3b8-4e8c-a94e-ccb4d95b7359\")) {                    Plotly.newPlot(                        \"16df7f98-d3b8-4e8c-a94e-ccb4d95b7359\",                        [{\"coloraxis\": \"coloraxis\", \"geo\": \"geo\", \"hovertemplate\": \"<b>%{hovertext}</b><br><br>STATE=%{location}<br>COST_PER_VOTER=%{z}<extra></extra>\", \"hovertext\": [109899408.0, 6482035.0, 10877074.0, 96882525.0, 15994824.0, 19095322.0, 9516118.0, 25499826.0, 12445034.0, 1877504.0, 3295309.0, 1060465.0, 2220402.0, 4347108.0, 2497623.0, 1070503.0, 277087.0, 8143573.0, 2230792.0, 1343977.0, 947551.0, 796399.0, 427103.0, 1419626.0, 876813.0, 320792.0, 1580982.0, 79467.0, 367694.0, 823085.0, 376070.0, 183176.0, 1294171.0, 91120.0, 169215.0, 861549.0, 380945.0, 456268.0, 116729.0, 169590.0, 241785.0, 91403.0, 58173.0, 49818.0, 20551.0, 18496.0, 15350.0, 91289.0, 15242.0], \"locationmode\": \"USA-states\", \"locations\": [\"VA\", \"DC\", \"NH\", \"TX\", \"LA\", \"NJ\", \"MO\", \"NY\", \"FL\", \"IA\", \"AZ\", \"NV\", \"CO\", \"OH\", \"MA\", \"CT\", \"DE\", \"CA\", \"GA\", \"IN\", \"SC\", \"KY\", \"KS\", \"NC\", \"TN\", \"UT\", \"PA\", \"VT\", \"MS\", \"WA\", \"OK\", \"NM\", \"IL\", \"RI\", \"NE\", \"MI\", \"AL\", \"MD\", \"ME\", \"AR\", \"OR\", \"WV\", \"MT\", \"ID\", \"AK\", \"SD\", \"ND\", \"MN\", \"HI\"], \"name\": \"\", \"type\": \"choropleth\", \"z\": [24982, 15433, 14255, 8263, 6539, 4584, 2855, 2789, 1295, 1133, 1047, 773, 767, 709, 682, 607, 568, 505, 456, 407, 367, 353, 297, 273, 269, 229, 228, 226, 213, 210, 202, 199, 194, 169, 167, 158, 150, 146, 140, 116, 112, 100, 100, 63, 57, 42, 36, 29, 28]}],                        {\"coloraxis\": {\"colorbar\": {\"title\": {\"text\": \"COST_PER_VOTER\"}}, \"colorscale\": [[0.0, \"#0d0887\"], [0.1111111111111111, \"#46039f\"], [0.2222222222222222, \"#7201a8\"], [0.3333333333333333, \"#9c179e\"], [0.4444444444444444, \"#bd3786\"], [0.5555555555555556, \"#d8576b\"], [0.6666666666666666, \"#ed7953\"], [0.7777777777777778, \"#fb9f3a\"], [0.8888888888888888, \"#fdca26\"], [1.0, \"#f0f921\"]]}, \"geo\": {\"center\": {}, \"domain\": {\"x\": [0.0, 1.0], \"y\": [0.0, 1.0]}, \"scope\": \"usa\"}, \"legend\": {\"tracegroupgap\": 0}, \"margin\": {\"t\": 60}, \"template\": {\"data\": {\"bar\": [{\"error_x\": {\"color\": \"#2a3f5f\"}, \"error_y\": {\"color\": \"#2a3f5f\"}, \"marker\": {\"line\": {\"color\": \"#E5ECF6\", \"width\": 0.5}}, \"type\": \"bar\"}], \"barpolar\": [{\"marker\": {\"line\": {\"color\": \"#E5ECF6\", \"width\": 0.5}}, \"type\": \"barpolar\"}], \"carpet\": [{\"aaxis\": {\"endlinecolor\": \"#2a3f5f\", \"gridcolor\": \"white\", \"linecolor\": \"white\", \"minorgridcolor\": \"white\", \"startlinecolor\": \"#2a3f5f\"}, \"baxis\": {\"endlinecolor\": \"#2a3f5f\", \"gridcolor\": \"white\", \"linecolor\": \"white\", \"minorgridcolor\": \"white\", \"startlinecolor\": \"#2a3f5f\"}, \"type\": \"carpet\"}], \"choropleth\": [{\"colorbar\": {\"outlinewidth\": 0, \"ticks\": \"\"}, \"type\": \"choropleth\"}], \"contour\": [{\"colorbar\": {\"outlinewidth\": 0, \"ticks\": \"\"}, \"colorscale\": [[0.0, \"#0d0887\"], [0.1111111111111111, \"#46039f\"], [0.2222222222222222, \"#7201a8\"], [0.3333333333333333, \"#9c179e\"], [0.4444444444444444, \"#bd3786\"], [0.5555555555555556, \"#d8576b\"], [0.6666666666666666, \"#ed7953\"], [0.7777777777777778, \"#fb9f3a\"], [0.8888888888888888, \"#fdca26\"], [1.0, \"#f0f921\"]], \"type\": \"contour\"}], \"contourcarpet\": [{\"colorbar\": {\"outlinewidth\": 0, \"ticks\": \"\"}, \"type\": \"contourcarpet\"}], \"heatmap\": [{\"colorbar\": {\"outlinewidth\": 0, \"ticks\": \"\"}, \"colorscale\": [[0.0, \"#0d0887\"], [0.1111111111111111, \"#46039f\"], [0.2222222222222222, \"#7201a8\"], [0.3333333333333333, \"#9c179e\"], [0.4444444444444444, \"#bd3786\"], [0.5555555555555556, \"#d8576b\"], [0.6666666666666666, \"#ed7953\"], [0.7777777777777778, \"#fb9f3a\"], [0.8888888888888888, \"#fdca26\"], [1.0, \"#f0f921\"]], \"type\": \"heatmap\"}], \"heatmapgl\": [{\"colorbar\": {\"outlinewidth\": 0, \"ticks\": \"\"}, \"colorscale\": [[0.0, \"#0d0887\"], [0.1111111111111111, \"#46039f\"], [0.2222222222222222, \"#7201a8\"], [0.3333333333333333, \"#9c179e\"], [0.4444444444444444, \"#bd3786\"], [0.5555555555555556, \"#d8576b\"], [0.6666666666666666, \"#ed7953\"], [0.7777777777777778, \"#fb9f3a\"], [0.8888888888888888, \"#fdca26\"], [1.0, \"#f0f921\"]], \"type\": \"heatmapgl\"}], \"histogram\": [{\"marker\": {\"colorbar\": {\"outlinewidth\": 0, \"ticks\": \"\"}}, \"type\": \"histogram\"}], \"histogram2d\": [{\"colorbar\": {\"outlinewidth\": 0, \"ticks\": \"\"}, \"colorscale\": [[0.0, \"#0d0887\"], [0.1111111111111111, \"#46039f\"], [0.2222222222222222, \"#7201a8\"], [0.3333333333333333, \"#9c179e\"], [0.4444444444444444, \"#bd3786\"], [0.5555555555555556, \"#d8576b\"], [0.6666666666666666, \"#ed7953\"], [0.7777777777777778, \"#fb9f3a\"], [0.8888888888888888, \"#fdca26\"], [1.0, \"#f0f921\"]], \"type\": \"histogram2d\"}], \"histogram2dcontour\": [{\"colorbar\": {\"outlinewidth\": 0, \"ticks\": \"\"}, \"colorscale\": [[0.0, \"#0d0887\"], [0.1111111111111111, \"#46039f\"], [0.2222222222222222, \"#7201a8\"], [0.3333333333333333, \"#9c179e\"], [0.4444444444444444, \"#bd3786\"], [0.5555555555555556, \"#d8576b\"], [0.6666666666666666, \"#ed7953\"], [0.7777777777777778, \"#fb9f3a\"], [0.8888888888888888, \"#fdca26\"], [1.0, \"#f0f921\"]], \"type\": \"histogram2dcontour\"}], \"mesh3d\": [{\"colorbar\": {\"outlinewidth\": 0, \"ticks\": \"\"}, \"type\": \"mesh3d\"}], \"parcoords\": [{\"line\": {\"colorbar\": {\"outlinewidth\": 0, \"ticks\": \"\"}}, \"type\": \"parcoords\"}], \"pie\": [{\"automargin\": true, \"type\": \"pie\"}], \"scatter\": [{\"marker\": {\"colorbar\": {\"outlinewidth\": 0, \"ticks\": \"\"}}, \"type\": \"scatter\"}], \"scatter3d\": [{\"line\": {\"colorbar\": {\"outlinewidth\": 0, \"ticks\": \"\"}}, \"marker\": {\"colorbar\": {\"outlinewidth\": 0, \"ticks\": \"\"}}, \"type\": \"scatter3d\"}], \"scattercarpet\": [{\"marker\": {\"colorbar\": {\"outlinewidth\": 0, \"ticks\": \"\"}}, \"type\": \"scattercarpet\"}], \"scattergeo\": [{\"marker\": {\"colorbar\": {\"outlinewidth\": 0, \"ticks\": \"\"}}, \"type\": \"scattergeo\"}], \"scattergl\": [{\"marker\": {\"colorbar\": {\"outlinewidth\": 0, \"ticks\": \"\"}}, \"type\": \"scattergl\"}], \"scattermapbox\": [{\"marker\": {\"colorbar\": {\"outlinewidth\": 0, \"ticks\": \"\"}}, \"type\": \"scattermapbox\"}], \"scatterpolar\": [{\"marker\": {\"colorbar\": {\"outlinewidth\": 0, \"ticks\": \"\"}}, \"type\": \"scatterpolar\"}], \"scatterpolargl\": [{\"marker\": {\"colorbar\": {\"outlinewidth\": 0, \"ticks\": \"\"}}, \"type\": \"scatterpolargl\"}], \"scatterternary\": [{\"marker\": {\"colorbar\": {\"outlinewidth\": 0, \"ticks\": \"\"}}, \"type\": \"scatterternary\"}], \"surface\": [{\"colorbar\": {\"outlinewidth\": 0, \"ticks\": \"\"}, \"colorscale\": [[0.0, \"#0d0887\"], [0.1111111111111111, \"#46039f\"], [0.2222222222222222, \"#7201a8\"], [0.3333333333333333, \"#9c179e\"], [0.4444444444444444, \"#bd3786\"], [0.5555555555555556, \"#d8576b\"], [0.6666666666666666, \"#ed7953\"], [0.7777777777777778, \"#fb9f3a\"], [0.8888888888888888, \"#fdca26\"], [1.0, \"#f0f921\"]], \"type\": \"surface\"}], \"table\": [{\"cells\": {\"fill\": {\"color\": \"#EBF0F8\"}, \"line\": {\"color\": \"white\"}}, \"header\": {\"fill\": {\"color\": \"#C8D4E3\"}, \"line\": {\"color\": \"white\"}}, \"type\": \"table\"}]}, \"layout\": {\"annotationdefaults\": {\"arrowcolor\": \"#2a3f5f\", \"arrowhead\": 0, \"arrowwidth\": 1}, \"autotypenumbers\": \"strict\", \"coloraxis\": {\"colorbar\": {\"outlinewidth\": 0, \"ticks\": \"\"}}, \"colorscale\": {\"diverging\": [[0, \"#8e0152\"], [0.1, \"#c51b7d\"], [0.2, \"#de77ae\"], [0.3, \"#f1b6da\"], [0.4, \"#fde0ef\"], [0.5, \"#f7f7f7\"], [0.6, \"#e6f5d0\"], [0.7, \"#b8e186\"], [0.8, \"#7fbc41\"], [0.9, \"#4d9221\"], [1, \"#276419\"]], \"sequential\": [[0.0, \"#0d0887\"], [0.1111111111111111, \"#46039f\"], [0.2222222222222222, \"#7201a8\"], [0.3333333333333333, \"#9c179e\"], [0.4444444444444444, \"#bd3786\"], [0.5555555555555556, \"#d8576b\"], [0.6666666666666666, \"#ed7953\"], [0.7777777777777778, \"#fb9f3a\"], [0.8888888888888888, \"#fdca26\"], [1.0, \"#f0f921\"]], \"sequentialminus\": [[0.0, \"#0d0887\"], [0.1111111111111111, \"#46039f\"], [0.2222222222222222, \"#7201a8\"], [0.3333333333333333, \"#9c179e\"], [0.4444444444444444, \"#bd3786\"], [0.5555555555555556, \"#d8576b\"], [0.6666666666666666, \"#ed7953\"], [0.7777777777777778, \"#fb9f3a\"], [0.8888888888888888, \"#fdca26\"], [1.0, \"#f0f921\"]]}, \"colorway\": [\"#636efa\", \"#EF553B\", \"#00cc96\", \"#ab63fa\", \"#FFA15A\", \"#19d3f3\", \"#FF6692\", \"#B6E880\", \"#FF97FF\", \"#FECB52\"], \"font\": {\"color\": \"#2a3f5f\"}, \"geo\": {\"bgcolor\": \"white\", \"lakecolor\": \"white\", \"landcolor\": \"#E5ECF6\", \"showlakes\": true, \"showland\": true, \"subunitcolor\": \"white\"}, \"hoverlabel\": {\"align\": \"left\"}, \"hovermode\": \"closest\", \"mapbox\": {\"style\": \"light\"}, \"paper_bgcolor\": \"white\", \"plot_bgcolor\": \"#E5ECF6\", \"polar\": {\"angularaxis\": {\"gridcolor\": \"white\", \"linecolor\": \"white\", \"ticks\": \"\"}, \"bgcolor\": \"#E5ECF6\", \"radialaxis\": {\"gridcolor\": \"white\", \"linecolor\": \"white\", \"ticks\": \"\"}}, \"scene\": {\"xaxis\": {\"backgroundcolor\": \"#E5ECF6\", \"gridcolor\": \"white\", \"gridwidth\": 2, \"linecolor\": \"white\", \"showbackground\": true, \"ticks\": \"\", \"zerolinecolor\": \"white\"}, \"yaxis\": {\"backgroundcolor\": \"#E5ECF6\", \"gridcolor\": \"white\", \"gridwidth\": 2, \"linecolor\": \"white\", \"showbackground\": true, \"ticks\": \"\", \"zerolinecolor\": \"white\"}, \"zaxis\": {\"backgroundcolor\": \"#E5ECF6\", \"gridcolor\": \"white\", \"gridwidth\": 2, \"linecolor\": \"white\", \"showbackground\": true, \"ticks\": \"\", \"zerolinecolor\": \"white\"}}, \"shapedefaults\": {\"line\": {\"color\": \"#2a3f5f\"}}, \"ternary\": {\"aaxis\": {\"gridcolor\": \"white\", \"linecolor\": \"white\", \"ticks\": \"\"}, \"baxis\": {\"gridcolor\": \"white\", \"linecolor\": \"white\", \"ticks\": \"\"}, \"bgcolor\": \"#E5ECF6\", \"caxis\": {\"gridcolor\": \"white\", \"linecolor\": \"white\", \"ticks\": \"\"}}, \"title\": {\"x\": 0.05}, \"xaxis\": {\"automargin\": true, \"gridcolor\": \"white\", \"linecolor\": \"white\", \"ticks\": \"\", \"title\": {\"standoff\": 15}, \"zerolinecolor\": \"white\", \"zerolinewidth\": 2}, \"yaxis\": {\"automargin\": true, \"gridcolor\": \"white\", \"linecolor\": \"white\", \"ticks\": \"\", \"title\": {\"standoff\": 15}, \"zerolinecolor\": \"white\", \"zerolinewidth\": 2}}}, \"title\": {\"text\": \"State costs of Trump`s Campaign per registered voter\"}},                        {\"responsive\": true}                    ).then(function(){\n",
       "                            \n",
       "var gd = document.getElementById('16df7f98-d3b8-4e8c-a94e-ccb4d95b7359');\n",
       "var x = new MutationObserver(function (mutations, observer) {{\n",
       "        var display = window.getComputedStyle(gd).display;\n",
       "        if (!display || display === 'none') {{\n",
       "            console.log([gd, 'removed!']);\n",
       "            Plotly.purge(gd);\n",
       "            observer.disconnect();\n",
       "        }}\n",
       "}});\n",
       "\n",
       "// Listen for the removal of the full notebook cells\n",
       "var notebookContainer = gd.closest('#notebook-container');\n",
       "if (notebookContainer) {{\n",
       "    x.observe(notebookContainer, {childList: true});\n",
       "}}\n",
       "\n",
       "// Listen for the clearing of the current output cell\n",
       "var outputEl = gd.closest('.output');\n",
       "if (outputEl) {{\n",
       "    x.observe(outputEl, {childList: true});\n",
       "}}\n",
       "\n",
       "                        })                };                });            </script>        </div>"
      ]
     },
     "metadata": {},
     "output_type": "display_data"
    }
   ],
   "source": [
    "fig = px.choropleth(sortedExpensesVoterTrump,  # Input Pandas DataFrame\n",
    "                    locations=sortedExpensesVoterTrump[\"STATE\"],  # DataFrame column with locations\n",
    "                    color=sortedExpensesVoterTrump[\"COST_PER_VOTER\"],  # DataFrame column with color values\n",
    "                    hover_name=sortedExpensesVoterTrump[\"TRANSACTION_AMT\"].astype(int), # DataFrame column hover info\n",
    "                    locationmode = 'USA-states') # Set to plot as US States\n",
    "fig.update_layout(\n",
    "    title_text = 'State costs of Trump`s Campaign per registered voter', # Create a Title\n",
    "    geo_scope='usa',  # Plot only the USA instead of globe\n",
    ")\n",
    "fig.show()"
   ]
  },
  {
   "cell_type": "code",
   "execution_count": 99,
   "metadata": {},
   "outputs": [
    {
     "data": {
      "application/vnd.plotly.v1+json": {
       "config": {
        "plotlyServerURL": "https://plot.ly"
       },
       "data": [
        {
         "coloraxis": "coloraxis",
         "geo": "geo",
         "hovertemplate": "<b>%{hovertext}</b><br><br>STATE=%{location}<br>COST_PER_VOTER=%{z}<extra></extra>",
         "hovertext": [
          16332148,
          41559000,
          57319970,
          10095546,
          2437434,
          7477940,
          12297399,
          3296773,
          1477403,
          1518485,
          13029543,
          1809696,
          4589262,
          356893,
          1390302,
          613598,
          4491142,
          1827242,
          1523423,
          2110224,
          935519,
          871639,
          526822,
          438459,
          198821,
          46790,
          480976,
          74031,
          262629,
          41832,
          26981,
          401566,
          125047,
          56934,
          333250,
          22105,
          156956,
          79195,
          38806,
          92129,
          54737,
          114420,
          27045,
          14133,
          8229,
          20339,
          46832,
          5316
         ],
         "locationmode": "USA-states",
         "locations": [
          "AR",
          "NJ",
          "NY",
          "CT",
          "RI",
          "WA",
          "FL",
          "CO",
          "NV",
          "IA",
          "CA",
          "AL",
          "IL",
          "NH",
          "MD",
          "UT",
          "TX",
          "GA",
          "VA",
          "PA",
          "MO",
          "MA",
          "SC",
          "MN",
          "OK",
          "DE",
          "NC",
          "ME",
          "TN",
          "HI",
          "AK",
          "MI",
          "OR",
          "NE",
          "OH",
          "SD",
          "IN",
          "MS",
          "NM",
          "KY",
          "KS",
          "AZ",
          "ID",
          "MT",
          "VT",
          "WV",
          "LA",
          "ND"
         ],
         "name": "",
         "type": "choropleth",
         "z": [
          11217,
          9978,
          6269,
          5726,
          4530,
          1914,
          1280,
          1139,
          1077,
          916,
          809,
          716,
          688,
          467,
          446,
          438,
          383,
          373,
          346,
          305,
          280,
          238,
          204,
          143,
          106,
          96,
          92,
          89,
          80,
          78,
          75,
          73,
          58,
          56,
          54,
          50,
          47,
          45,
          42,
          40,
          38,
          36,
          34,
          24,
          23,
          22,
          19,
          12
         ]
        }
       ],
       "layout": {
        "coloraxis": {
         "colorbar": {
          "title": {
           "text": "COST_PER_VOTER"
          }
         },
         "colorscale": [
          [
           0,
           "#0d0887"
          ],
          [
           0.1111111111111111,
           "#46039f"
          ],
          [
           0.2222222222222222,
           "#7201a8"
          ],
          [
           0.3333333333333333,
           "#9c179e"
          ],
          [
           0.4444444444444444,
           "#bd3786"
          ],
          [
           0.5555555555555556,
           "#d8576b"
          ],
          [
           0.6666666666666666,
           "#ed7953"
          ],
          [
           0.7777777777777778,
           "#fb9f3a"
          ],
          [
           0.8888888888888888,
           "#fdca26"
          ],
          [
           1,
           "#f0f921"
          ]
         ]
        },
        "geo": {
         "center": {},
         "domain": {
          "x": [
           0,
           1
          ],
          "y": [
           0,
           1
          ]
         },
         "scope": "usa"
        },
        "legend": {
         "tracegroupgap": 0
        },
        "margin": {
         "t": 60
        },
        "template": {
         "data": {
          "bar": [
           {
            "error_x": {
             "color": "#2a3f5f"
            },
            "error_y": {
             "color": "#2a3f5f"
            },
            "marker": {
             "line": {
              "color": "#E5ECF6",
              "width": 0.5
             }
            },
            "type": "bar"
           }
          ],
          "barpolar": [
           {
            "marker": {
             "line": {
              "color": "#E5ECF6",
              "width": 0.5
             }
            },
            "type": "barpolar"
           }
          ],
          "carpet": [
           {
            "aaxis": {
             "endlinecolor": "#2a3f5f",
             "gridcolor": "white",
             "linecolor": "white",
             "minorgridcolor": "white",
             "startlinecolor": "#2a3f5f"
            },
            "baxis": {
             "endlinecolor": "#2a3f5f",
             "gridcolor": "white",
             "linecolor": "white",
             "minorgridcolor": "white",
             "startlinecolor": "#2a3f5f"
            },
            "type": "carpet"
           }
          ],
          "choropleth": [
           {
            "colorbar": {
             "outlinewidth": 0,
             "ticks": ""
            },
            "type": "choropleth"
           }
          ],
          "contour": [
           {
            "colorbar": {
             "outlinewidth": 0,
             "ticks": ""
            },
            "colorscale": [
             [
              0,
              "#0d0887"
             ],
             [
              0.1111111111111111,
              "#46039f"
             ],
             [
              0.2222222222222222,
              "#7201a8"
             ],
             [
              0.3333333333333333,
              "#9c179e"
             ],
             [
              0.4444444444444444,
              "#bd3786"
             ],
             [
              0.5555555555555556,
              "#d8576b"
             ],
             [
              0.6666666666666666,
              "#ed7953"
             ],
             [
              0.7777777777777778,
              "#fb9f3a"
             ],
             [
              0.8888888888888888,
              "#fdca26"
             ],
             [
              1,
              "#f0f921"
             ]
            ],
            "type": "contour"
           }
          ],
          "contourcarpet": [
           {
            "colorbar": {
             "outlinewidth": 0,
             "ticks": ""
            },
            "type": "contourcarpet"
           }
          ],
          "heatmap": [
           {
            "colorbar": {
             "outlinewidth": 0,
             "ticks": ""
            },
            "colorscale": [
             [
              0,
              "#0d0887"
             ],
             [
              0.1111111111111111,
              "#46039f"
             ],
             [
              0.2222222222222222,
              "#7201a8"
             ],
             [
              0.3333333333333333,
              "#9c179e"
             ],
             [
              0.4444444444444444,
              "#bd3786"
             ],
             [
              0.5555555555555556,
              "#d8576b"
             ],
             [
              0.6666666666666666,
              "#ed7953"
             ],
             [
              0.7777777777777778,
              "#fb9f3a"
             ],
             [
              0.8888888888888888,
              "#fdca26"
             ],
             [
              1,
              "#f0f921"
             ]
            ],
            "type": "heatmap"
           }
          ],
          "heatmapgl": [
           {
            "colorbar": {
             "outlinewidth": 0,
             "ticks": ""
            },
            "colorscale": [
             [
              0,
              "#0d0887"
             ],
             [
              0.1111111111111111,
              "#46039f"
             ],
             [
              0.2222222222222222,
              "#7201a8"
             ],
             [
              0.3333333333333333,
              "#9c179e"
             ],
             [
              0.4444444444444444,
              "#bd3786"
             ],
             [
              0.5555555555555556,
              "#d8576b"
             ],
             [
              0.6666666666666666,
              "#ed7953"
             ],
             [
              0.7777777777777778,
              "#fb9f3a"
             ],
             [
              0.8888888888888888,
              "#fdca26"
             ],
             [
              1,
              "#f0f921"
             ]
            ],
            "type": "heatmapgl"
           }
          ],
          "histogram": [
           {
            "marker": {
             "colorbar": {
              "outlinewidth": 0,
              "ticks": ""
             }
            },
            "type": "histogram"
           }
          ],
          "histogram2d": [
           {
            "colorbar": {
             "outlinewidth": 0,
             "ticks": ""
            },
            "colorscale": [
             [
              0,
              "#0d0887"
             ],
             [
              0.1111111111111111,
              "#46039f"
             ],
             [
              0.2222222222222222,
              "#7201a8"
             ],
             [
              0.3333333333333333,
              "#9c179e"
             ],
             [
              0.4444444444444444,
              "#bd3786"
             ],
             [
              0.5555555555555556,
              "#d8576b"
             ],
             [
              0.6666666666666666,
              "#ed7953"
             ],
             [
              0.7777777777777778,
              "#fb9f3a"
             ],
             [
              0.8888888888888888,
              "#fdca26"
             ],
             [
              1,
              "#f0f921"
             ]
            ],
            "type": "histogram2d"
           }
          ],
          "histogram2dcontour": [
           {
            "colorbar": {
             "outlinewidth": 0,
             "ticks": ""
            },
            "colorscale": [
             [
              0,
              "#0d0887"
             ],
             [
              0.1111111111111111,
              "#46039f"
             ],
             [
              0.2222222222222222,
              "#7201a8"
             ],
             [
              0.3333333333333333,
              "#9c179e"
             ],
             [
              0.4444444444444444,
              "#bd3786"
             ],
             [
              0.5555555555555556,
              "#d8576b"
             ],
             [
              0.6666666666666666,
              "#ed7953"
             ],
             [
              0.7777777777777778,
              "#fb9f3a"
             ],
             [
              0.8888888888888888,
              "#fdca26"
             ],
             [
              1,
              "#f0f921"
             ]
            ],
            "type": "histogram2dcontour"
           }
          ],
          "mesh3d": [
           {
            "colorbar": {
             "outlinewidth": 0,
             "ticks": ""
            },
            "type": "mesh3d"
           }
          ],
          "parcoords": [
           {
            "line": {
             "colorbar": {
              "outlinewidth": 0,
              "ticks": ""
             }
            },
            "type": "parcoords"
           }
          ],
          "pie": [
           {
            "automargin": true,
            "type": "pie"
           }
          ],
          "scatter": [
           {
            "marker": {
             "colorbar": {
              "outlinewidth": 0,
              "ticks": ""
             }
            },
            "type": "scatter"
           }
          ],
          "scatter3d": [
           {
            "line": {
             "colorbar": {
              "outlinewidth": 0,
              "ticks": ""
             }
            },
            "marker": {
             "colorbar": {
              "outlinewidth": 0,
              "ticks": ""
             }
            },
            "type": "scatter3d"
           }
          ],
          "scattercarpet": [
           {
            "marker": {
             "colorbar": {
              "outlinewidth": 0,
              "ticks": ""
             }
            },
            "type": "scattercarpet"
           }
          ],
          "scattergeo": [
           {
            "marker": {
             "colorbar": {
              "outlinewidth": 0,
              "ticks": ""
             }
            },
            "type": "scattergeo"
           }
          ],
          "scattergl": [
           {
            "marker": {
             "colorbar": {
              "outlinewidth": 0,
              "ticks": ""
             }
            },
            "type": "scattergl"
           }
          ],
          "scattermapbox": [
           {
            "marker": {
             "colorbar": {
              "outlinewidth": 0,
              "ticks": ""
             }
            },
            "type": "scattermapbox"
           }
          ],
          "scatterpolar": [
           {
            "marker": {
             "colorbar": {
              "outlinewidth": 0,
              "ticks": ""
             }
            },
            "type": "scatterpolar"
           }
          ],
          "scatterpolargl": [
           {
            "marker": {
             "colorbar": {
              "outlinewidth": 0,
              "ticks": ""
             }
            },
            "type": "scatterpolargl"
           }
          ],
          "scatterternary": [
           {
            "marker": {
             "colorbar": {
              "outlinewidth": 0,
              "ticks": ""
             }
            },
            "type": "scatterternary"
           }
          ],
          "surface": [
           {
            "colorbar": {
             "outlinewidth": 0,
             "ticks": ""
            },
            "colorscale": [
             [
              0,
              "#0d0887"
             ],
             [
              0.1111111111111111,
              "#46039f"
             ],
             [
              0.2222222222222222,
              "#7201a8"
             ],
             [
              0.3333333333333333,
              "#9c179e"
             ],
             [
              0.4444444444444444,
              "#bd3786"
             ],
             [
              0.5555555555555556,
              "#d8576b"
             ],
             [
              0.6666666666666666,
              "#ed7953"
             ],
             [
              0.7777777777777778,
              "#fb9f3a"
             ],
             [
              0.8888888888888888,
              "#fdca26"
             ],
             [
              1,
              "#f0f921"
             ]
            ],
            "type": "surface"
           }
          ],
          "table": [
           {
            "cells": {
             "fill": {
              "color": "#EBF0F8"
             },
             "line": {
              "color": "white"
             }
            },
            "header": {
             "fill": {
              "color": "#C8D4E3"
             },
             "line": {
              "color": "white"
             }
            },
            "type": "table"
           }
          ]
         },
         "layout": {
          "annotationdefaults": {
           "arrowcolor": "#2a3f5f",
           "arrowhead": 0,
           "arrowwidth": 1
          },
          "autotypenumbers": "strict",
          "coloraxis": {
           "colorbar": {
            "outlinewidth": 0,
            "ticks": ""
           }
          },
          "colorscale": {
           "diverging": [
            [
             0,
             "#8e0152"
            ],
            [
             0.1,
             "#c51b7d"
            ],
            [
             0.2,
             "#de77ae"
            ],
            [
             0.3,
             "#f1b6da"
            ],
            [
             0.4,
             "#fde0ef"
            ],
            [
             0.5,
             "#f7f7f7"
            ],
            [
             0.6,
             "#e6f5d0"
            ],
            [
             0.7,
             "#b8e186"
            ],
            [
             0.8,
             "#7fbc41"
            ],
            [
             0.9,
             "#4d9221"
            ],
            [
             1,
             "#276419"
            ]
           ],
           "sequential": [
            [
             0,
             "#0d0887"
            ],
            [
             0.1111111111111111,
             "#46039f"
            ],
            [
             0.2222222222222222,
             "#7201a8"
            ],
            [
             0.3333333333333333,
             "#9c179e"
            ],
            [
             0.4444444444444444,
             "#bd3786"
            ],
            [
             0.5555555555555556,
             "#d8576b"
            ],
            [
             0.6666666666666666,
             "#ed7953"
            ],
            [
             0.7777777777777778,
             "#fb9f3a"
            ],
            [
             0.8888888888888888,
             "#fdca26"
            ],
            [
             1,
             "#f0f921"
            ]
           ],
           "sequentialminus": [
            [
             0,
             "#0d0887"
            ],
            [
             0.1111111111111111,
             "#46039f"
            ],
            [
             0.2222222222222222,
             "#7201a8"
            ],
            [
             0.3333333333333333,
             "#9c179e"
            ],
            [
             0.4444444444444444,
             "#bd3786"
            ],
            [
             0.5555555555555556,
             "#d8576b"
            ],
            [
             0.6666666666666666,
             "#ed7953"
            ],
            [
             0.7777777777777778,
             "#fb9f3a"
            ],
            [
             0.8888888888888888,
             "#fdca26"
            ],
            [
             1,
             "#f0f921"
            ]
           ]
          },
          "colorway": [
           "#636efa",
           "#EF553B",
           "#00cc96",
           "#ab63fa",
           "#FFA15A",
           "#19d3f3",
           "#FF6692",
           "#B6E880",
           "#FF97FF",
           "#FECB52"
          ],
          "font": {
           "color": "#2a3f5f"
          },
          "geo": {
           "bgcolor": "white",
           "lakecolor": "white",
           "landcolor": "#E5ECF6",
           "showlakes": true,
           "showland": true,
           "subunitcolor": "white"
          },
          "hoverlabel": {
           "align": "left"
          },
          "hovermode": "closest",
          "mapbox": {
           "style": "light"
          },
          "paper_bgcolor": "white",
          "plot_bgcolor": "#E5ECF6",
          "polar": {
           "angularaxis": {
            "gridcolor": "white",
            "linecolor": "white",
            "ticks": ""
           },
           "bgcolor": "#E5ECF6",
           "radialaxis": {
            "gridcolor": "white",
            "linecolor": "white",
            "ticks": ""
           }
          },
          "scene": {
           "xaxis": {
            "backgroundcolor": "#E5ECF6",
            "gridcolor": "white",
            "gridwidth": 2,
            "linecolor": "white",
            "showbackground": true,
            "ticks": "",
            "zerolinecolor": "white"
           },
           "yaxis": {
            "backgroundcolor": "#E5ECF6",
            "gridcolor": "white",
            "gridwidth": 2,
            "linecolor": "white",
            "showbackground": true,
            "ticks": "",
            "zerolinecolor": "white"
           },
           "zaxis": {
            "backgroundcolor": "#E5ECF6",
            "gridcolor": "white",
            "gridwidth": 2,
            "linecolor": "white",
            "showbackground": true,
            "ticks": "",
            "zerolinecolor": "white"
           }
          },
          "shapedefaults": {
           "line": {
            "color": "#2a3f5f"
           }
          },
          "ternary": {
           "aaxis": {
            "gridcolor": "white",
            "linecolor": "white",
            "ticks": ""
           },
           "baxis": {
            "gridcolor": "white",
            "linecolor": "white",
            "ticks": ""
           },
           "bgcolor": "#E5ECF6",
           "caxis": {
            "gridcolor": "white",
            "linecolor": "white",
            "ticks": ""
           }
          },
          "title": {
           "x": 0.05
          },
          "xaxis": {
           "automargin": true,
           "gridcolor": "white",
           "linecolor": "white",
           "ticks": "",
           "title": {
            "standoff": 15
           },
           "zerolinecolor": "white",
           "zerolinewidth": 2
          },
          "yaxis": {
           "automargin": true,
           "gridcolor": "white",
           "linecolor": "white",
           "ticks": "",
           "title": {
            "standoff": 15
           },
           "zerolinecolor": "white",
           "zerolinewidth": 2
          }
         }
        },
        "title": {
         "text": "State costs of Hillary`s Campaign per registered voter"
        }
       }
      },
      "text/html": [
       "<div>                            <div id=\"ad080df9-51b3-43da-b08b-0da8f6e391d0\" class=\"plotly-graph-div\" style=\"height:525px; width:100%;\"></div>            <script type=\"text/javascript\">                require([\"plotly\"], function(Plotly) {                    window.PLOTLYENV=window.PLOTLYENV || {};                                    if (document.getElementById(\"ad080df9-51b3-43da-b08b-0da8f6e391d0\")) {                    Plotly.newPlot(                        \"ad080df9-51b3-43da-b08b-0da8f6e391d0\",                        [{\"coloraxis\": \"coloraxis\", \"geo\": \"geo\", \"hovertemplate\": \"<b>%{hovertext}</b><br><br>STATE=%{location}<br>COST_PER_VOTER=%{z}<extra></extra>\", \"hovertext\": [16332148.0, 41559000.0, 57319970.0, 10095546.0, 2437434.0, 7477940.0, 12297399.0, 3296773.0, 1477403.0, 1518485.0, 13029543.0, 1809696.0, 4589262.0, 356893.0, 1390302.0, 613598.0, 4491142.0, 1827242.0, 1523423.0, 2110224.0, 935519.0, 871639.0, 526822.0, 438459.0, 198821.0, 46790.0, 480976.0, 74031.0, 262629.0, 41832.0, 26981.0, 401566.0, 125047.0, 56934.0, 333250.0, 22105.0, 156956.0, 79195.0, 38806.0, 92129.0, 54737.0, 114420.0, 27045.0, 14133.0, 8229.0, 20339.0, 46832.0, 5316.0], \"locationmode\": \"USA-states\", \"locations\": [\"AR\", \"NJ\", \"NY\", \"CT\", \"RI\", \"WA\", \"FL\", \"CO\", \"NV\", \"IA\", \"CA\", \"AL\", \"IL\", \"NH\", \"MD\", \"UT\", \"TX\", \"GA\", \"VA\", \"PA\", \"MO\", \"MA\", \"SC\", \"MN\", \"OK\", \"DE\", \"NC\", \"ME\", \"TN\", \"HI\", \"AK\", \"MI\", \"OR\", \"NE\", \"OH\", \"SD\", \"IN\", \"MS\", \"NM\", \"KY\", \"KS\", \"AZ\", \"ID\", \"MT\", \"VT\", \"WV\", \"LA\", \"ND\"], \"name\": \"\", \"type\": \"choropleth\", \"z\": [11217, 9978, 6269, 5726, 4530, 1914, 1280, 1139, 1077, 916, 809, 716, 688, 467, 446, 438, 383, 373, 346, 305, 280, 238, 204, 143, 106, 96, 92, 89, 80, 78, 75, 73, 58, 56, 54, 50, 47, 45, 42, 40, 38, 36, 34, 24, 23, 22, 19, 12]}],                        {\"coloraxis\": {\"colorbar\": {\"title\": {\"text\": \"COST_PER_VOTER\"}}, \"colorscale\": [[0.0, \"#0d0887\"], [0.1111111111111111, \"#46039f\"], [0.2222222222222222, \"#7201a8\"], [0.3333333333333333, \"#9c179e\"], [0.4444444444444444, \"#bd3786\"], [0.5555555555555556, \"#d8576b\"], [0.6666666666666666, \"#ed7953\"], [0.7777777777777778, \"#fb9f3a\"], [0.8888888888888888, \"#fdca26\"], [1.0, \"#f0f921\"]]}, \"geo\": {\"center\": {}, \"domain\": {\"x\": [0.0, 1.0], \"y\": [0.0, 1.0]}, \"scope\": \"usa\"}, \"legend\": {\"tracegroupgap\": 0}, \"margin\": {\"t\": 60}, \"template\": {\"data\": {\"bar\": [{\"error_x\": {\"color\": \"#2a3f5f\"}, \"error_y\": {\"color\": \"#2a3f5f\"}, \"marker\": {\"line\": {\"color\": \"#E5ECF6\", \"width\": 0.5}}, \"type\": \"bar\"}], \"barpolar\": [{\"marker\": {\"line\": {\"color\": \"#E5ECF6\", \"width\": 0.5}}, \"type\": \"barpolar\"}], \"carpet\": [{\"aaxis\": {\"endlinecolor\": \"#2a3f5f\", \"gridcolor\": \"white\", \"linecolor\": \"white\", \"minorgridcolor\": \"white\", \"startlinecolor\": \"#2a3f5f\"}, \"baxis\": {\"endlinecolor\": \"#2a3f5f\", \"gridcolor\": \"white\", \"linecolor\": \"white\", \"minorgridcolor\": \"white\", \"startlinecolor\": \"#2a3f5f\"}, \"type\": \"carpet\"}], \"choropleth\": [{\"colorbar\": {\"outlinewidth\": 0, \"ticks\": \"\"}, \"type\": \"choropleth\"}], \"contour\": [{\"colorbar\": {\"outlinewidth\": 0, \"ticks\": \"\"}, \"colorscale\": [[0.0, \"#0d0887\"], [0.1111111111111111, \"#46039f\"], [0.2222222222222222, \"#7201a8\"], [0.3333333333333333, \"#9c179e\"], [0.4444444444444444, \"#bd3786\"], [0.5555555555555556, \"#d8576b\"], [0.6666666666666666, \"#ed7953\"], [0.7777777777777778, \"#fb9f3a\"], [0.8888888888888888, \"#fdca26\"], [1.0, \"#f0f921\"]], \"type\": \"contour\"}], \"contourcarpet\": [{\"colorbar\": {\"outlinewidth\": 0, \"ticks\": \"\"}, \"type\": \"contourcarpet\"}], \"heatmap\": [{\"colorbar\": {\"outlinewidth\": 0, \"ticks\": \"\"}, \"colorscale\": [[0.0, \"#0d0887\"], [0.1111111111111111, \"#46039f\"], [0.2222222222222222, \"#7201a8\"], [0.3333333333333333, \"#9c179e\"], [0.4444444444444444, \"#bd3786\"], [0.5555555555555556, \"#d8576b\"], [0.6666666666666666, \"#ed7953\"], [0.7777777777777778, \"#fb9f3a\"], [0.8888888888888888, \"#fdca26\"], [1.0, \"#f0f921\"]], \"type\": \"heatmap\"}], \"heatmapgl\": [{\"colorbar\": {\"outlinewidth\": 0, \"ticks\": \"\"}, \"colorscale\": [[0.0, \"#0d0887\"], [0.1111111111111111, \"#46039f\"], [0.2222222222222222, \"#7201a8\"], [0.3333333333333333, \"#9c179e\"], [0.4444444444444444, \"#bd3786\"], [0.5555555555555556, \"#d8576b\"], [0.6666666666666666, \"#ed7953\"], [0.7777777777777778, \"#fb9f3a\"], [0.8888888888888888, \"#fdca26\"], [1.0, \"#f0f921\"]], \"type\": \"heatmapgl\"}], \"histogram\": [{\"marker\": {\"colorbar\": {\"outlinewidth\": 0, \"ticks\": \"\"}}, \"type\": \"histogram\"}], \"histogram2d\": [{\"colorbar\": {\"outlinewidth\": 0, \"ticks\": \"\"}, \"colorscale\": [[0.0, \"#0d0887\"], [0.1111111111111111, \"#46039f\"], [0.2222222222222222, \"#7201a8\"], [0.3333333333333333, \"#9c179e\"], [0.4444444444444444, \"#bd3786\"], [0.5555555555555556, \"#d8576b\"], [0.6666666666666666, \"#ed7953\"], [0.7777777777777778, \"#fb9f3a\"], [0.8888888888888888, \"#fdca26\"], [1.0, \"#f0f921\"]], \"type\": \"histogram2d\"}], \"histogram2dcontour\": [{\"colorbar\": {\"outlinewidth\": 0, \"ticks\": \"\"}, \"colorscale\": [[0.0, \"#0d0887\"], [0.1111111111111111, \"#46039f\"], [0.2222222222222222, \"#7201a8\"], [0.3333333333333333, \"#9c179e\"], [0.4444444444444444, \"#bd3786\"], [0.5555555555555556, \"#d8576b\"], [0.6666666666666666, \"#ed7953\"], [0.7777777777777778, \"#fb9f3a\"], [0.8888888888888888, \"#fdca26\"], [1.0, \"#f0f921\"]], \"type\": \"histogram2dcontour\"}], \"mesh3d\": [{\"colorbar\": {\"outlinewidth\": 0, \"ticks\": \"\"}, \"type\": \"mesh3d\"}], \"parcoords\": [{\"line\": {\"colorbar\": {\"outlinewidth\": 0, \"ticks\": \"\"}}, \"type\": \"parcoords\"}], \"pie\": [{\"automargin\": true, \"type\": \"pie\"}], \"scatter\": [{\"marker\": {\"colorbar\": {\"outlinewidth\": 0, \"ticks\": \"\"}}, \"type\": \"scatter\"}], \"scatter3d\": [{\"line\": {\"colorbar\": {\"outlinewidth\": 0, \"ticks\": \"\"}}, \"marker\": {\"colorbar\": {\"outlinewidth\": 0, \"ticks\": \"\"}}, \"type\": \"scatter3d\"}], \"scattercarpet\": [{\"marker\": {\"colorbar\": {\"outlinewidth\": 0, \"ticks\": \"\"}}, \"type\": \"scattercarpet\"}], \"scattergeo\": [{\"marker\": {\"colorbar\": {\"outlinewidth\": 0, \"ticks\": \"\"}}, \"type\": \"scattergeo\"}], \"scattergl\": [{\"marker\": {\"colorbar\": {\"outlinewidth\": 0, \"ticks\": \"\"}}, \"type\": \"scattergl\"}], \"scattermapbox\": [{\"marker\": {\"colorbar\": {\"outlinewidth\": 0, \"ticks\": \"\"}}, \"type\": \"scattermapbox\"}], \"scatterpolar\": [{\"marker\": {\"colorbar\": {\"outlinewidth\": 0, \"ticks\": \"\"}}, \"type\": \"scatterpolar\"}], \"scatterpolargl\": [{\"marker\": {\"colorbar\": {\"outlinewidth\": 0, \"ticks\": \"\"}}, \"type\": \"scatterpolargl\"}], \"scatterternary\": [{\"marker\": {\"colorbar\": {\"outlinewidth\": 0, \"ticks\": \"\"}}, \"type\": \"scatterternary\"}], \"surface\": [{\"colorbar\": {\"outlinewidth\": 0, \"ticks\": \"\"}, \"colorscale\": [[0.0, \"#0d0887\"], [0.1111111111111111, \"#46039f\"], [0.2222222222222222, \"#7201a8\"], [0.3333333333333333, \"#9c179e\"], [0.4444444444444444, \"#bd3786\"], [0.5555555555555556, \"#d8576b\"], [0.6666666666666666, \"#ed7953\"], [0.7777777777777778, \"#fb9f3a\"], [0.8888888888888888, \"#fdca26\"], [1.0, \"#f0f921\"]], \"type\": \"surface\"}], \"table\": [{\"cells\": {\"fill\": {\"color\": \"#EBF0F8\"}, \"line\": {\"color\": \"white\"}}, \"header\": {\"fill\": {\"color\": \"#C8D4E3\"}, \"line\": {\"color\": \"white\"}}, \"type\": \"table\"}]}, \"layout\": {\"annotationdefaults\": {\"arrowcolor\": \"#2a3f5f\", \"arrowhead\": 0, \"arrowwidth\": 1}, \"autotypenumbers\": \"strict\", \"coloraxis\": {\"colorbar\": {\"outlinewidth\": 0, \"ticks\": \"\"}}, \"colorscale\": {\"diverging\": [[0, \"#8e0152\"], [0.1, \"#c51b7d\"], [0.2, \"#de77ae\"], [0.3, \"#f1b6da\"], [0.4, \"#fde0ef\"], [0.5, \"#f7f7f7\"], [0.6, \"#e6f5d0\"], [0.7, \"#b8e186\"], [0.8, \"#7fbc41\"], [0.9, \"#4d9221\"], [1, \"#276419\"]], \"sequential\": [[0.0, \"#0d0887\"], [0.1111111111111111, \"#46039f\"], [0.2222222222222222, \"#7201a8\"], [0.3333333333333333, \"#9c179e\"], [0.4444444444444444, \"#bd3786\"], [0.5555555555555556, \"#d8576b\"], [0.6666666666666666, \"#ed7953\"], [0.7777777777777778, \"#fb9f3a\"], [0.8888888888888888, \"#fdca26\"], [1.0, \"#f0f921\"]], \"sequentialminus\": [[0.0, \"#0d0887\"], [0.1111111111111111, \"#46039f\"], [0.2222222222222222, \"#7201a8\"], [0.3333333333333333, \"#9c179e\"], [0.4444444444444444, \"#bd3786\"], [0.5555555555555556, \"#d8576b\"], [0.6666666666666666, \"#ed7953\"], [0.7777777777777778, \"#fb9f3a\"], [0.8888888888888888, \"#fdca26\"], [1.0, \"#f0f921\"]]}, \"colorway\": [\"#636efa\", \"#EF553B\", \"#00cc96\", \"#ab63fa\", \"#FFA15A\", \"#19d3f3\", \"#FF6692\", \"#B6E880\", \"#FF97FF\", \"#FECB52\"], \"font\": {\"color\": \"#2a3f5f\"}, \"geo\": {\"bgcolor\": \"white\", \"lakecolor\": \"white\", \"landcolor\": \"#E5ECF6\", \"showlakes\": true, \"showland\": true, \"subunitcolor\": \"white\"}, \"hoverlabel\": {\"align\": \"left\"}, \"hovermode\": \"closest\", \"mapbox\": {\"style\": \"light\"}, \"paper_bgcolor\": \"white\", \"plot_bgcolor\": \"#E5ECF6\", \"polar\": {\"angularaxis\": {\"gridcolor\": \"white\", \"linecolor\": \"white\", \"ticks\": \"\"}, \"bgcolor\": \"#E5ECF6\", \"radialaxis\": {\"gridcolor\": \"white\", \"linecolor\": \"white\", \"ticks\": \"\"}}, \"scene\": {\"xaxis\": {\"backgroundcolor\": \"#E5ECF6\", \"gridcolor\": \"white\", \"gridwidth\": 2, \"linecolor\": \"white\", \"showbackground\": true, \"ticks\": \"\", \"zerolinecolor\": \"white\"}, \"yaxis\": {\"backgroundcolor\": \"#E5ECF6\", \"gridcolor\": \"white\", \"gridwidth\": 2, \"linecolor\": \"white\", \"showbackground\": true, \"ticks\": \"\", \"zerolinecolor\": \"white\"}, \"zaxis\": {\"backgroundcolor\": \"#E5ECF6\", \"gridcolor\": \"white\", \"gridwidth\": 2, \"linecolor\": \"white\", \"showbackground\": true, \"ticks\": \"\", \"zerolinecolor\": \"white\"}}, \"shapedefaults\": {\"line\": {\"color\": \"#2a3f5f\"}}, \"ternary\": {\"aaxis\": {\"gridcolor\": \"white\", \"linecolor\": \"white\", \"ticks\": \"\"}, \"baxis\": {\"gridcolor\": \"white\", \"linecolor\": \"white\", \"ticks\": \"\"}, \"bgcolor\": \"#E5ECF6\", \"caxis\": {\"gridcolor\": \"white\", \"linecolor\": \"white\", \"ticks\": \"\"}}, \"title\": {\"x\": 0.05}, \"xaxis\": {\"automargin\": true, \"gridcolor\": \"white\", \"linecolor\": \"white\", \"ticks\": \"\", \"title\": {\"standoff\": 15}, \"zerolinecolor\": \"white\", \"zerolinewidth\": 2}, \"yaxis\": {\"automargin\": true, \"gridcolor\": \"white\", \"linecolor\": \"white\", \"ticks\": \"\", \"title\": {\"standoff\": 15}, \"zerolinecolor\": \"white\", \"zerolinewidth\": 2}}}, \"title\": {\"text\": \"State costs of Hillary`s Campaign per registered voter\"}},                        {\"responsive\": true}                    ).then(function(){\n",
       "                            \n",
       "var gd = document.getElementById('ad080df9-51b3-43da-b08b-0da8f6e391d0');\n",
       "var x = new MutationObserver(function (mutations, observer) {{\n",
       "        var display = window.getComputedStyle(gd).display;\n",
       "        if (!display || display === 'none') {{\n",
       "            console.log([gd, 'removed!']);\n",
       "            Plotly.purge(gd);\n",
       "            observer.disconnect();\n",
       "        }}\n",
       "}});\n",
       "\n",
       "// Listen for the removal of the full notebook cells\n",
       "var notebookContainer = gd.closest('#notebook-container');\n",
       "if (notebookContainer) {{\n",
       "    x.observe(notebookContainer, {childList: true});\n",
       "}}\n",
       "\n",
       "// Listen for the clearing of the current output cell\n",
       "var outputEl = gd.closest('.output');\n",
       "if (outputEl) {{\n",
       "    x.observe(outputEl, {childList: true});\n",
       "}}\n",
       "\n",
       "                        })                };                });            </script>        </div>"
      ]
     },
     "metadata": {},
     "output_type": "display_data"
    }
   ],
   "source": [
    "fig2 = px.choropleth(notDCHillary,  # Input Pandas DataFrame\n",
    "                    locations=notDCHillary[\"STATE\"],  # DataFrame column with locations\n",
    "                    color=notDCHillary[\"COST_PER_VOTER\"],  # DataFrame column with color values\n",
    "                    hover_name=notDCHillary[\"TRANSACTION_AMT\"].astype(int), # DataFrame column hover info\n",
    "                    locationmode = 'USA-states') # Set to plot as US States\n",
    "fig2.update_layout(\n",
    "    title_text = 'State costs of Hillary`s Campaign per registered voter', # Create a Title\n",
    "    geo_scope='usa',  # Plot only the USA instead of globe\n",
    ")\n",
    "fig2.show()"
   ]
  },
  {
   "cell_type": "markdown",
   "metadata": {},
   "source": [
    "We can see a similar pattern as to where both candidates used their campaign budget. They have similar ammounts spent to <br>\n",
    "both the bigger states and each of them focusing a bigger budget percentage to some of the swing states <br>\n",
    "that makes us thing if they considered \"tradeoffs\" between who is getting which swing states."
   ]
  },
  {
   "cell_type": "code",
   "execution_count": null,
   "metadata": {},
   "outputs": [],
   "source": []
  }
 ],
 "metadata": {
  "kernelspec": {
   "display_name": "Python 3",
   "language": "python",
   "name": "python3"
  },
  "language_info": {
   "codemirror_mode": {
    "name": "ipython",
    "version": 3
   },
   "file_extension": ".py",
   "mimetype": "text/x-python",
   "name": "python",
   "nbconvert_exporter": "python",
   "pygments_lexer": "ipython3",
   "version": "3.7.4"
  }
 },
 "nbformat": 4,
 "nbformat_minor": 2
}
